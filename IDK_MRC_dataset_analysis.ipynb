{
  "nbformat": 4,
  "nbformat_minor": 0,
  "metadata": {
    "colab": {
      "provenance": []
    },
    "kernelspec": {
      "name": "python3",
      "display_name": "Python 3"
    },
    "language_info": {
      "name": "python"
    }
  },
  "cells": [
    {
      "cell_type": "code",
      "execution_count": null,
      "metadata": {
        "id": "1iJ1ZaPgFk2f"
      },
      "outputs": [],
      "source": [
        "!pip install -qqq transformers simpletransformers nltk stanza"
      ]
    },
    {
      "cell_type": "code",
      "source": [
        "from google.colab import drive\n",
        "drive.mount('/content/drive')"
      ],
      "metadata": {
        "id": "Q5XqVfvzFqjO"
      },
      "execution_count": null,
      "outputs": []
    },
    {
      "cell_type": "code",
      "source": [
        "!cp -r /content/drive/MyDrive/IDK-MRC/dataset ."
      ],
      "metadata": {
        "id": "JB7A2plNFsXi"
      },
      "execution_count": null,
      "outputs": []
    },
    {
      "cell_type": "code",
      "source": [
        "import argparse\n",
        "import json\n",
        "import os\n",
        "import pandas as pd\n",
        "import matplotlib.pyplot as plt\n",
        "import torch\n",
        "import wandb\n",
        "from transformers import AutoConfig, AutoModel, AutoTokenizer"
      ],
      "metadata": {
        "id": "Ad99686xGKCW"
      },
      "execution_count": null,
      "outputs": []
    },
    {
      "cell_type": "code",
      "source": [
        "DATA_DIR = \"dataset/idk_mrc\""
      ],
      "metadata": {
        "id": "tOjMCioSGNzB"
      },
      "execution_count": null,
      "outputs": []
    },
    {
      "cell_type": "code",
      "source": [
        "with open(os.path.join(DATA_DIR, \"train.json\"), \"r\") as f:\n",
        "    train = json.load(f)\n",
        "\n",
        "with open(os.path.join(DATA_DIR, \"valid.json\"), \"r\") as f:\n",
        "    valid = json.load(f)\n",
        "\n",
        "with open(os.path.join(DATA_DIR, \"test.json\"), \"r\") as f:\n",
        "    test = json.load(f)"
      ],
      "metadata": {
        "id": "o1LlFaTZGdGB"
      },
      "execution_count": null,
      "outputs": []
    },
    {
      "cell_type": "code",
      "source": [
        "type(train)"
      ],
      "metadata": {
        "colab": {
          "base_uri": "https://localhost:8080/"
        },
        "id": "2bG3kjMFGlc5",
        "outputId": "4aa54f03-3778-4804-bfab-2a449df2bb42"
      },
      "execution_count": null,
      "outputs": [
        {
          "output_type": "execute_result",
          "data": {
            "text/plain": [
              "list"
            ]
          },
          "metadata": {},
          "execution_count": 5
        }
      ]
    },
    {
      "cell_type": "code",
      "source": [
        "train[0]"
      ],
      "metadata": {
        "colab": {
          "base_uri": "https://localhost:8080/"
        },
        "id": "HiLfNPkOGsPa",
        "outputId": "f9804f9e-b1ed-4201-babc-9be1f6915e16"
      },
      "execution_count": null,
      "outputs": [
        {
          "output_type": "execute_result",
          "data": {
            "text/plain": [
              "{'context': 'Douwes Dekker terlahir di Pasuruan, Jawa Timur, pada tanggal 8 Oktober 1879, sebagaimana yang dia tulis pada riwayat hidup singkat saat mendaftar di Universitas Zurich, September 1913. Ayahnya, Auguste Henri Edoeard Douwes Dekker, adalah seorang agen di bank kelas kakap Nederlandsch Indisch Escomptobank. Auguste ayahnya, memiliki darah Belanda dari ayahnya, Jan (adik Eduard Douwes Dekker) dan dari ibunya, Louise Bousquet. Sementara itu, ibu Douwes Dekker, Louisa Neumann, lahir di Pekalongan, Jawa Tengah, dari pasangan Jerman-Jawa.[1] Dia terlahir sebagai anak ke-3 dari 4 bersaudara, dan keluarganya pun sering berpindah-pindah. Saudaranya yang perempuan dan laki-laki, yakni Adeline (1876) dan Julius (1878) terlahir sewaktu keluarga Dekker berada di Surabaya, dan adik laki-lakinya lahir di Meester Cornelis, Batavia (sekarang Jatinegara, Jakarta Timur pada tahun 1883. Dari situ, keluarga Dekker berpindah lagi ke Pegangsaan, Jakarta Pusat.[1]',\n",
              " 'qas': [{'id': 'indonesian-1653118927826418646-2',\n",
              "   'is_impossible': False,\n",
              "   'question': 'dimanakah  Dr. Ernest François Eugène Douwes Dekker dilahirkan?',\n",
              "   'answers': [{'text': 'Pasuruan, Jawa Timur', 'answer_start': 26}]},\n",
              "  {'id': 'indonesian-2988585593205955820-unans-h-2',\n",
              "   'is_impossible': True,\n",
              "   'question': 'di manakah  Dr. Ernest François Eugène Douwes Dekker meninggal?',\n",
              "   'answers': []}]}"
            ]
          },
          "metadata": {},
          "execution_count": 6
        }
      ]
    },
    {
      "cell_type": "code",
      "source": [
        "train_flatten = []\n",
        "for sample in train:\n",
        "    context = sample['context']\n",
        "    for qas in sample['qas']:\n",
        "        qas.update({'context': context})\n",
        "        train_flatten.append(qas)"
      ],
      "metadata": {
        "id": "A23Jy6o1Gwh5"
      },
      "execution_count": null,
      "outputs": []
    },
    {
      "cell_type": "code",
      "source": [
        "valid_flatten = []\n",
        "for sample in valid:\n",
        "    context = sample['context']\n",
        "    for qas in sample['qas']:\n",
        "        qas.update({'context': context})\n",
        "        valid_flatten.append(qas)"
      ],
      "metadata": {
        "id": "q1km2yqxIXdi"
      },
      "execution_count": null,
      "outputs": []
    },
    {
      "cell_type": "code",
      "source": [
        "test_flatten = []\n",
        "for sample in test:\n",
        "    context = sample['context']\n",
        "    for qas in sample['qas']:\n",
        "        qas.update({'context': context})\n",
        "        test_flatten.append(qas)"
      ],
      "metadata": {
        "id": "sSChhXTsIX33"
      },
      "execution_count": null,
      "outputs": []
    },
    {
      "cell_type": "code",
      "source": [
        "len(train_flatten)"
      ],
      "metadata": {
        "colab": {
          "base_uri": "https://localhost:8080/"
        },
        "id": "g_CW97bpIQAQ",
        "outputId": "15254ccc-99b7-47e3-ab14-3cea977d5503"
      },
      "execution_count": null,
      "outputs": [
        {
          "output_type": "execute_result",
          "data": {
            "text/plain": [
              "9332"
            ]
          },
          "metadata": {},
          "execution_count": 10
        }
      ]
    },
    {
      "cell_type": "code",
      "source": [
        "d_train = pd.DataFrame(train_flatten)\n",
        "d_valid = pd.DataFrame(valid_flatten)\n",
        "d_test = pd.DataFrame(test_flatten)"
      ],
      "metadata": {
        "id": "JtbHY1oTHSuj"
      },
      "execution_count": null,
      "outputs": []
    },
    {
      "cell_type": "code",
      "source": [
        "d_train.head()"
      ],
      "metadata": {
        "colab": {
          "base_uri": "https://localhost:8080/",
          "height": 424
        },
        "id": "BawOkbhCHsgr",
        "outputId": "092d9ffd-3fa1-4333-e3ab-95d0a5ffc569"
      },
      "execution_count": null,
      "outputs": [
        {
          "output_type": "execute_result",
          "data": {
            "text/plain": [
              "                                         id  is_impossible  \\\n",
              "0          indonesian-1653118927826418646-2          False   \n",
              "1  indonesian-2988585593205955820-unans-h-2           True   \n",
              "2         indonesian--6681782391154035358-9          False   \n",
              "3  indonesian-7178095139251802211-unans-h-2           True   \n",
              "4         indonesian--7923158717065963850-0          False   \n",
              "\n",
              "                                            question  \\\n",
              "0  dimanakah  Dr. Ernest François Eugène Douwes D...   \n",
              "1  di manakah  Dr. Ernest François Eugène Douwes ...   \n",
              "2                        Kapan PBB mulai terbentuk ?   \n",
              "3                              Kapan PBB dibubarkan?   \n",
              "4                              Siapakah pendiri PBB?   \n",
              "\n",
              "                                             answers  \\\n",
              "0  [{'text': 'Pasuruan, Jawa Timur', 'answer_star...   \n",
              "1                                                 []   \n",
              "2  [{'text': '24 Oktober 1945', 'answer_start': 3...   \n",
              "3                                                 []   \n",
              "4  [{'text': '51 negara anggota', 'answer_start':...   \n",
              "\n",
              "                                             context  \n",
              "0  Douwes Dekker terlahir di Pasuruan, Jawa Timur...  \n",
              "1  Douwes Dekker terlahir di Pasuruan, Jawa Timur...  \n",
              "2  Sebagai tindak lanjut Atlantic Charter tersebu...  \n",
              "3  Sebagai tindak lanjut Atlantic Charter tersebu...  \n",
              "4  Perserikatan Bangsa-Bangsa (PBB, English: Unit...  "
            ],
            "text/html": [
              "\n",
              "  <div id=\"df-231fc92f-c0f1-42dd-ab42-4b8ac8e9348c\">\n",
              "    <div class=\"colab-df-container\">\n",
              "      <div>\n",
              "<style scoped>\n",
              "    .dataframe tbody tr th:only-of-type {\n",
              "        vertical-align: middle;\n",
              "    }\n",
              "\n",
              "    .dataframe tbody tr th {\n",
              "        vertical-align: top;\n",
              "    }\n",
              "\n",
              "    .dataframe thead th {\n",
              "        text-align: right;\n",
              "    }\n",
              "</style>\n",
              "<table border=\"1\" class=\"dataframe\">\n",
              "  <thead>\n",
              "    <tr style=\"text-align: right;\">\n",
              "      <th></th>\n",
              "      <th>id</th>\n",
              "      <th>is_impossible</th>\n",
              "      <th>question</th>\n",
              "      <th>answers</th>\n",
              "      <th>context</th>\n",
              "    </tr>\n",
              "  </thead>\n",
              "  <tbody>\n",
              "    <tr>\n",
              "      <th>0</th>\n",
              "      <td>indonesian-1653118927826418646-2</td>\n",
              "      <td>False</td>\n",
              "      <td>dimanakah  Dr. Ernest François Eugène Douwes D...</td>\n",
              "      <td>[{'text': 'Pasuruan, Jawa Timur', 'answer_star...</td>\n",
              "      <td>Douwes Dekker terlahir di Pasuruan, Jawa Timur...</td>\n",
              "    </tr>\n",
              "    <tr>\n",
              "      <th>1</th>\n",
              "      <td>indonesian-2988585593205955820-unans-h-2</td>\n",
              "      <td>True</td>\n",
              "      <td>di manakah  Dr. Ernest François Eugène Douwes ...</td>\n",
              "      <td>[]</td>\n",
              "      <td>Douwes Dekker terlahir di Pasuruan, Jawa Timur...</td>\n",
              "    </tr>\n",
              "    <tr>\n",
              "      <th>2</th>\n",
              "      <td>indonesian--6681782391154035358-9</td>\n",
              "      <td>False</td>\n",
              "      <td>Kapan PBB mulai terbentuk ?</td>\n",
              "      <td>[{'text': '24 Oktober 1945', 'answer_start': 3...</td>\n",
              "      <td>Sebagai tindak lanjut Atlantic Charter tersebu...</td>\n",
              "    </tr>\n",
              "    <tr>\n",
              "      <th>3</th>\n",
              "      <td>indonesian-7178095139251802211-unans-h-2</td>\n",
              "      <td>True</td>\n",
              "      <td>Kapan PBB dibubarkan?</td>\n",
              "      <td>[]</td>\n",
              "      <td>Sebagai tindak lanjut Atlantic Charter tersebu...</td>\n",
              "    </tr>\n",
              "    <tr>\n",
              "      <th>4</th>\n",
              "      <td>indonesian--7923158717065963850-0</td>\n",
              "      <td>False</td>\n",
              "      <td>Siapakah pendiri PBB?</td>\n",
              "      <td>[{'text': '51 negara anggota', 'answer_start':...</td>\n",
              "      <td>Perserikatan Bangsa-Bangsa (PBB, English: Unit...</td>\n",
              "    </tr>\n",
              "  </tbody>\n",
              "</table>\n",
              "</div>\n",
              "      <button class=\"colab-df-convert\" onclick=\"convertToInteractive('df-231fc92f-c0f1-42dd-ab42-4b8ac8e9348c')\"\n",
              "              title=\"Convert this dataframe to an interactive table.\"\n",
              "              style=\"display:none;\">\n",
              "        \n",
              "  <svg xmlns=\"http://www.w3.org/2000/svg\" height=\"24px\"viewBox=\"0 0 24 24\"\n",
              "       width=\"24px\">\n",
              "    <path d=\"M0 0h24v24H0V0z\" fill=\"none\"/>\n",
              "    <path d=\"M18.56 5.44l.94 2.06.94-2.06 2.06-.94-2.06-.94-.94-2.06-.94 2.06-2.06.94zm-11 1L8.5 8.5l.94-2.06 2.06-.94-2.06-.94L8.5 2.5l-.94 2.06-2.06.94zm10 10l.94 2.06.94-2.06 2.06-.94-2.06-.94-.94-2.06-.94 2.06-2.06.94z\"/><path d=\"M17.41 7.96l-1.37-1.37c-.4-.4-.92-.59-1.43-.59-.52 0-1.04.2-1.43.59L10.3 9.45l-7.72 7.72c-.78.78-.78 2.05 0 2.83L4 21.41c.39.39.9.59 1.41.59.51 0 1.02-.2 1.41-.59l7.78-7.78 2.81-2.81c.8-.78.8-2.07 0-2.86zM5.41 20L4 18.59l7.72-7.72 1.47 1.35L5.41 20z\"/>\n",
              "  </svg>\n",
              "      </button>\n",
              "      \n",
              "  <style>\n",
              "    .colab-df-container {\n",
              "      display:flex;\n",
              "      flex-wrap:wrap;\n",
              "      gap: 12px;\n",
              "    }\n",
              "\n",
              "    .colab-df-convert {\n",
              "      background-color: #E8F0FE;\n",
              "      border: none;\n",
              "      border-radius: 50%;\n",
              "      cursor: pointer;\n",
              "      display: none;\n",
              "      fill: #1967D2;\n",
              "      height: 32px;\n",
              "      padding: 0 0 0 0;\n",
              "      width: 32px;\n",
              "    }\n",
              "\n",
              "    .colab-df-convert:hover {\n",
              "      background-color: #E2EBFA;\n",
              "      box-shadow: 0px 1px 2px rgba(60, 64, 67, 0.3), 0px 1px 3px 1px rgba(60, 64, 67, 0.15);\n",
              "      fill: #174EA6;\n",
              "    }\n",
              "\n",
              "    [theme=dark] .colab-df-convert {\n",
              "      background-color: #3B4455;\n",
              "      fill: #D2E3FC;\n",
              "    }\n",
              "\n",
              "    [theme=dark] .colab-df-convert:hover {\n",
              "      background-color: #434B5C;\n",
              "      box-shadow: 0px 1px 3px 1px rgba(0, 0, 0, 0.15);\n",
              "      filter: drop-shadow(0px 1px 2px rgba(0, 0, 0, 0.3));\n",
              "      fill: #FFFFFF;\n",
              "    }\n",
              "  </style>\n",
              "\n",
              "      <script>\n",
              "        const buttonEl =\n",
              "          document.querySelector('#df-231fc92f-c0f1-42dd-ab42-4b8ac8e9348c button.colab-df-convert');\n",
              "        buttonEl.style.display =\n",
              "          google.colab.kernel.accessAllowed ? 'block' : 'none';\n",
              "\n",
              "        async function convertToInteractive(key) {\n",
              "          const element = document.querySelector('#df-231fc92f-c0f1-42dd-ab42-4b8ac8e9348c');\n",
              "          const dataTable =\n",
              "            await google.colab.kernel.invokeFunction('convertToInteractive',\n",
              "                                                     [key], {});\n",
              "          if (!dataTable) return;\n",
              "\n",
              "          const docLinkHtml = 'Like what you see? Visit the ' +\n",
              "            '<a target=\"_blank\" href=https://colab.research.google.com/notebooks/data_table.ipynb>data table notebook</a>'\n",
              "            + ' to learn more about interactive tables.';\n",
              "          element.innerHTML = '';\n",
              "          dataTable['output_type'] = 'display_data';\n",
              "          await google.colab.output.renderOutput(dataTable, element);\n",
              "          const docLink = document.createElement('div');\n",
              "          docLink.innerHTML = docLinkHtml;\n",
              "          element.appendChild(docLink);\n",
              "        }\n",
              "      </script>\n",
              "    </div>\n",
              "  </div>\n",
              "  "
            ]
          },
          "metadata": {},
          "execution_count": 12
        }
      ]
    },
    {
      "cell_type": "code",
      "source": [
        "d_valid.head()"
      ],
      "metadata": {
        "colab": {
          "base_uri": "https://localhost:8080/",
          "height": 424
        },
        "id": "IENDZr_jIMTf",
        "outputId": "0ae3cc06-639c-4197-a224-a6bd3486d061"
      },
      "execution_count": null,
      "outputs": [
        {
          "output_type": "execute_result",
          "data": {
            "text/plain": [
              "                                            id  is_impossible  \\\n",
              "0              indonesian-455106851360971978-0          False   \n",
              "1            indonesian--1312965901076079633-5          False   \n",
              "2  indonesian--1312965901076079633-5-unans-m-1           True   \n",
              "3             indonesian-7819026179506588734-0          False   \n",
              "4     indonesian-5582359985109511611-unans-h-2           True   \n",
              "\n",
              "                                            question  \\\n",
              "0                          Apa kepanjangan dari GPS?   \n",
              "1  Apakah Cabang ilmu pengetahuan alam yang mempe...   \n",
              "2  Apa Cabang ilmu pengetahuan alam yang tidak me...   \n",
              "3           Apakah maksud reptil dalam bahasa Latin?   \n",
              "4     Apakah maksud reptil ganas dalam bahasa Latin?   \n",
              "\n",
              "                                             answers  \\\n",
              "0  [{'text': 'Global Positioning System', 'answer...   \n",
              "1     [{'text': 'herpetologi', 'answer_start': 250}]   \n",
              "2                                                 []   \n",
              "3  [{'text': ''melata' atau 'merayap'', 'answer_s...   \n",
              "4                                                 []   \n",
              "\n",
              "                                             context  \n",
              "0  Sistem Pemosisi Global [1] (bahasa Inggris: Gl...  \n",
              "1  Ukuran reptil bervariasi, dari yang berukuran ...  \n",
              "2  Ukuran reptil bervariasi, dari yang berukuran ...  \n",
              "3  Reptil (binatang melata, atau dalam bahasa Lat...  \n",
              "4  Reptil (binatang melata, atau dalam bahasa Lat...  "
            ],
            "text/html": [
              "\n",
              "  <div id=\"df-6cc3afa0-6bf4-4741-8ec8-d91a1d029430\">\n",
              "    <div class=\"colab-df-container\">\n",
              "      <div>\n",
              "<style scoped>\n",
              "    .dataframe tbody tr th:only-of-type {\n",
              "        vertical-align: middle;\n",
              "    }\n",
              "\n",
              "    .dataframe tbody tr th {\n",
              "        vertical-align: top;\n",
              "    }\n",
              "\n",
              "    .dataframe thead th {\n",
              "        text-align: right;\n",
              "    }\n",
              "</style>\n",
              "<table border=\"1\" class=\"dataframe\">\n",
              "  <thead>\n",
              "    <tr style=\"text-align: right;\">\n",
              "      <th></th>\n",
              "      <th>id</th>\n",
              "      <th>is_impossible</th>\n",
              "      <th>question</th>\n",
              "      <th>answers</th>\n",
              "      <th>context</th>\n",
              "    </tr>\n",
              "  </thead>\n",
              "  <tbody>\n",
              "    <tr>\n",
              "      <th>0</th>\n",
              "      <td>indonesian-455106851360971978-0</td>\n",
              "      <td>False</td>\n",
              "      <td>Apa kepanjangan dari GPS?</td>\n",
              "      <td>[{'text': 'Global Positioning System', 'answer...</td>\n",
              "      <td>Sistem Pemosisi Global [1] (bahasa Inggris: Gl...</td>\n",
              "    </tr>\n",
              "    <tr>\n",
              "      <th>1</th>\n",
              "      <td>indonesian--1312965901076079633-5</td>\n",
              "      <td>False</td>\n",
              "      <td>Apakah Cabang ilmu pengetahuan alam yang mempe...</td>\n",
              "      <td>[{'text': 'herpetologi', 'answer_start': 250}]</td>\n",
              "      <td>Ukuran reptil bervariasi, dari yang berukuran ...</td>\n",
              "    </tr>\n",
              "    <tr>\n",
              "      <th>2</th>\n",
              "      <td>indonesian--1312965901076079633-5-unans-m-1</td>\n",
              "      <td>True</td>\n",
              "      <td>Apa Cabang ilmu pengetahuan alam yang tidak me...</td>\n",
              "      <td>[]</td>\n",
              "      <td>Ukuran reptil bervariasi, dari yang berukuran ...</td>\n",
              "    </tr>\n",
              "    <tr>\n",
              "      <th>3</th>\n",
              "      <td>indonesian-7819026179506588734-0</td>\n",
              "      <td>False</td>\n",
              "      <td>Apakah maksud reptil dalam bahasa Latin?</td>\n",
              "      <td>[{'text': ''melata' atau 'merayap'', 'answer_s...</td>\n",
              "      <td>Reptil (binatang melata, atau dalam bahasa Lat...</td>\n",
              "    </tr>\n",
              "    <tr>\n",
              "      <th>4</th>\n",
              "      <td>indonesian-5582359985109511611-unans-h-2</td>\n",
              "      <td>True</td>\n",
              "      <td>Apakah maksud reptil ganas dalam bahasa Latin?</td>\n",
              "      <td>[]</td>\n",
              "      <td>Reptil (binatang melata, atau dalam bahasa Lat...</td>\n",
              "    </tr>\n",
              "  </tbody>\n",
              "</table>\n",
              "</div>\n",
              "      <button class=\"colab-df-convert\" onclick=\"convertToInteractive('df-6cc3afa0-6bf4-4741-8ec8-d91a1d029430')\"\n",
              "              title=\"Convert this dataframe to an interactive table.\"\n",
              "              style=\"display:none;\">\n",
              "        \n",
              "  <svg xmlns=\"http://www.w3.org/2000/svg\" height=\"24px\"viewBox=\"0 0 24 24\"\n",
              "       width=\"24px\">\n",
              "    <path d=\"M0 0h24v24H0V0z\" fill=\"none\"/>\n",
              "    <path d=\"M18.56 5.44l.94 2.06.94-2.06 2.06-.94-2.06-.94-.94-2.06-.94 2.06-2.06.94zm-11 1L8.5 8.5l.94-2.06 2.06-.94-2.06-.94L8.5 2.5l-.94 2.06-2.06.94zm10 10l.94 2.06.94-2.06 2.06-.94-2.06-.94-.94-2.06-.94 2.06-2.06.94z\"/><path d=\"M17.41 7.96l-1.37-1.37c-.4-.4-.92-.59-1.43-.59-.52 0-1.04.2-1.43.59L10.3 9.45l-7.72 7.72c-.78.78-.78 2.05 0 2.83L4 21.41c.39.39.9.59 1.41.59.51 0 1.02-.2 1.41-.59l7.78-7.78 2.81-2.81c.8-.78.8-2.07 0-2.86zM5.41 20L4 18.59l7.72-7.72 1.47 1.35L5.41 20z\"/>\n",
              "  </svg>\n",
              "      </button>\n",
              "      \n",
              "  <style>\n",
              "    .colab-df-container {\n",
              "      display:flex;\n",
              "      flex-wrap:wrap;\n",
              "      gap: 12px;\n",
              "    }\n",
              "\n",
              "    .colab-df-convert {\n",
              "      background-color: #E8F0FE;\n",
              "      border: none;\n",
              "      border-radius: 50%;\n",
              "      cursor: pointer;\n",
              "      display: none;\n",
              "      fill: #1967D2;\n",
              "      height: 32px;\n",
              "      padding: 0 0 0 0;\n",
              "      width: 32px;\n",
              "    }\n",
              "\n",
              "    .colab-df-convert:hover {\n",
              "      background-color: #E2EBFA;\n",
              "      box-shadow: 0px 1px 2px rgba(60, 64, 67, 0.3), 0px 1px 3px 1px rgba(60, 64, 67, 0.15);\n",
              "      fill: #174EA6;\n",
              "    }\n",
              "\n",
              "    [theme=dark] .colab-df-convert {\n",
              "      background-color: #3B4455;\n",
              "      fill: #D2E3FC;\n",
              "    }\n",
              "\n",
              "    [theme=dark] .colab-df-convert:hover {\n",
              "      background-color: #434B5C;\n",
              "      box-shadow: 0px 1px 3px 1px rgba(0, 0, 0, 0.15);\n",
              "      filter: drop-shadow(0px 1px 2px rgba(0, 0, 0, 0.3));\n",
              "      fill: #FFFFFF;\n",
              "    }\n",
              "  </style>\n",
              "\n",
              "      <script>\n",
              "        const buttonEl =\n",
              "          document.querySelector('#df-6cc3afa0-6bf4-4741-8ec8-d91a1d029430 button.colab-df-convert');\n",
              "        buttonEl.style.display =\n",
              "          google.colab.kernel.accessAllowed ? 'block' : 'none';\n",
              "\n",
              "        async function convertToInteractive(key) {\n",
              "          const element = document.querySelector('#df-6cc3afa0-6bf4-4741-8ec8-d91a1d029430');\n",
              "          const dataTable =\n",
              "            await google.colab.kernel.invokeFunction('convertToInteractive',\n",
              "                                                     [key], {});\n",
              "          if (!dataTable) return;\n",
              "\n",
              "          const docLinkHtml = 'Like what you see? Visit the ' +\n",
              "            '<a target=\"_blank\" href=https://colab.research.google.com/notebooks/data_table.ipynb>data table notebook</a>'\n",
              "            + ' to learn more about interactive tables.';\n",
              "          element.innerHTML = '';\n",
              "          dataTable['output_type'] = 'display_data';\n",
              "          await google.colab.output.renderOutput(dataTable, element);\n",
              "          const docLink = document.createElement('div');\n",
              "          docLink.innerHTML = docLinkHtml;\n",
              "          element.appendChild(docLink);\n",
              "        }\n",
              "      </script>\n",
              "    </div>\n",
              "  </div>\n",
              "  "
            ]
          },
          "metadata": {},
          "execution_count": 13
        }
      ]
    },
    {
      "cell_type": "code",
      "source": [
        "d_test.head()"
      ],
      "metadata": {
        "colab": {
          "base_uri": "https://localhost:8080/",
          "height": 424
        },
        "id": "4UFY_r6uIqVk",
        "outputId": "e333b157-e4b2-4480-bf69-6ffb63a8453f"
      },
      "execution_count": null,
      "outputs": [
        {
          "output_type": "execute_result",
          "data": {
            "text/plain": [
              "                                         id  is_impossible  \\\n",
              "0         indonesian--5104646170401738836-2          False   \n",
              "1  indonesian-6216827355594812160-unans-h-2           True   \n",
              "2  indonesian-6528297441097904801-unans-h-2           True   \n",
              "3  indonesian-8272224502256244072-unans-h-2           True   \n",
              "4          indonesian-2447946428908350610-0          False   \n",
              "\n",
              "                                            question  \\\n",
              "0          Kapan Komputer mikro mulai dikembangkan ?   \n",
              "1           Kapan komputer mikro mulai ditinggalkan?   \n",
              "2  Kapan Komputer mikro mulai dikembangkan Amerik...   \n",
              "3           Kapan Komputer makro mulai dikembangkan?   \n",
              "4                      Apakah pengertian matronimik?   \n",
              "\n",
              "                                             answers  \\\n",
              "0            [{'text': '1959', 'answer_start': 194}]   \n",
              "1                                                 []   \n",
              "2                                                 []   \n",
              "3                                                 []   \n",
              "4  [{'text': 'Komomene sebuah nama yang berdasark...   \n",
              "\n",
              "                                             context  \n",
              "0  Ada beberapa inovasi dari GAN yang sedikit nga...  \n",
              "1  Ada beberapa inovasi dari GAN yang sedikit nga...  \n",
              "2  Ada beberapa inovasi dari GAN yang sedikit nga...  \n",
              "3  Ada beberapa inovasi dari GAN yang sedikit nga...  \n",
              "4  Patronim, atau patronimik, adalah sebuah kompo...  "
            ],
            "text/html": [
              "\n",
              "  <div id=\"df-80cb57d9-40db-4b0b-8f7d-e0303612c6b7\">\n",
              "    <div class=\"colab-df-container\">\n",
              "      <div>\n",
              "<style scoped>\n",
              "    .dataframe tbody tr th:only-of-type {\n",
              "        vertical-align: middle;\n",
              "    }\n",
              "\n",
              "    .dataframe tbody tr th {\n",
              "        vertical-align: top;\n",
              "    }\n",
              "\n",
              "    .dataframe thead th {\n",
              "        text-align: right;\n",
              "    }\n",
              "</style>\n",
              "<table border=\"1\" class=\"dataframe\">\n",
              "  <thead>\n",
              "    <tr style=\"text-align: right;\">\n",
              "      <th></th>\n",
              "      <th>id</th>\n",
              "      <th>is_impossible</th>\n",
              "      <th>question</th>\n",
              "      <th>answers</th>\n",
              "      <th>context</th>\n",
              "    </tr>\n",
              "  </thead>\n",
              "  <tbody>\n",
              "    <tr>\n",
              "      <th>0</th>\n",
              "      <td>indonesian--5104646170401738836-2</td>\n",
              "      <td>False</td>\n",
              "      <td>Kapan Komputer mikro mulai dikembangkan ?</td>\n",
              "      <td>[{'text': '1959', 'answer_start': 194}]</td>\n",
              "      <td>Ada beberapa inovasi dari GAN yang sedikit nga...</td>\n",
              "    </tr>\n",
              "    <tr>\n",
              "      <th>1</th>\n",
              "      <td>indonesian-6216827355594812160-unans-h-2</td>\n",
              "      <td>True</td>\n",
              "      <td>Kapan komputer mikro mulai ditinggalkan?</td>\n",
              "      <td>[]</td>\n",
              "      <td>Ada beberapa inovasi dari GAN yang sedikit nga...</td>\n",
              "    </tr>\n",
              "    <tr>\n",
              "      <th>2</th>\n",
              "      <td>indonesian-6528297441097904801-unans-h-2</td>\n",
              "      <td>True</td>\n",
              "      <td>Kapan Komputer mikro mulai dikembangkan Amerik...</td>\n",
              "      <td>[]</td>\n",
              "      <td>Ada beberapa inovasi dari GAN yang sedikit nga...</td>\n",
              "    </tr>\n",
              "    <tr>\n",
              "      <th>3</th>\n",
              "      <td>indonesian-8272224502256244072-unans-h-2</td>\n",
              "      <td>True</td>\n",
              "      <td>Kapan Komputer makro mulai dikembangkan?</td>\n",
              "      <td>[]</td>\n",
              "      <td>Ada beberapa inovasi dari GAN yang sedikit nga...</td>\n",
              "    </tr>\n",
              "    <tr>\n",
              "      <th>4</th>\n",
              "      <td>indonesian-2447946428908350610-0</td>\n",
              "      <td>False</td>\n",
              "      <td>Apakah pengertian matronimik?</td>\n",
              "      <td>[{'text': 'Komomene sebuah nama yang berdasark...</td>\n",
              "      <td>Patronim, atau patronimik, adalah sebuah kompo...</td>\n",
              "    </tr>\n",
              "  </tbody>\n",
              "</table>\n",
              "</div>\n",
              "      <button class=\"colab-df-convert\" onclick=\"convertToInteractive('df-80cb57d9-40db-4b0b-8f7d-e0303612c6b7')\"\n",
              "              title=\"Convert this dataframe to an interactive table.\"\n",
              "              style=\"display:none;\">\n",
              "        \n",
              "  <svg xmlns=\"http://www.w3.org/2000/svg\" height=\"24px\"viewBox=\"0 0 24 24\"\n",
              "       width=\"24px\">\n",
              "    <path d=\"M0 0h24v24H0V0z\" fill=\"none\"/>\n",
              "    <path d=\"M18.56 5.44l.94 2.06.94-2.06 2.06-.94-2.06-.94-.94-2.06-.94 2.06-2.06.94zm-11 1L8.5 8.5l.94-2.06 2.06-.94-2.06-.94L8.5 2.5l-.94 2.06-2.06.94zm10 10l.94 2.06.94-2.06 2.06-.94-2.06-.94-.94-2.06-.94 2.06-2.06.94z\"/><path d=\"M17.41 7.96l-1.37-1.37c-.4-.4-.92-.59-1.43-.59-.52 0-1.04.2-1.43.59L10.3 9.45l-7.72 7.72c-.78.78-.78 2.05 0 2.83L4 21.41c.39.39.9.59 1.41.59.51 0 1.02-.2 1.41-.59l7.78-7.78 2.81-2.81c.8-.78.8-2.07 0-2.86zM5.41 20L4 18.59l7.72-7.72 1.47 1.35L5.41 20z\"/>\n",
              "  </svg>\n",
              "      </button>\n",
              "      \n",
              "  <style>\n",
              "    .colab-df-container {\n",
              "      display:flex;\n",
              "      flex-wrap:wrap;\n",
              "      gap: 12px;\n",
              "    }\n",
              "\n",
              "    .colab-df-convert {\n",
              "      background-color: #E8F0FE;\n",
              "      border: none;\n",
              "      border-radius: 50%;\n",
              "      cursor: pointer;\n",
              "      display: none;\n",
              "      fill: #1967D2;\n",
              "      height: 32px;\n",
              "      padding: 0 0 0 0;\n",
              "      width: 32px;\n",
              "    }\n",
              "\n",
              "    .colab-df-convert:hover {\n",
              "      background-color: #E2EBFA;\n",
              "      box-shadow: 0px 1px 2px rgba(60, 64, 67, 0.3), 0px 1px 3px 1px rgba(60, 64, 67, 0.15);\n",
              "      fill: #174EA6;\n",
              "    }\n",
              "\n",
              "    [theme=dark] .colab-df-convert {\n",
              "      background-color: #3B4455;\n",
              "      fill: #D2E3FC;\n",
              "    }\n",
              "\n",
              "    [theme=dark] .colab-df-convert:hover {\n",
              "      background-color: #434B5C;\n",
              "      box-shadow: 0px 1px 3px 1px rgba(0, 0, 0, 0.15);\n",
              "      filter: drop-shadow(0px 1px 2px rgba(0, 0, 0, 0.3));\n",
              "      fill: #FFFFFF;\n",
              "    }\n",
              "  </style>\n",
              "\n",
              "      <script>\n",
              "        const buttonEl =\n",
              "          document.querySelector('#df-80cb57d9-40db-4b0b-8f7d-e0303612c6b7 button.colab-df-convert');\n",
              "        buttonEl.style.display =\n",
              "          google.colab.kernel.accessAllowed ? 'block' : 'none';\n",
              "\n",
              "        async function convertToInteractive(key) {\n",
              "          const element = document.querySelector('#df-80cb57d9-40db-4b0b-8f7d-e0303612c6b7');\n",
              "          const dataTable =\n",
              "            await google.colab.kernel.invokeFunction('convertToInteractive',\n",
              "                                                     [key], {});\n",
              "          if (!dataTable) return;\n",
              "\n",
              "          const docLinkHtml = 'Like what you see? Visit the ' +\n",
              "            '<a target=\"_blank\" href=https://colab.research.google.com/notebooks/data_table.ipynb>data table notebook</a>'\n",
              "            + ' to learn more about interactive tables.';\n",
              "          element.innerHTML = '';\n",
              "          dataTable['output_type'] = 'display_data';\n",
              "          await google.colab.output.renderOutput(dataTable, element);\n",
              "          const docLink = document.createElement('div');\n",
              "          docLink.innerHTML = docLinkHtml;\n",
              "          element.appendChild(docLink);\n",
              "        }\n",
              "      </script>\n",
              "    </div>\n",
              "  </div>\n",
              "  "
            ]
          },
          "metadata": {},
          "execution_count": 14
        }
      ]
    },
    {
      "cell_type": "code",
      "source": [
        "d_train['answers_text'] = d_train.answers.apply(lambda x: x[0]['text'] if len(x) else None)\n",
        "d_valid['answers_text'] = d_valid.answers.apply(lambda x: x[0]['text'] if len(x) else None)\n",
        "d_test['answers_text'] = d_test.answers.apply(lambda x: x[0]['text'] if len(x) else None)"
      ],
      "metadata": {
        "id": "ua135zewnBG1"
      },
      "execution_count": null,
      "outputs": []
    },
    {
      "cell_type": "code",
      "source": [
        "d_train.question"
      ],
      "metadata": {
        "colab": {
          "base_uri": "https://localhost:8080/"
        },
        "id": "bIJEgFEqIrGu",
        "outputId": "41baa7fa-d9c2-4cd9-b97b-eee24a4c3c54"
      },
      "execution_count": null,
      "outputs": [
        {
          "output_type": "execute_result",
          "data": {
            "text/plain": [
              "0       dimanakah  Dr. Ernest François Eugène Douwes D...\n",
              "1       di manakah  Dr. Ernest François Eugène Douwes ...\n",
              "2                             Kapan PBB mulai terbentuk ?\n",
              "3                                   Kapan PBB dibubarkan?\n",
              "4                                   Siapakah pendiri PBB?\n",
              "                              ...                        \n",
              "9327    Apa sebutan untuk posisi Matahari yang statis ...\n",
              "9328    Manusia perlu menyimpan dan membawa data-data ...\n",
              "9329    berapakah jumlah dialek bahasa Sunda yang tida...\n",
              "9330    berapakah jumlah dialek bahasa Sunda yang disa...\n",
              "9331              Kapan orangtua Kim Dae-jung dilahirkan?\n",
              "Name: question, Length: 9332, dtype: object"
            ]
          },
          "metadata": {},
          "execution_count": 16
        }
      ]
    },
    {
      "cell_type": "code",
      "source": [
        "tokenizer = AutoTokenizer.from_pretrained('xlm-roberta-base')"
      ],
      "metadata": {
        "id": "26hoE8vkK3Ma"
      },
      "execution_count": null,
      "outputs": []
    },
    {
      "cell_type": "code",
      "source": [
        "model = AutoModel.from_pretrained('xlm-roberta-base')"
      ],
      "metadata": {
        "colab": {
          "base_uri": "https://localhost:8080/"
        },
        "id": "dFKyfT-IMIXH",
        "outputId": "48f03e60-692a-4c5f-e557-4ac33ac21fe2"
      },
      "execution_count": null,
      "outputs": [
        {
          "output_type": "stream",
          "name": "stderr",
          "text": [
            "Some weights of the model checkpoint at xlm-roberta-base were not used when initializing XLMRobertaModel: ['lm_head.layer_norm.weight', 'lm_head.decoder.weight', 'lm_head.bias', 'lm_head.dense.weight', 'lm_head.dense.bias', 'lm_head.layer_norm.bias']\n",
            "- This IS expected if you are initializing XLMRobertaModel from the checkpoint of a model trained on another task or with another architecture (e.g. initializing a BertForSequenceClassification model from a BertForPreTraining model).\n",
            "- This IS NOT expected if you are initializing XLMRobertaModel from the checkpoint of a model that you expect to be exactly identical (initializing a BertForSequenceClassification model from a BertForSequenceClassification model).\n"
          ]
        }
      ]
    },
    {
      "cell_type": "code",
      "source": [
        "model.embeddings"
      ],
      "metadata": {
        "colab": {
          "base_uri": "https://localhost:8080/"
        },
        "id": "K3SpqNGNs44p",
        "outputId": "13f108ce-c218-492d-ee8f-7c80b4778d46"
      },
      "execution_count": null,
      "outputs": [
        {
          "output_type": "execute_result",
          "data": {
            "text/plain": [
              "XLMRobertaEmbeddings(\n",
              "  (word_embeddings): Embedding(250002, 768, padding_idx=1)\n",
              "  (position_embeddings): Embedding(514, 768, padding_idx=1)\n",
              "  (token_type_embeddings): Embedding(1, 768)\n",
              "  (LayerNorm): LayerNorm((768,), eps=1e-05, elementwise_affine=True)\n",
              "  (dropout): Dropout(p=0.1, inplace=False)\n",
              ")"
            ]
          },
          "metadata": {},
          "execution_count": 19
        }
      ]
    },
    {
      "cell_type": "code",
      "source": [
        "embedding_weight = model.embeddings.word_embeddings.weight\n",
        "position_weight = model.embeddings.position_embeddings.weight"
      ],
      "metadata": {
        "id": "AG-Va3ywMvPU"
      },
      "execution_count": null,
      "outputs": []
    },
    {
      "cell_type": "code",
      "source": [
        "embedding_weight.shape"
      ],
      "metadata": {
        "colab": {
          "base_uri": "https://localhost:8080/"
        },
        "id": "t6dQx3R1NIrt",
        "outputId": "3d6b45ba-ccdb-4d16-f3e6-663b5dfff110"
      },
      "execution_count": null,
      "outputs": [
        {
          "output_type": "execute_result",
          "data": {
            "text/plain": [
              "torch.Size([250002, 768])"
            ]
          },
          "metadata": {},
          "execution_count": 21
        }
      ]
    },
    {
      "cell_type": "code",
      "source": [
        "d_train.loc[0, 'question']"
      ],
      "metadata": {
        "colab": {
          "base_uri": "https://localhost:8080/",
          "height": 35
        },
        "id": "NVLn4GfCq8Oy",
        "outputId": "52f280ba-3699-4f71-8201-d2996d752be2"
      },
      "execution_count": null,
      "outputs": [
        {
          "output_type": "execute_result",
          "data": {
            "text/plain": [
              "'dimanakah  Dr. Ernest François Eugène Douwes Dekker dilahirkan?'"
            ],
            "application/vnd.google.colaboratory.intrinsic+json": {
              "type": "string"
            }
          },
          "metadata": {},
          "execution_count": 22
        }
      ]
    },
    {
      "cell_type": "code",
      "source": [
        "d_train.loc[9330, 'question']"
      ],
      "metadata": {
        "colab": {
          "base_uri": "https://localhost:8080/",
          "height": 35
        },
        "id": "fIIS6m0Iq9zv",
        "outputId": "48cd15e9-cf0f-48b2-caf7-0a9ec1a27478"
      },
      "execution_count": null,
      "outputs": [
        {
          "output_type": "execute_result",
          "data": {
            "text/plain": [
              "'berapakah jumlah dialek bahasa Sunda yang disamakan oleh para ahli?'"
            ],
            "application/vnd.google.colaboratory.intrinsic+json": {
              "type": "string"
            }
          },
          "metadata": {},
          "execution_count": 23
        }
      ]
    },
    {
      "cell_type": "code",
      "source": [
        "question_token_1 = tokenizer.encode(d_train.loc[0, 'question'])\n",
        "question_token_2 = tokenizer.encode(d_train.loc[9330, 'question'])"
      ],
      "metadata": {
        "id": "EF5kyhHeNQ-B"
      },
      "execution_count": null,
      "outputs": []
    },
    {
      "cell_type": "code",
      "source": [
        "print(question_token_1)\n",
        "print(question_token_2)"
      ],
      "metadata": {
        "colab": {
          "base_uri": "https://localhost:8080/"
        },
        "id": "EBuFN7iDNSoD",
        "outputId": "690b6cd6-fcc9-4a63-e392-7c619916e0f2"
      },
      "execution_count": null,
      "outputs": [
        {
          "output_type": "stream",
          "name": "stdout",
          "text": [
            "[0, 29423, 6577, 1773, 5, 101985, 115065, 5177, 134725, 984, 36648, 7, 262, 6850, 190543, 32, 2]\n",
            "[0, 770, 180546, 19836, 879, 5663, 16639, 96155, 119, 6392, 54082, 1628, 121, 16154, 32, 2]\n"
          ]
        }
      ]
    },
    {
      "cell_type": "code",
      "source": [
        "token_pos_1 = torch.arange(len(question_token_1))\n",
        "token_pos_2 = torch.arange(len(question_token_2))"
      ],
      "metadata": {
        "id": "w6vYuBYotTjb"
      },
      "execution_count": null,
      "outputs": []
    },
    {
      "cell_type": "code",
      "source": [
        "question_weight_1 = embedding_weight[question_token_1, :] + position_weight[token_pos_1, :]\n",
        "question_weight_2 = embedding_weight[question_token_2, :] + position_weight[token_pos_2, :]"
      ],
      "metadata": {
        "id": "wjPkL9OeNhFt"
      },
      "execution_count": null,
      "outputs": []
    },
    {
      "cell_type": "code",
      "source": [
        "question_weight_1"
      ],
      "metadata": {
        "colab": {
          "base_uri": "https://localhost:8080/"
        },
        "id": "ESngp3x-sE8G",
        "outputId": "ba839db9-8bde-4a40-d37d-f7ae3c5ed713"
      },
      "execution_count": null,
      "outputs": [
        {
          "output_type": "execute_result",
          "data": {
            "text/plain": [
              "tensor([[ 0.2208,  0.1436,  0.1536,  ...,  0.1413,  0.1600,  0.0382],\n",
              "        [ 0.2537,  0.0410, -0.0977,  ...,  0.2385,  0.3938,  0.3076],\n",
              "        [-0.0950, -0.0718, -0.3661,  ..., -0.0674, -0.3646,  0.1179],\n",
              "        ...,\n",
              "        [ 0.2345,  0.0535, -0.0596,  ...,  0.2443, -0.0395, -0.2419],\n",
              "        [ 0.0591,  0.2560,  0.0218,  ...,  0.2730, -0.0263,  0.3835],\n",
              "        [ 0.1938,  0.2835,  0.1067,  ...,  0.1169, -0.0145,  0.1633]],\n",
              "       grad_fn=<AddBackward0>)"
            ]
          },
          "metadata": {},
          "execution_count": 28
        }
      ]
    },
    {
      "cell_type": "code",
      "source": [
        "question_weight_2.sum()"
      ],
      "metadata": {
        "colab": {
          "base_uri": "https://localhost:8080/"
        },
        "id": "M4-AnfrmsG70",
        "outputId": "5dc7b879-664c-49a6-d425-46005f85b672"
      },
      "execution_count": null,
      "outputs": [
        {
          "output_type": "execute_result",
          "data": {
            "text/plain": [
              "tensor(391.3256, grad_fn=<SumBackward0>)"
            ]
          },
          "metadata": {},
          "execution_count": 29
        }
      ]
    },
    {
      "cell_type": "code",
      "source": [
        "q_weight_mean_1 = question_weight_1.sum(axis=0)\n",
        "q_weight_mean_2 = question_weight_2.sum(axis=0)"
      ],
      "metadata": {
        "id": "HmwPyiu6NaSa"
      },
      "execution_count": null,
      "outputs": []
    },
    {
      "cell_type": "code",
      "source": [
        "q_weight_mean_1 = q_weight_mean_1.unsqueeze(dim=0)\n",
        "q_weight_mean_2 = q_weight_mean_2.unsqueeze(dim=0)"
      ],
      "metadata": {
        "id": "plpjPhC5riA3"
      },
      "execution_count": null,
      "outputs": []
    },
    {
      "cell_type": "code",
      "source": [
        "torch.nn.functional.cosine_similarity(q_weight_mean_1, q_weight_mean_2)"
      ],
      "metadata": {
        "id": "ji9tMYPtNqD_",
        "colab": {
          "base_uri": "https://localhost:8080/"
        },
        "outputId": "b38c5869-5b5d-413e-f3db-fde5403ee334"
      },
      "execution_count": null,
      "outputs": [
        {
          "output_type": "execute_result",
          "data": {
            "text/plain": [
              "tensor([0.8828], grad_fn=<SumBackward1>)"
            ]
          },
          "metadata": {},
          "execution_count": 32
        }
      ]
    },
    {
      "cell_type": "code",
      "source": [
        "def get_embedding(question):\n",
        "    token = tokenizer.encode(question)\n",
        "    weight = embedding_weight[token, :]\n",
        "    mean_weight = weight.mean(dim=0)\n",
        "\n",
        "    return mean_weight"
      ],
      "metadata": {
        "id": "6HD8O3_tqC1U"
      },
      "execution_count": null,
      "outputs": []
    },
    {
      "cell_type": "code",
      "source": [
        "train_embedding = torch.zeros(len(d_train), 768)\n",
        "for idx, question in enumerate(d_train.question):\n",
        "    q_embed = get_embedding(question)\n",
        "    train_embedding[idx, :] = q_embed"
      ],
      "metadata": {
        "id": "HFcZm9Gcw4Jp"
      },
      "execution_count": null,
      "outputs": []
    },
    {
      "cell_type": "code",
      "source": [
        "test_embedding = torch.zeros(len(d_test), 768)\n",
        "for idx, question in enumerate(d_test.question):\n",
        "    q_embed = get_embedding(question)\n",
        "    test_embedding[idx, :] = q_embed"
      ],
      "metadata": {
        "id": "LpbcXuppCiIh"
      },
      "execution_count": null,
      "outputs": []
    },
    {
      "cell_type": "code",
      "source": [
        "train_embedding.shape"
      ],
      "metadata": {
        "colab": {
          "base_uri": "https://localhost:8080/"
        },
        "id": "N02eUx07DH92",
        "outputId": "0c3b55b7-8be0-4f15-a9dc-5f7a43bd017a"
      },
      "execution_count": null,
      "outputs": [
        {
          "output_type": "execute_result",
          "data": {
            "text/plain": [
              "torch.Size([9332, 768])"
            ]
          },
          "metadata": {},
          "execution_count": 61
        }
      ]
    },
    {
      "cell_type": "code",
      "source": [
        "test_embedding.shape"
      ],
      "metadata": {
        "colab": {
          "base_uri": "https://localhost:8080/"
        },
        "id": "9YU0xmQqDJEw",
        "outputId": "4ecbaa13-fee4-47b9-de57-50ce1abf78fc"
      },
      "execution_count": null,
      "outputs": [
        {
          "output_type": "execute_result",
          "data": {
            "text/plain": [
              "torch.Size([844, 768])"
            ]
          },
          "metadata": {},
          "execution_count": 62
        }
      ]
    },
    {
      "cell_type": "code",
      "source": [
        "all_embed = torch.concat((train_embedding, test_embedding), dim=0)"
      ],
      "metadata": {
        "id": "b4FHA69mDVgv"
      },
      "execution_count": null,
      "outputs": []
    },
    {
      "cell_type": "code",
      "source": [
        "all_embed.shape"
      ],
      "metadata": {
        "colab": {
          "base_uri": "https://localhost:8080/"
        },
        "id": "wQNvNRzDDZfU",
        "outputId": "b4d0a898-cff5-47be-e921-931cf0007b2d"
      },
      "execution_count": null,
      "outputs": [
        {
          "output_type": "execute_result",
          "data": {
            "text/plain": [
              "torch.Size([10176, 768])"
            ]
          },
          "metadata": {},
          "execution_count": 66
        }
      ]
    },
    {
      "cell_type": "code",
      "source": [
        "from sklearn.decomposition import PCA"
      ],
      "metadata": {
        "id": "1k1hVCbqDKgH"
      },
      "execution_count": null,
      "outputs": []
    },
    {
      "cell_type": "code",
      "source": [
        "pca_model = PCA(n_components=2)"
      ],
      "metadata": {
        "id": "CdSGxgVnDU8_"
      },
      "execution_count": null,
      "outputs": []
    },
    {
      "cell_type": "code",
      "source": [
        "pca_model.fit(all_embed.detach().numpy())"
      ],
      "metadata": {
        "colab": {
          "base_uri": "https://localhost:8080/"
        },
        "id": "7DLklqqMDTCH",
        "outputId": "cc063518-00b5-4b23-cc4f-7bba97ba5026"
      },
      "execution_count": null,
      "outputs": [
        {
          "output_type": "execute_result",
          "data": {
            "text/plain": [
              "PCA(n_components=2)"
            ]
          },
          "metadata": {},
          "execution_count": 69
        }
      ]
    },
    {
      "cell_type": "code",
      "source": [
        "train_pca = pca_model.transform(train_embedding.detach().numpy())"
      ],
      "metadata": {
        "id": "EiYP7Ta5Dkhc"
      },
      "execution_count": null,
      "outputs": []
    },
    {
      "cell_type": "code",
      "source": [
        "train_pca.shape"
      ],
      "metadata": {
        "colab": {
          "base_uri": "https://localhost:8080/"
        },
        "id": "BDPhOB0TDsBf",
        "outputId": "7ba0ebf6-6fe9-4276-b58c-e5fe5413a474"
      },
      "execution_count": null,
      "outputs": [
        {
          "output_type": "execute_result",
          "data": {
            "text/plain": [
              "(9332, 2)"
            ]
          },
          "metadata": {},
          "execution_count": 72
        }
      ]
    },
    {
      "cell_type": "code",
      "source": [
        "test_pca = pca_model.transform(test_embedding.detach().numpy())"
      ],
      "metadata": {
        "id": "oAYRikOeDvFW"
      },
      "execution_count": null,
      "outputs": []
    },
    {
      "cell_type": "code",
      "source": [
        "train_pca[0]"
      ],
      "metadata": {
        "colab": {
          "base_uri": "https://localhost:8080/"
        },
        "id": "bycTt_rtEcR-",
        "outputId": "595011fb-e759-4944-8045-925ad428b1d7"
      },
      "execution_count": null,
      "outputs": [
        {
          "output_type": "execute_result",
          "data": {
            "text/plain": [
              "array([-0.42300907, -0.00902689], dtype=float32)"
            ]
          },
          "metadata": {},
          "execution_count": 83
        }
      ]
    },
    {
      "cell_type": "code",
      "source": [
        "plt.scatter(x=train_pca[:,0], y=train_pca[:,1])\n",
        "plt.scatter(x=test_pca[:,0], y=test_pca[:,1])"
      ],
      "metadata": {
        "colab": {
          "base_uri": "https://localhost:8080/",
          "height": 282
        },
        "id": "j8_QEBVlD8aU",
        "outputId": "5d177a0e-8026-43d4-b390-8e046dddc1ad"
      },
      "execution_count": null,
      "outputs": [
        {
          "output_type": "execute_result",
          "data": {
            "text/plain": [
              "<matplotlib.collections.PathCollection at 0x7ff71123a910>"
            ]
          },
          "metadata": {},
          "execution_count": 85
        },
        {
          "output_type": "display_data",
          "data": {
            "text/plain": [
              "<Figure size 432x288 with 1 Axes>"
            ],
            "image/png": "[encoded data removed]"
          },
          "metadata": {
            "needs_background": "light"
          }
        }
      ]
    },
    {
      "cell_type": "code",
      "source": [
        "train_embedding"
      ],
      "metadata": {
        "colab": {
          "base_uri": "https://localhost:8080/"
        },
        "id": "wC3ltg71EYyt",
        "outputId": "e181a6a4-73ce-4971-b4b9-610d6af50cd4"
      },
      "execution_count": null,
      "outputs": [
        {
          "output_type": "execute_result",
          "data": {
            "text/plain": [
              "tensor([[ 0.1177,  0.0598,  0.1033,  ...,  0.1197, -0.0255,  0.1829],\n",
              "        [ 0.1151,  0.0820,  0.1135,  ...,  0.1003, -0.0397,  0.2041],\n",
              "        [ 0.1254,  0.1803, -0.0210,  ...,  0.1767,  0.0847,  0.1980],\n",
              "        ...,\n",
              "        [ 0.1489,  0.1083,  0.0368,  ...,  0.0958,  0.0255,  0.1435],\n",
              "        [ 0.1451,  0.1024,  0.0423,  ...,  0.0979,  0.0091,  0.1378],\n",
              "        [ 0.1681,  0.1086,  0.1004,  ...,  0.1933,  0.0435,  0.1709]],\n",
              "       grad_fn=<CopySlices>)"
            ]
          },
          "metadata": {},
          "execution_count": 86
        }
      ]
    },
    {
      "cell_type": "code",
      "source": [
        "test_embedding"
      ],
      "metadata": {
        "colab": {
          "base_uri": "https://localhost:8080/"
        },
        "id": "_6SDNyK0Eyca",
        "outputId": "f88805a1-ea8a-48d2-bf30-b43cf066fcdb"
      },
      "execution_count": null,
      "outputs": [
        {
          "output_type": "execute_result",
          "data": {
            "text/plain": [
              "tensor([[ 0.1897,  0.1891, -0.0401,  ...,  0.1693,  0.0755,  0.2107],\n",
              "        [ 0.1787,  0.1772, -0.0534,  ...,  0.1302,  0.0511,  0.2094],\n",
              "        [ 0.1720,  0.1731, -0.0399,  ...,  0.1633,  0.0554,  0.1790],\n",
              "        ...,\n",
              "        [ 0.1093,  0.1641, -0.0216,  ...,  0.1181,  0.0366,  0.1445],\n",
              "        [ 0.0940,  0.1978,  0.0383,  ...,  0.1517,  0.0756,  0.1808],\n",
              "        [ 0.0869,  0.1975,  0.0438,  ...,  0.1572,  0.0623,  0.1774]],\n",
              "       grad_fn=<CopySlices>)"
            ]
          },
          "metadata": {},
          "execution_count": 87
        }
      ]
    },
    {
      "cell_type": "code",
      "source": [
        "cosine_score = torch.nn.functional.cosine_similarity(test_embedding[0].unsqueeze(dim=0), train_embedding)"
      ],
      "metadata": {
        "id": "bYwTb2HEE2ct"
      },
      "execution_count": null,
      "outputs": []
    },
    {
      "cell_type": "code",
      "source": [
        "cosine_score"
      ],
      "metadata": {
        "colab": {
          "base_uri": "https://localhost:8080/"
        },
        "id": "L1ICPcxsFAcf",
        "outputId": "f2ecb8f7-0215-4958-94ab-976f8f1ce4b1"
      },
      "execution_count": null,
      "outputs": [
        {
          "output_type": "execute_result",
          "data": {
            "text/plain": [
              "tensor([0.8794, 0.8774, 0.9472,  ..., 0.8904, 0.8899, 0.9072],\n",
              "       grad_fn=<SumBackward1>)"
            ]
          },
          "metadata": {},
          "execution_count": 91
        }
      ]
    },
    {
      "cell_type": "code",
      "source": [
        "cosine_score.min()"
      ],
      "metadata": {
        "colab": {
          "base_uri": "https://localhost:8080/"
        },
        "id": "sJHGNyDzFHYC",
        "outputId": "c92e4601-6218-4e98-f746-644732d9377f"
      },
      "execution_count": null,
      "outputs": [
        {
          "output_type": "execute_result",
          "data": {
            "text/plain": [
              "tensor(0.8315, grad_fn=<MinBackward1>)"
            ]
          },
          "metadata": {},
          "execution_count": 92
        }
      ]
    },
    {
      "cell_type": "code",
      "source": [
        "cosine_score.max()"
      ],
      "metadata": {
        "colab": {
          "base_uri": "https://localhost:8080/"
        },
        "id": "kcP34fxLFIn1",
        "outputId": "1b514f1a-df97-4ab9-86dd-0b108e3840ac"
      },
      "execution_count": null,
      "outputs": [
        {
          "output_type": "execute_result",
          "data": {
            "text/plain": [
              "tensor(0.9549, grad_fn=<MaxBackward1>)"
            ]
          },
          "metadata": {},
          "execution_count": 93
        }
      ]
    },
    {
      "cell_type": "code",
      "source": [
        "cosine_score.mean()"
      ],
      "metadata": {
        "colab": {
          "base_uri": "https://localhost:8080/"
        },
        "id": "I0kDd9i9FJaB",
        "outputId": "96fdb3fe-4545-4ad0-9195-846a96b7898e"
      },
      "execution_count": null,
      "outputs": [
        {
          "output_type": "execute_result",
          "data": {
            "text/plain": [
              "tensor(0.8863, grad_fn=<MeanBackward0>)"
            ]
          },
          "metadata": {},
          "execution_count": 94
        }
      ]
    },
    {
      "cell_type": "code",
      "source": [
        "d_test.loc[0, 'question']"
      ],
      "metadata": {
        "colab": {
          "base_uri": "https://localhost:8080/",
          "height": 35
        },
        "id": "jhAEB0YHFNLg",
        "outputId": "ffb8fe77-17d1-47b5-939c-eb083381066b"
      },
      "execution_count": null,
      "outputs": [
        {
          "output_type": "execute_result",
          "data": {
            "text/plain": [
              "'Kapan Komputer mikro mulai dikembangkan ?'"
            ],
            "application/vnd.google.colaboratory.intrinsic+json": {
              "type": "string"
            }
          },
          "metadata": {},
          "execution_count": 102
        }
      ]
    },
    {
      "cell_type": "code",
      "source": [
        "d_test.loc[0, 'answers_text']"
      ],
      "metadata": {
        "colab": {
          "base_uri": "https://localhost:8080/",
          "height": 35
        },
        "id": "fy3HZo4iFlLJ",
        "outputId": "6c3960fb-929e-4531-81ec-a9fd23a39a24"
      },
      "execution_count": null,
      "outputs": [
        {
          "output_type": "execute_result",
          "data": {
            "text/plain": [
              "'1959'"
            ],
            "application/vnd.google.colaboratory.intrinsic+json": {
              "type": "string"
            }
          },
          "metadata": {},
          "execution_count": 103
        }
      ]
    },
    {
      "cell_type": "code",
      "source": [
        "cosine_score.argmax()"
      ],
      "metadata": {
        "colab": {
          "base_uri": "https://localhost:8080/"
        },
        "id": "nUVfxO9qFPbX",
        "outputId": "b49d21fb-5b61-478b-9304-ec6b868642fb"
      },
      "execution_count": null,
      "outputs": [
        {
          "output_type": "execute_result",
          "data": {
            "text/plain": [
              "tensor(5488)"
            ]
          },
          "metadata": {},
          "execution_count": 98
        }
      ]
    },
    {
      "cell_type": "code",
      "source": [
        "d_train.loc[5488,'question']"
      ],
      "metadata": {
        "colab": {
          "base_uri": "https://localhost:8080/",
          "height": 35
        },
        "id": "YApOFWnnFYfk",
        "outputId": "559db353-0e31-4e82-a9d3-7943ae56db7c"
      },
      "execution_count": null,
      "outputs": [
        {
          "output_type": "execute_result",
          "data": {
            "text/plain": [
              "'Kapan komputer diciptakan ?'"
            ],
            "application/vnd.google.colaboratory.intrinsic+json": {
              "type": "string"
            }
          },
          "metadata": {},
          "execution_count": 101
        }
      ]
    },
    {
      "cell_type": "code",
      "source": [
        "d_train.loc[5488,'answers_text']"
      ],
      "metadata": {
        "colab": {
          "base_uri": "https://localhost:8080/",
          "height": 35
        },
        "id": "NY_Bl7vwFnTO",
        "outputId": "c25f414f-17ce-42ff-c7ff-4c90f4597d36"
      },
      "execution_count": null,
      "outputs": [
        {
          "output_type": "execute_result",
          "data": {
            "text/plain": [
              "'1941'"
            ],
            "application/vnd.google.colaboratory.intrinsic+json": {
              "type": "string"
            }
          },
          "metadata": {},
          "execution_count": 104
        }
      ]
    },
    {
      "cell_type": "code",
      "source": [],
      "metadata": {
        "id": "AjOjcSxnFa5c"
      },
      "execution_count": null,
      "outputs": []
    }
  ]
}