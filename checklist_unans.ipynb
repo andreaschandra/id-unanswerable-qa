{
 "cells": [
  {
   "cell_type": "code",
   "execution_count": 1,
   "metadata": {},
   "outputs": [],
   "source": [
    "import os\n",
    "import numpy as np\n",
    "import pandas as pd\n",
    "from simpletransformers.question_answering import QuestionAnsweringModel"
   ]
  },
  {
   "cell_type": "code",
   "execution_count": 2,
   "metadata": {},
   "outputs": [],
   "source": [
    "os.environ[\"TOKENIZERS_PARALLELISM\"] = \"false\""
   ]
  },
  {
   "cell_type": "code",
   "execution_count": 3,
   "metadata": {},
   "outputs": [],
   "source": [
    "cuda_device = 4\n",
    "seed = '12'\n",
    "model_name = 'bert'\n",
    "output_name = 'indobert_squad'\n",
    "model_path = 'outputs/idk-mrc/' + model_name + '/' + output_name + '/' + seed + '/best_model'\n",
    "do_lower_case = True"
   ]
  },
  {
   "cell_type": "code",
   "execution_count": 4,
   "metadata": {},
   "outputs": [],
   "source": [
    "train_args = {\n",
    "    'learning_rate': 2e-5,\n",
    "    'num_train_epochs': 2,\n",
    "    'max_seq_length': 512,\n",
    "    'max_query_length': 128,\n",
    "    'doc_stride': 128,\n",
    "    'overwrite_output_dir': True,\n",
    "    'reprocess_input_data': True,\n",
    "    'train_batch_size': 16,\n",
    "    'fp16': True,\n",
    "    'n_best_size': 20,\n",
    "    'manual_seed': 42,\n",
    "    'encoding': 'utf-8',\n",
    "    'save_eval_checkpoints': False,\n",
    "    'save_model_every_epoch': False,\n",
    "    'save_steps': -1,\n",
    "    'do_lower_case': do_lower_case,\n",
    "    'adam_epsilon': 1e-8,\n",
    "    'n_gpu': 1,\n",
    "    'evaluate_during_training': True,\n",
    "    'evaluate_during_training_steps': 2000,\n",
    "    'early_stopping_metric': 'ans_f1',\n",
    "    'early_stopping_metric_minimize': False,\n",
    "    'no_cache': True\n",
    "}\n",
    "model = QuestionAnsweringModel(model_name, model_path, args=train_args, cuda_device=cuda_device)"
   ]
  },
  {
   "cell_type": "code",
   "execution_count": 5,
   "metadata": {},
   "outputs": [],
   "source": [
    "def predict_pairs(question_context_pairs):\n",
    "    to_predict = []\n",
    "    q_idx = 0\n",
    "    for q, c in question_context_pairs:\n",
    "        to_predict.append({\n",
    "            'context': c,\n",
    "            'qas': [{\n",
    "                'question': q,\n",
    "                'id': str(q_idx)\n",
    "            }]\n",
    "        })\n",
    "        q_idx += 1\n",
    "\n",
    "    qa_answers, _ = model.predict(to_predict, n_best_size=1)\n",
    "\n",
    "    preds = []\n",
    "    for item in qa_answers:\n",
    "        answer = item['answer'][0]\n",
    "        if answer == 'empty':\n",
    "            answer = ''\n",
    "        preds.append(answer)\n",
    "\n",
    "    return preds"
   ]
  },
  {
   "cell_type": "code",
   "execution_count": 6,
   "metadata": {},
   "outputs": [],
   "source": [
    "from checklist.editor import Editor\n",
    "from checklist.test_suite import TestSuite\n",
    "from checklist.pred_wrapper import PredictorWrapper\n",
    "from checklist.test_types import MFT"
   ]
  },
  {
   "cell_type": "code",
   "execution_count": 7,
   "metadata": {},
   "outputs": [],
   "source": [
    "invert = lambda a: predict_pairs([(x[1], x[0]) for x in a])\n",
    "new_pp = PredictorWrapper.wrap_predict(invert)"
   ]
  },
  {
   "cell_type": "code",
   "execution_count": 8,
   "metadata": {},
   "outputs": [],
   "source": [
    "editor = Editor(language='indonesian')"
   ]
  },
  {
   "cell_type": "code",
   "execution_count": 9,
   "metadata": {},
   "outputs": [
    {
     "data": {
      "text/plain": [
       "dict_keys(['male', 'female', 'first_name', 'first_pronoun', 'last_name', 'country', 'nationality', 'city', 'religion', 'religion_adj', 'sexual_adj', 'sentiment', 'country_city', 'male_from', 'female_from', 'last_from'])"
      ]
     },
     "execution_count": 9,
     "metadata": {},
     "output_type": "execute_result"
    }
   ],
   "source": [
    "editor.lexicons.keys()"
   ]
  },
  {
   "cell_type": "code",
   "execution_count": 10,
   "metadata": {},
   "outputs": [],
   "source": [
    "suite = TestSuite()"
   ]
  },
  {
   "cell_type": "code",
   "execution_count": 11,
   "metadata": {},
   "outputs": [],
   "source": [
    "def format_squad_with_context(x, pred, conf, label=None, *args, **kwargs):\n",
    "    c, q = x\n",
    "    ret = 'C: %s\\nQ: %s\\n' % (c, q)\n",
    "    if label is not None:\n",
    "        ret += 'A: %s\\n' % label\n",
    "    ret += 'P: %s\\n' % pred\n",
    "    return ret"
   ]
  },
  {
   "cell_type": "code",
   "execution_count": 12,
   "metadata": {},
   "outputs": [],
   "source": [
    "df_summary = pd.DataFrame(columns=['type', 'qtag', 'testcases', 'fails', 'fail_rate', 'example_fails'])"
   ]
  },
  {
   "cell_type": "code",
   "execution_count": 13,
   "metadata": {},
   "outputs": [],
   "source": [
    "def get_label(test_obj, i):\n",
    "    if test_obj.labels is None:\n",
    "        label = None\n",
    "    else:\n",
    "        label = test_obj.labels if type(test_obj.labels) not in [list, np.array, np.ndarray] else test_obj.labels[i]\n",
    "    return label\n",
    "\n",
    "def get_example_fails(test_obj):\n",
    "    fails = test_obj.fail_idxs()\n",
    "    if fails.shape[0] == 0:\n",
    "        return 'N/A'\n",
    "    fails = np.random.choice(fails, min(fails.shape[0], 1), replace=False)\n",
    "    for f in fails:\n",
    "        d_idx = f if test_obj.run_idxs is None else test_obj.run_idxs[f]\n",
    "        label = get_label(test_obj, d_idx)\n",
    "        return format_squad_with_context(test_obj.data[d_idx], test_obj.results.preds[d_idx],\n",
    "                    test_obj.results.confs[d_idx], label=label)"
   ]
  },
  {
   "cell_type": "markdown",
   "metadata": {},
   "source": [
    "### Negation"
   ]
  },
  {
   "cell_type": "code",
   "execution_count": 14,
   "metadata": {},
   "outputs": [
    {
     "name": "stdout",
     "output_type": "stream",
     "text": [
      "10\n"
     ]
    }
   ],
   "source": [
    "verbs = [\n",
    "    ('dibuat', 'membuat', 'pembuat'), ('ditulis', 'menulis', 'penulis'), ('dibangun', 'membangun', 'pembangun'),\n",
    "    ('dikembangkan', 'mengembangkan', 'pengembang'), ('ditemukan', 'menemukan', 'penemu'), ('dirancang', 'merancang', 'perancang'),\n",
    "    ('dibentuk', 'membentuk', 'pembentuk'), ('didirikan', 'mendirikan', 'pendiri'), ('diadakan', 'mengadakan', 'yang mengadakan'),\n",
    "    ('dilaksanakan', 'melaksanakan', 'pelaksana')\n",
    "]\n",
    "negation = ['tidak', 'bukan']\n",
    "print(len(verbs))"
   ]
  },
  {
   "cell_type": "code",
   "execution_count": 15,
   "metadata": {},
   "outputs": [
    {
     "name": "stdout",
     "output_type": "stream",
     "text": [
      "Predicting 100 examples\n"
     ]
    },
    {
     "name": "stderr",
     "output_type": "stream",
     "text": [
      "convert squad examples to features: 100%|██████████| 100/100 [00:00<00:00, 773.26it/s]\n",
      "add example index and unique id: 100%|██████████| 100/100 [00:00<00:00, 317509.77it/s]\n"
     ]
    },
    {
     "data": {
      "application/vnd.jupyter.widget-view+json": {
       "model_id": "4e4eeb805a9449dc9f374d68fc84e9d7",
       "version_major": 2,
       "version_minor": 0
      },
      "text/plain": [
       "Running Prediction:   0%|          | 0/13 [00:00<?, ?it/s]"
      ]
     },
     "metadata": {},
     "output_type": "display_data"
    },
    {
     "name": "stderr",
     "output_type": "stream",
     "text": [
      "/tmp/ipykernel_39843/626289038.py:19: FutureWarning: The frame.append method is deprecated and will be removed from pandas in a future version. Use pandas.concat instead.\n",
      "  df_summary = df_summary.append({\n"
     ]
    }
   ],
   "source": [
    "t = editor.template(\n",
    "    (\n",
    "        'Wikia {verbs[0]} oleh {first_name}.',\n",
    "        'Siapa yang {negation} {verbs[1]} Wikia?'\n",
    "    ),\n",
    "    labels='',\n",
    "    verbs=verbs,\n",
    "    negation=negation,\n",
    "    remove_duplicates=True,\n",
    "    nsamples=100,\n",
    "    save=True\n",
    ")\n",
    "name = 'Negation - in question (Who)'\n",
    "test = MFT(**t, name=name, description='', capability='Unanswerability')\n",
    "test.run(new_pp, overwrite=True)\n",
    "suite.add(test)\n",
    "\n",
    "stats = test.get_stats()\n",
    "df_summary = df_summary.append({\n",
    "    'type': 'Negation - in question',\n",
    "    'qtag': 'Who',\n",
    "    'testcases': stats['testcases'],\n",
    "    'fails': stats['fails'],\n",
    "    'fail_rate': stats['fail_rate'],\n",
    "    'example_fails': get_example_fails(test)\n",
    "}, ignore_index=True)"
   ]
  },
  {
   "cell_type": "code",
   "execution_count": 16,
   "metadata": {},
   "outputs": [
    {
     "name": "stdout",
     "output_type": "stream",
     "text": [
      "Predicting 100 examples\n"
     ]
    },
    {
     "name": "stderr",
     "output_type": "stream",
     "text": [
      "convert squad examples to features: 100%|██████████| 100/100 [00:00<00:00, 748.81it/s]\n",
      "add example index and unique id: 100%|██████████| 100/100 [00:00<00:00, 341834.07it/s]\n"
     ]
    },
    {
     "data": {
      "application/vnd.jupyter.widget-view+json": {
       "model_id": "b79730af3f6e40b9b5cbfcb009cbc04f",
       "version_major": 2,
       "version_minor": 0
      },
      "text/plain": [
       "Running Prediction:   0%|          | 0/13 [00:00<?, ?it/s]"
      ]
     },
     "metadata": {},
     "output_type": "display_data"
    },
    {
     "name": "stderr",
     "output_type": "stream",
     "text": [
      "/tmp/ipykernel_39843/3028095384.py:19: FutureWarning: The frame.append method is deprecated and will be removed from pandas in a future version. Use pandas.concat instead.\n",
      "  df_summary = df_summary.append({\n"
     ]
    }
   ],
   "source": [
    "t = editor.template(\n",
    "    (\n",
    "        'Wikia {verbs[0]} oleh {first_name}.',\n",
    "        'Apa yang {negation} {verbs[0]} {first_name}?'\n",
    "    ),\n",
    "    labels='',\n",
    "    verbs=verbs,\n",
    "    negation=negation,\n",
    "    remove_duplicates=True,\n",
    "    nsamples=100,\n",
    "    save=True\n",
    ")\n",
    "name = 'Negation - in question (What)'\n",
    "test = MFT(**t, name=name, description='', capability='Unanswerability')\n",
    "test.run(new_pp, overwrite=True)\n",
    "suite.add(test)\n",
    "\n",
    "stats = test.get_stats()\n",
    "df_summary = df_summary.append({\n",
    "    'type': 'Negation - in question',\n",
    "    'qtag': 'What',\n",
    "    'testcases': stats['testcases'],\n",
    "    'fails': stats['fails'],\n",
    "    'fail_rate': stats['fail_rate'],\n",
    "    'example_fails': get_example_fails(test)\n",
    "}, ignore_index=True)"
   ]
  },
  {
   "cell_type": "code",
   "execution_count": 17,
   "metadata": {},
   "outputs": [
    {
     "name": "stdout",
     "output_type": "stream",
     "text": [
      "Predicting 100 examples\n"
     ]
    },
    {
     "name": "stderr",
     "output_type": "stream",
     "text": [
      "convert squad examples to features: 100%|██████████| 100/100 [00:00<00:00, 820.36it/s]\n",
      "add example index and unique id: 100%|██████████| 100/100 [00:00<00:00, 235900.11it/s]\n"
     ]
    },
    {
     "data": {
      "application/vnd.jupyter.widget-view+json": {
       "model_id": "2385b6701bdd4202b68aa2b663b202b1",
       "version_major": 2,
       "version_minor": 0
      },
      "text/plain": [
       "Running Prediction:   0%|          | 0/13 [00:00<?, ?it/s]"
      ]
     },
     "metadata": {},
     "output_type": "display_data"
    },
    {
     "name": "stderr",
     "output_type": "stream",
     "text": [
      "/tmp/ipykernel_39843/3787582084.py:19: FutureWarning: The frame.append method is deprecated and will be removed from pandas in a future version. Use pandas.concat instead.\n",
      "  df_summary = df_summary.append({\n"
     ]
    }
   ],
   "source": [
    "t = editor.template(\n",
    "    (\n",
    "        'Wikia {verbs[0]} pada 1990.',\n",
    "        'Kapan Wikia belum {verbs[0]}?'\n",
    "    ),\n",
    "    labels='',\n",
    "    verbs=verbs,\n",
    "    negation=negation,\n",
    "    remove_duplicates=True,\n",
    "    nsamples=100,\n",
    "    save=True\n",
    ")\n",
    "name = 'Negation - in question (When)'\n",
    "test = MFT(**t, name=name, description='', capability='Unanswerability')\n",
    "test.run(new_pp, overwrite=True)\n",
    "suite.add(test)\n",
    "\n",
    "stats = test.get_stats()\n",
    "df_summary = df_summary.append({\n",
    "    'type': 'Negation - in question',\n",
    "    'qtag': 'When',\n",
    "    'testcases': stats['testcases'],\n",
    "    'fails': stats['fails'],\n",
    "    'fail_rate': stats['fail_rate'],\n",
    "    'example_fails': get_example_fails(test)\n",
    "}, ignore_index=True)"
   ]
  },
  {
   "cell_type": "code",
   "execution_count": 18,
   "metadata": {},
   "outputs": [
    {
     "name": "stdout",
     "output_type": "stream",
     "text": [
      "Predicting 100 examples\n"
     ]
    },
    {
     "name": "stderr",
     "output_type": "stream",
     "text": [
      "convert squad examples to features: 100%|██████████| 100/100 [00:00<00:00, 741.51it/s]\n",
      "add example index and unique id: 100%|██████████| 100/100 [00:00<00:00, 314415.59it/s]\n"
     ]
    },
    {
     "data": {
      "application/vnd.jupyter.widget-view+json": {
       "model_id": "4063b12cd5f742bfb6fd35bce1290352",
       "version_major": 2,
       "version_minor": 0
      },
      "text/plain": [
       "Running Prediction:   0%|          | 0/13 [00:00<?, ?it/s]"
      ]
     },
     "metadata": {},
     "output_type": "display_data"
    },
    {
     "name": "stderr",
     "output_type": "stream",
     "text": [
      "/tmp/ipykernel_39843/3904634957.py:19: FutureWarning: The frame.append method is deprecated and will be removed from pandas in a future version. Use pandas.concat instead.\n",
      "  df_summary = df_summary.append({\n"
     ]
    }
   ],
   "source": [
    "t = editor.template(\n",
    "    (\n",
    "        'Wikia {verbs[0]} di {country}.',\n",
    "        'Di mana Wikia {negation} {verbs[0]}?'\n",
    "    ),\n",
    "    labels='',\n",
    "    verbs=verbs,\n",
    "    negation=negation,\n",
    "    remove_duplicates=True,\n",
    "    nsamples=100,\n",
    "    save=True\n",
    ")\n",
    "name = 'Negation - in question (Where)'\n",
    "test = MFT(**t, name=name, description='', capability='Unanswerability')\n",
    "test.run(new_pp, overwrite=True)\n",
    "suite.add(test)\n",
    "\n",
    "stats = test.get_stats()\n",
    "df_summary = df_summary.append({\n",
    "    'type': 'Negation - in question',\n",
    "    'qtag': 'Where',\n",
    "    'testcases': stats['testcases'],\n",
    "    'fails': stats['fails'],\n",
    "    'fail_rate': stats['fail_rate'],\n",
    "    'example_fails': get_example_fails(test)\n",
    "}, ignore_index=True)"
   ]
  },
  {
   "cell_type": "code",
   "execution_count": 19,
   "metadata": {},
   "outputs": [
    {
     "name": "stdout",
     "output_type": "stream",
     "text": [
      "Predicting 100 examples\n"
     ]
    },
    {
     "name": "stderr",
     "output_type": "stream",
     "text": [
      "convert squad examples to features: 100%|██████████| 100/100 [00:00<00:00, 698.32it/s]\n",
      "add example index and unique id: 100%|██████████| 100/100 [00:00<00:00, 326404.98it/s]\n"
     ]
    },
    {
     "data": {
      "application/vnd.jupyter.widget-view+json": {
       "model_id": "a3901ba49d68407f9feda48f6aa2eb89",
       "version_major": 2,
       "version_minor": 0
      },
      "text/plain": [
       "Running Prediction:   0%|          | 0/13 [00:00<?, ?it/s]"
      ]
     },
     "metadata": {},
     "output_type": "display_data"
    },
    {
     "name": "stderr",
     "output_type": "stream",
     "text": [
      "/tmp/ipykernel_39843/1788242372.py:19: FutureWarning: The frame.append method is deprecated and will be removed from pandas in a future version. Use pandas.concat instead.\n",
      "  df_summary = df_summary.append({\n"
     ]
    }
   ],
   "source": [
    "t = editor.template(\n",
    "    (\n",
    "        'Wikia {verbs[0]} karena kebutuhan mendesak.',\n",
    "        'Mengapa Wikia tidak {verbs[0]}?'\n",
    "    ),\n",
    "    labels='',\n",
    "    verbs=verbs,\n",
    "    negation=negation,\n",
    "    remove_duplicates=True,\n",
    "    nsamples=100,\n",
    "    save=True\n",
    ")\n",
    "name = 'Negation - in question (Why)'\n",
    "test = MFT(**t, name=name, description='', capability='Unanswerability')\n",
    "test.run(new_pp, overwrite=True)\n",
    "suite.add(test)\n",
    "\n",
    "stats = test.get_stats()\n",
    "df_summary = df_summary.append({\n",
    "    'type': 'Negation - in question',\n",
    "    'qtag': 'Why',\n",
    "    'testcases': stats['testcases'],\n",
    "    'fails': stats['fails'],\n",
    "    'fail_rate': stats['fail_rate'],\n",
    "    'example_fails': get_example_fails(test)\n",
    "}, ignore_index=True)"
   ]
  },
  {
   "cell_type": "code",
   "execution_count": 20,
   "metadata": {},
   "outputs": [
    {
     "name": "stdout",
     "output_type": "stream",
     "text": [
      "Predicting 100 examples\n"
     ]
    },
    {
     "name": "stderr",
     "output_type": "stream",
     "text": [
      "convert squad examples to features: 100%|██████████| 100/100 [00:00<00:00, 726.07it/s]\n",
      "add example index and unique id: 100%|██████████| 100/100 [00:00<00:00, 375497.22it/s]\n"
     ]
    },
    {
     "data": {
      "application/vnd.jupyter.widget-view+json": {
       "model_id": "9e91da14d8354c97845f5ea09b4f7aed",
       "version_major": 2,
       "version_minor": 0
      },
      "text/plain": [
       "Running Prediction:   0%|          | 0/13 [00:00<?, ?it/s]"
      ]
     },
     "metadata": {},
     "output_type": "display_data"
    },
    {
     "name": "stderr",
     "output_type": "stream",
     "text": [
      "/tmp/ipykernel_39843/336984614.py:19: FutureWarning: The frame.append method is deprecated and will be removed from pandas in a future version. Use pandas.concat instead.\n",
      "  df_summary = df_summary.append({\n"
     ]
    }
   ],
   "source": [
    "t = editor.template(\n",
    "    (\n",
    "        'Wikia {verbs[0]} selama 3 tahun.',\n",
    "        'Berapa lama Wikia tidak {verbs[0]}?'\n",
    "    ),\n",
    "    labels='',\n",
    "    verbs=verbs,\n",
    "    negation=negation,\n",
    "    remove_duplicates=True,\n",
    "    nsamples=100,\n",
    "    save=True\n",
    ")\n",
    "name = 'Negation - in question (How)'\n",
    "test = MFT(**t, name=name, description='', capability='Unanswerability')\n",
    "test.run(new_pp, overwrite=True)\n",
    "suite.add(test)\n",
    "\n",
    "stats = test.get_stats()\n",
    "df_summary = df_summary.append({\n",
    "    'type': 'Negation - in question',\n",
    "    'qtag': 'How',\n",
    "    'testcases': stats['testcases'],\n",
    "    'fails': stats['fails'],\n",
    "    'fail_rate': stats['fail_rate'],\n",
    "    'example_fails': get_example_fails(test)\n",
    "}, ignore_index=True)"
   ]
  },
  {
   "cell_type": "code",
   "execution_count": 21,
   "metadata": {},
   "outputs": [
    {
     "name": "stdout",
     "output_type": "stream",
     "text": [
      "Predicting 100 examples\n"
     ]
    },
    {
     "name": "stderr",
     "output_type": "stream",
     "text": [
      "convert squad examples to features: 100%|██████████| 100/100 [00:00<00:00, 724.73it/s]\n",
      "add example index and unique id: 100%|██████████| 100/100 [00:00<00:00, 243713.19it/s]\n"
     ]
    },
    {
     "data": {
      "application/vnd.jupyter.widget-view+json": {
       "model_id": "a92fc781c1464b97880baf3d2daddcb3",
       "version_major": 2,
       "version_minor": 0
      },
      "text/plain": [
       "Running Prediction:   0%|          | 0/13 [00:00<?, ?it/s]"
      ]
     },
     "metadata": {},
     "output_type": "display_data"
    },
    {
     "name": "stderr",
     "output_type": "stream",
     "text": [
      "/tmp/ipykernel_39843/1121973745.py:18: FutureWarning: The frame.append method is deprecated and will be removed from pandas in a future version. Use pandas.concat instead.\n",
      "  df_summary = df_summary.append({\n"
     ]
    }
   ],
   "source": [
    "t = editor.template(\n",
    "    (\n",
    "        'Wikia {negation} {verbs[0]} oleh {first_name}.',\n",
    "        'Siapa yang {verbs[1]} Wikia?'\n",
    "    ),\n",
    "    labels='',\n",
    "    negation=negation,\n",
    "    verbs=verbs,\n",
    "    remove_duplicates=True,\n",
    "    nsamples=100,\n",
    "    save=True\n",
    ")\n",
    "name = 'Negation - in context (Who)'\n",
    "test = MFT(**t, name=name, description='', capability='Unanswerability')\n",
    "test.run(new_pp, overwrite=True)\n",
    "suite.add(test)\n",
    "stats = test.get_stats()\n",
    "df_summary = df_summary.append({\n",
    "    'type': 'Negation - in context',\n",
    "    'qtag': 'Who',\n",
    "    'testcases': stats['testcases'],\n",
    "    'fails': stats['fails'],\n",
    "    'fail_rate': stats['fail_rate'],\n",
    "    'example_fails': get_example_fails(test)\n",
    "}, ignore_index=True)"
   ]
  },
  {
   "cell_type": "code",
   "execution_count": 22,
   "metadata": {},
   "outputs": [
    {
     "name": "stdout",
     "output_type": "stream",
     "text": [
      "Predicting 100 examples\n"
     ]
    },
    {
     "name": "stderr",
     "output_type": "stream",
     "text": [
      "convert squad examples to features: 100%|██████████| 100/100 [00:00<00:00, 719.63it/s]\n",
      "add example index and unique id: 100%|██████████| 100/100 [00:00<00:00, 408006.23it/s]\n"
     ]
    },
    {
     "data": {
      "application/vnd.jupyter.widget-view+json": {
       "model_id": "ae93bc484740489d84e3397ebeb31648",
       "version_major": 2,
       "version_minor": 0
      },
      "text/plain": [
       "Running Prediction:   0%|          | 0/13 [00:00<?, ?it/s]"
      ]
     },
     "metadata": {},
     "output_type": "display_data"
    },
    {
     "name": "stderr",
     "output_type": "stream",
     "text": [
      "/tmp/ipykernel_39843/2763509986.py:19: FutureWarning: The frame.append method is deprecated and will be removed from pandas in a future version. Use pandas.concat instead.\n",
      "  df_summary = df_summary.append({\n"
     ]
    }
   ],
   "source": [
    "t = editor.template(\n",
    "    (\n",
    "        'Wikia {negation} {verbs[0]} oleh {first_name}.',\n",
    "        'Apa yang {verbs[0]} {first_name}?'\n",
    "    ),\n",
    "    labels='',\n",
    "    verbs=verbs,\n",
    "    negation=negation,\n",
    "    remove_duplicates=True,\n",
    "    nsamples=100,\n",
    "    save=True\n",
    ")\n",
    "name = 'Negation - in context (What)'\n",
    "test = MFT(**t, name=name, description='', capability='Unanswerability')\n",
    "test.run(new_pp, overwrite=True)\n",
    "suite.add(test)\n",
    "\n",
    "stats = test.get_stats()\n",
    "df_summary = df_summary.append({\n",
    "    'type': 'Negation - in context',\n",
    "    'qtag': 'What',\n",
    "    'testcases': stats['testcases'],\n",
    "    'fails': stats['fails'],\n",
    "    'fail_rate': stats['fail_rate'],\n",
    "    'example_fails': get_example_fails(test)\n",
    "}, ignore_index=True)"
   ]
  },
  {
   "cell_type": "code",
   "execution_count": 23,
   "metadata": {},
   "outputs": [
    {
     "name": "stdout",
     "output_type": "stream",
     "text": [
      "Predicting 100 examples\n"
     ]
    },
    {
     "name": "stderr",
     "output_type": "stream",
     "text": [
      "convert squad examples to features: 100%|██████████| 100/100 [00:00<00:00, 747.89it/s]\n",
      "add example index and unique id: 100%|██████████| 100/100 [00:00<00:00, 313475.64it/s]\n"
     ]
    },
    {
     "data": {
      "application/vnd.jupyter.widget-view+json": {
       "model_id": "94a9bd0b82ff4b9496e741dd741a666f",
       "version_major": 2,
       "version_minor": 0
      },
      "text/plain": [
       "Running Prediction:   0%|          | 0/13 [00:00<?, ?it/s]"
      ]
     },
     "metadata": {},
     "output_type": "display_data"
    },
    {
     "name": "stderr",
     "output_type": "stream",
     "text": [
      "/tmp/ipykernel_39843/2304378587.py:19: FutureWarning: The frame.append method is deprecated and will be removed from pandas in a future version. Use pandas.concat instead.\n",
      "  df_summary = df_summary.append({\n"
     ]
    }
   ],
   "source": [
    "t = editor.template(\n",
    "    (\n",
    "        'Wikia belum {verbs[0]} pada 1990.',\n",
    "        'Kapan Wikia {verbs[0]}?'\n",
    "    ),\n",
    "    labels='',\n",
    "    verbs=verbs,\n",
    "    negation=negation,\n",
    "    remove_duplicates=True,\n",
    "    nsamples=100,\n",
    "    save=True\n",
    ")\n",
    "name = 'Negation - in context (When)'\n",
    "test = MFT(**t, name=name, description='', capability='Unanswerability')\n",
    "test.run(new_pp, overwrite=True)\n",
    "suite.add(test)\n",
    "\n",
    "stats = test.get_stats()\n",
    "df_summary = df_summary.append({\n",
    "    'type': 'Negation - in context',\n",
    "    'qtag': 'When',\n",
    "    'testcases': stats['testcases'],\n",
    "    'fails': stats['fails'],\n",
    "    'fail_rate': stats['fail_rate'],\n",
    "    'example_fails': get_example_fails(test)\n",
    "}, ignore_index=True)"
   ]
  },
  {
   "cell_type": "code",
   "execution_count": 24,
   "metadata": {},
   "outputs": [
    {
     "name": "stdout",
     "output_type": "stream",
     "text": [
      "Predicting 100 examples\n"
     ]
    },
    {
     "name": "stderr",
     "output_type": "stream",
     "text": [
      "convert squad examples to features: 100%|██████████| 100/100 [00:00<00:00, 772.15it/s]\n",
      "add example index and unique id: 100%|██████████| 100/100 [00:00<00:00, 350987.78it/s]\n"
     ]
    },
    {
     "data": {
      "application/vnd.jupyter.widget-view+json": {
       "model_id": "2e617d76597c42d5a15ad5d0e889b284",
       "version_major": 2,
       "version_minor": 0
      },
      "text/plain": [
       "Running Prediction:   0%|          | 0/13 [00:00<?, ?it/s]"
      ]
     },
     "metadata": {},
     "output_type": "display_data"
    },
    {
     "name": "stderr",
     "output_type": "stream",
     "text": [
      "/tmp/ipykernel_39843/2822906372.py:19: FutureWarning: The frame.append method is deprecated and will be removed from pandas in a future version. Use pandas.concat instead.\n",
      "  df_summary = df_summary.append({\n"
     ]
    }
   ],
   "source": [
    "t = editor.template(\n",
    "    (\n",
    "        'Wikia {negation} {verbs[0]} di {country}.',\n",
    "        'Di mana Wikia {verbs[0]}?'\n",
    "    ),\n",
    "    labels='',\n",
    "    verbs=verbs,\n",
    "    negation=negation,\n",
    "    remove_duplicates=True,\n",
    "    nsamples=100,\n",
    "    save=True\n",
    ")\n",
    "name = 'Negation - in context (Where)'\n",
    "test = MFT(**t, name=name, description='', capability='Unanswerability')\n",
    "test.run(new_pp, overwrite=True)\n",
    "suite.add(test)\n",
    "\n",
    "stats = test.get_stats()\n",
    "df_summary = df_summary.append({\n",
    "    'type': 'Negation - in context',\n",
    "    'qtag': 'Where',\n",
    "    'testcases': stats['testcases'],\n",
    "    'fails': stats['fails'],\n",
    "    'fail_rate': stats['fail_rate'],\n",
    "    'example_fails': get_example_fails(test)\n",
    "}, ignore_index=True)"
   ]
  },
  {
   "cell_type": "code",
   "execution_count": 25,
   "metadata": {},
   "outputs": [
    {
     "name": "stdout",
     "output_type": "stream",
     "text": [
      "Predicting 100 examples\n"
     ]
    },
    {
     "name": "stderr",
     "output_type": "stream",
     "text": [
      "convert squad examples to features: 100%|██████████| 100/100 [00:00<00:00, 669.06it/s]\n",
      "add example index and unique id: 100%|██████████| 100/100 [00:00<00:00, 318232.47it/s]\n"
     ]
    },
    {
     "data": {
      "application/vnd.jupyter.widget-view+json": {
       "model_id": "7b6529cac5ed493f9cddd99918b9172e",
       "version_major": 2,
       "version_minor": 0
      },
      "text/plain": [
       "Running Prediction:   0%|          | 0/13 [00:00<?, ?it/s]"
      ]
     },
     "metadata": {},
     "output_type": "display_data"
    },
    {
     "name": "stderr",
     "output_type": "stream",
     "text": [
      "/tmp/ipykernel_39843/2490992023.py:19: FutureWarning: The frame.append method is deprecated and will be removed from pandas in a future version. Use pandas.concat instead.\n",
      "  df_summary = df_summary.append({\n"
     ]
    }
   ],
   "source": [
    "t = editor.template(\n",
    "    (\n",
    "        'Wikia tidak {verbs[0]} karena kebutuhan mendesak.',\n",
    "        'Mengapa Wikia {verbs[0]}?'\n",
    "    ),\n",
    "    labels='',\n",
    "    verbs=verbs,\n",
    "    negation=negation,\n",
    "    remove_duplicates=True,\n",
    "    nsamples=100,\n",
    "    save=True\n",
    ")\n",
    "name = 'Negation - in context (Why)'\n",
    "test = MFT(**t, name=name, description='', capability='Unanswerability')\n",
    "test.run(new_pp, overwrite=True)\n",
    "suite.add(test)\n",
    "\n",
    "stats = test.get_stats()\n",
    "df_summary = df_summary.append({\n",
    "    'type': 'Negation - in context',\n",
    "    'qtag': 'Why',\n",
    "    'testcases': stats['testcases'],\n",
    "    'fails': stats['fails'],\n",
    "    'fail_rate': stats['fail_rate'],\n",
    "    'example_fails': get_example_fails(test)\n",
    "}, ignore_index=True)"
   ]
  },
  {
   "cell_type": "code",
   "execution_count": 26,
   "metadata": {},
   "outputs": [
    {
     "name": "stdout",
     "output_type": "stream",
     "text": [
      "Predicting 100 examples\n"
     ]
    },
    {
     "name": "stderr",
     "output_type": "stream",
     "text": [
      "convert squad examples to features: 100%|██████████| 100/100 [00:00<00:00, 759.53it/s]\n",
      "add example index and unique id: 100%|██████████| 100/100 [00:00<00:00, 351281.74it/s]\n"
     ]
    },
    {
     "data": {
      "application/vnd.jupyter.widget-view+json": {
       "model_id": "0f8bb42b78c14d6c9a99bd4c0dd70374",
       "version_major": 2,
       "version_minor": 0
      },
      "text/plain": [
       "Running Prediction:   0%|          | 0/13 [00:00<?, ?it/s]"
      ]
     },
     "metadata": {},
     "output_type": "display_data"
    },
    {
     "name": "stderr",
     "output_type": "stream",
     "text": [
      "/tmp/ipykernel_39843/1770259745.py:19: FutureWarning: The frame.append method is deprecated and will be removed from pandas in a future version. Use pandas.concat instead.\n",
      "  df_summary = df_summary.append({\n"
     ]
    }
   ],
   "source": [
    "t = editor.template(\n",
    "    (\n",
    "        'Wikia tidak {verbs[0]} selama 3 tahun.',\n",
    "        'Berapa lama Wikia {verbs[0]}?'\n",
    "    ),\n",
    "    labels='',\n",
    "    verbs=verbs,\n",
    "    negation=negation,\n",
    "    remove_duplicates=True,\n",
    "    nsamples=100,\n",
    "    save=True\n",
    ")\n",
    "name = 'Negation - in context (How)'\n",
    "test = MFT(**t, name=name, description='', capability='Unanswerability')\n",
    "test.run(new_pp, overwrite=True)\n",
    "suite.add(test)\n",
    "\n",
    "stats = test.get_stats()\n",
    "df_summary = df_summary.append({\n",
    "    'type': 'Negation - in context',\n",
    "    'qtag': 'How',\n",
    "    'testcases': stats['testcases'],\n",
    "    'fails': stats['fails'],\n",
    "    'fail_rate': stats['fail_rate'],\n",
    "    'example_fails': get_example_fails(test)\n",
    "}, ignore_index=True)"
   ]
  },
  {
   "cell_type": "markdown",
   "metadata": {},
   "source": [
    "### Antonym"
   ]
  },
  {
   "cell_type": "code",
   "execution_count": 27,
   "metadata": {},
   "outputs": [],
   "source": [
    "adjs = [\n",
    "    ('terbesar', 'terkecil'), ('termahal', 'termurah'), ('terbaik', 'terburuk'), ('pertama', 'terakhir'),\n",
    "    ('tertinggi', 'terendah'), ('berat', 'ringan'), ('paling awal', 'paling akhir'), ('mahal', 'murah')\n",
    "]\n",
    "nouns = [\n",
    "    'hadiah', 'hukuman', 'kado', 'pekerjaan', 'bonus'\n",
    "]\n",
    "verbs = [\n",
    "    ('lahir', 'meninggal'), ('masuk', 'keluar'), ('menikah', 'bercerai'), ('pergi', 'pulang'), ('bekerja', 'menganggur')\n",
    "]"
   ]
  },
  {
   "cell_type": "code",
   "execution_count": 28,
   "metadata": {},
   "outputs": [
    {
     "name": "stdout",
     "output_type": "stream",
     "text": [
      "Predicting 200 examples\n"
     ]
    },
    {
     "name": "stderr",
     "output_type": "stream",
     "text": [
      "convert squad examples to features: 100%|██████████| 200/200 [00:00<00:00, 840.06it/s]\n",
      "add example index and unique id: 100%|██████████| 200/200 [00:00<00:00, 396999.91it/s]\n"
     ]
    },
    {
     "data": {
      "application/vnd.jupyter.widget-view+json": {
       "model_id": "ecdbb9a5b46f4b68881012305ae69885",
       "version_major": 2,
       "version_minor": 0
      },
      "text/plain": [
       "Running Prediction:   0%|          | 0/25 [00:00<?, ?it/s]"
      ]
     },
     "metadata": {},
     "output_type": "display_data"
    },
    {
     "name": "stderr",
     "output_type": "stream",
     "text": [
      "/tmp/ipykernel_39843/3002909309.py:23: FutureWarning: The frame.append method is deprecated and will be removed from pandas in a future version. Use pandas.concat instead.\n",
      "  df_summary = df_summary.append({\n"
     ]
    }
   ],
   "source": [
    "t = editor.template(\n",
    "    [(\n",
    "        '{first_name} mendapatkan {nouns} {adjs[0]}.',\n",
    "        'Siapa yang mendapatkan {nouns} {adjs[1]}?'\n",
    "    ),(\n",
    "        '{first_name} mendapatkan {nouns} {adjs[1]}.',\n",
    "        'Siapa yang mendapatkan {nouns} {adjs[0]}?'\n",
    "    )],\n",
    "    labels=['', ''],\n",
    "    adjs=adjs,\n",
    "    nouns=nouns,\n",
    "    verbs=verbs,\n",
    "    remove_duplicates=True,\n",
    "    nsamples=100,\n",
    "    save=True\n",
    ")\n",
    "name = 'Antonym (Who)'\n",
    "test = MFT(**t, name=name, description='', capability='Unanswerability')\n",
    "test.run(new_pp, overwrite=True)\n",
    "suite.add(test)\n",
    "\n",
    "stats = test.get_stats()\n",
    "df_summary = df_summary.append({\n",
    "    'type': 'Antonym',\n",
    "    'qtag': 'Who',\n",
    "    'testcases': stats['testcases'],\n",
    "    'fails': stats['fails'],\n",
    "    'fail_rate': stats['fail_rate'],\n",
    "    'example_fails': get_example_fails(test)\n",
    "}, ignore_index=True)"
   ]
  },
  {
   "cell_type": "code",
   "execution_count": 29,
   "metadata": {},
   "outputs": [
    {
     "name": "stdout",
     "output_type": "stream",
     "text": [
      "Predicting 200 examples\n"
     ]
    },
    {
     "name": "stderr",
     "output_type": "stream",
     "text": [
      "convert squad examples to features: 100%|██████████| 200/200 [00:00<00:00, 873.45it/s]\n",
      "add example index and unique id: 100%|██████████| 200/200 [00:00<00:00, 499619.30it/s]\n"
     ]
    },
    {
     "data": {
      "application/vnd.jupyter.widget-view+json": {
       "model_id": "449ba059e3a349eeaf9c39d542b664c9",
       "version_major": 2,
       "version_minor": 0
      },
      "text/plain": [
       "Running Prediction:   0%|          | 0/25 [00:00<?, ?it/s]"
      ]
     },
     "metadata": {},
     "output_type": "display_data"
    },
    {
     "name": "stderr",
     "output_type": "stream",
     "text": [
      "/tmp/ipykernel_39843/3903521310.py:23: FutureWarning: The frame.append method is deprecated and will be removed from pandas in a future version. Use pandas.concat instead.\n",
      "  df_summary = df_summary.append({\n"
     ]
    }
   ],
   "source": [
    "t = editor.template(\n",
    "    [(\n",
    "        'Wikia adalah organisasi {adjs[0]}.',\n",
    "        'Apa organisasi {adjs[1]}?'\n",
    "    ),(\n",
    "        'Wikia adalah organisasi {adjs[1]}.',\n",
    "        'Apa organisasi {adjs[0]}?'\n",
    "    )],\n",
    "    labels=['', ''],\n",
    "    adjs=adjs,\n",
    "    nouns=nouns,\n",
    "    verbs=verbs,\n",
    "    remove_duplicates=True,\n",
    "    nsamples=100,\n",
    "    save=True\n",
    ")\n",
    "name = 'Antonym (What)'\n",
    "test = MFT(**t, name=name, description='', capability='Unanswerability')\n",
    "test.run(new_pp, overwrite=True)\n",
    "suite.add(test)\n",
    "\n",
    "stats = test.get_stats()\n",
    "df_summary = df_summary.append({\n",
    "    'type': 'Antonym',\n",
    "    'qtag': 'What',\n",
    "    'testcases': stats['testcases'],\n",
    "    'fails': stats['fails'],\n",
    "    'fail_rate': stats['fail_rate'],\n",
    "    'example_fails': get_example_fails(test)\n",
    "}, ignore_index=True)"
   ]
  },
  {
   "cell_type": "code",
   "execution_count": 30,
   "metadata": {},
   "outputs": [
    {
     "name": "stdout",
     "output_type": "stream",
     "text": [
      "Predicting 200 examples\n"
     ]
    },
    {
     "name": "stderr",
     "output_type": "stream",
     "text": [
      "convert squad examples to features: 100%|██████████| 200/200 [00:00<00:00, 788.67it/s]\n",
      "add example index and unique id: 100%|██████████| 200/200 [00:00<00:00, 644781.55it/s]\n"
     ]
    },
    {
     "data": {
      "application/vnd.jupyter.widget-view+json": {
       "model_id": "9e3735d77055428aab293d11f6eb0ecd",
       "version_major": 2,
       "version_minor": 0
      },
      "text/plain": [
       "Running Prediction:   0%|          | 0/25 [00:00<?, ?it/s]"
      ]
     },
     "metadata": {},
     "output_type": "display_data"
    },
    {
     "name": "stderr",
     "output_type": "stream",
     "text": [
      "/tmp/ipykernel_39843/2162095507.py:23: FutureWarning: The frame.append method is deprecated and will be removed from pandas in a future version. Use pandas.concat instead.\n",
      "  df_summary = df_summary.append({\n"
     ]
    }
   ],
   "source": [
    "t = editor.template(\n",
    "    [(\n",
    "        'Organisasi {adjs[0]} didirikan tahun 2001.',\n",
    "        'Kapan organisasi {adjs[1]} didirikan?'\n",
    "    ),(\n",
    "        'Organisasi {adjs[1]} didirikan tahun 2001.',\n",
    "        'Kapan organisasi {adjs[0]} didirikan?'\n",
    "    )],\n",
    "    labels=['', ''],\n",
    "    adjs=adjs,\n",
    "    nouns=nouns,\n",
    "    verbs=verbs,\n",
    "    remove_duplicates=True,\n",
    "    nsamples=100,\n",
    "    save=True\n",
    ")\n",
    "name = 'Antonym (When)'\n",
    "test = MFT(**t, name=name, description='', capability='Unanswerability')\n",
    "test.run(new_pp, overwrite=True)\n",
    "suite.add(test)\n",
    "\n",
    "stats = test.get_stats()\n",
    "df_summary = df_summary.append({\n",
    "    'type': 'Antonym',\n",
    "    'qtag': 'When',\n",
    "    'testcases': stats['testcases'],\n",
    "    'fails': stats['fails'],\n",
    "    'fail_rate': stats['fail_rate'],\n",
    "    'example_fails': get_example_fails(test)\n",
    "}, ignore_index=True)"
   ]
  },
  {
   "cell_type": "code",
   "execution_count": 31,
   "metadata": {},
   "outputs": [
    {
     "name": "stdout",
     "output_type": "stream",
     "text": [
      "Predicting 200 examples\n"
     ]
    },
    {
     "name": "stderr",
     "output_type": "stream",
     "text": [
      "convert squad examples to features: 100%|██████████| 200/200 [00:00<00:00, 777.41it/s]\n",
      "add example index and unique id: 100%|██████████| 200/200 [00:00<00:00, 380954.04it/s]\n"
     ]
    },
    {
     "data": {
      "application/vnd.jupyter.widget-view+json": {
       "model_id": "8d53c41e06e34e059fd99b224ccd7d95",
       "version_major": 2,
       "version_minor": 0
      },
      "text/plain": [
       "Running Prediction:   0%|          | 0/25 [00:00<?, ?it/s]"
      ]
     },
     "metadata": {},
     "output_type": "display_data"
    },
    {
     "name": "stderr",
     "output_type": "stream",
     "text": [
      "/tmp/ipykernel_39843/365461889.py:23: FutureWarning: The frame.append method is deprecated and will be removed from pandas in a future version. Use pandas.concat instead.\n",
      "  df_summary = df_summary.append({\n"
     ]
    }
   ],
   "source": [
    "t = editor.template(\n",
    "    [(\n",
    "        'Organisasi {adjs[0]} didirikan di {country}.',\n",
    "        'Di mana organisasi {adjs[1]} didirikan?'\n",
    "    ),(\n",
    "        'Organisasi {adjs[1]} didirikan di {country}.',\n",
    "        'Di mana organisasi {adjs[0]} didirikan?'\n",
    "    )],\n",
    "    labels=['', ''],\n",
    "    adjs=adjs,\n",
    "    nouns=nouns,\n",
    "    verbs=verbs,\n",
    "    remove_duplicates=True,\n",
    "    nsamples=100,\n",
    "    save=True\n",
    ")\n",
    "name = 'Antonym (Where)'\n",
    "test = MFT(**t, name=name, description='', capability='Unanswerability')\n",
    "test.run(new_pp, overwrite=True)\n",
    "suite.add(test)\n",
    "\n",
    "stats = test.get_stats()\n",
    "df_summary = df_summary.append({\n",
    "    'type': 'Antonym',\n",
    "    'qtag': 'Where',\n",
    "    'testcases': stats['testcases'],\n",
    "    'fails': stats['fails'],\n",
    "    'fail_rate': stats['fail_rate'],\n",
    "    'example_fails': get_example_fails(test)\n",
    "}, ignore_index=True)"
   ]
  },
  {
   "cell_type": "code",
   "execution_count": 32,
   "metadata": {},
   "outputs": [
    {
     "name": "stdout",
     "output_type": "stream",
     "text": [
      "Predicting 200 examples\n"
     ]
    },
    {
     "name": "stderr",
     "output_type": "stream",
     "text": [
      "convert squad examples to features: 100%|██████████| 200/200 [00:00<00:00, 770.03it/s]\n",
      "add example index and unique id: 100%|██████████| 200/200 [00:00<00:00, 417136.15it/s]\n"
     ]
    },
    {
     "data": {
      "application/vnd.jupyter.widget-view+json": {
       "model_id": "18ff3eb15d604ad4863fdd0b9e17d6c5",
       "version_major": 2,
       "version_minor": 0
      },
      "text/plain": [
       "Running Prediction:   0%|          | 0/25 [00:00<?, ?it/s]"
      ]
     },
     "metadata": {},
     "output_type": "display_data"
    },
    {
     "name": "stderr",
     "output_type": "stream",
     "text": [
      "/tmp/ipykernel_39843/2076221614.py:23: FutureWarning: The frame.append method is deprecated and will be removed from pandas in a future version. Use pandas.concat instead.\n",
      "  df_summary = df_summary.append({\n"
     ]
    }
   ],
   "source": [
    "t = editor.template(\n",
    "    [(\n",
    "        'Organisasi {adjs[0]} didirikan karena kebutuhan.',\n",
    "        'Mengapa organisasi {adjs[1]} didirikan?'\n",
    "    ),(\n",
    "        'Organisasi {adjs[1]} didirikan karena kebutuhan.',\n",
    "        'Mengapa organisasi {adjs[0]} didirikan?'\n",
    "    )],\n",
    "    labels=['', ''],\n",
    "    adjs=adjs,\n",
    "    nouns=nouns,\n",
    "    verbs=verbs,\n",
    "    remove_duplicates=True,\n",
    "    nsamples=100,\n",
    "    save=True\n",
    ")\n",
    "name = 'Antonym (Why)'\n",
    "test = MFT(**t, name=name, description='', capability='Unanswerability')\n",
    "test.run(new_pp, overwrite=True)\n",
    "suite.add(test)\n",
    "\n",
    "stats = test.get_stats()\n",
    "df_summary = df_summary.append({\n",
    "    'type': 'Antonym',\n",
    "    'qtag': 'Why',\n",
    "    'testcases': stats['testcases'],\n",
    "    'fails': stats['fails'],\n",
    "    'fail_rate': stats['fail_rate'],\n",
    "    'example_fails': get_example_fails(test)\n",
    "}, ignore_index=True)"
   ]
  },
  {
   "cell_type": "code",
   "execution_count": 33,
   "metadata": {},
   "outputs": [
    {
     "name": "stdout",
     "output_type": "stream",
     "text": [
      "Predicting 200 examples\n"
     ]
    },
    {
     "name": "stderr",
     "output_type": "stream",
     "text": [
      "convert squad examples to features: 100%|██████████| 200/200 [00:00<00:00, 815.16it/s]\n",
      "add example index and unique id: 100%|██████████| 200/200 [00:00<00:00, 401560.94it/s]\n"
     ]
    },
    {
     "data": {
      "application/vnd.jupyter.widget-view+json": {
       "model_id": "f03d4cb4c964447cbd9e26c9e05346db",
       "version_major": 2,
       "version_minor": 0
      },
      "text/plain": [
       "Running Prediction:   0%|          | 0/25 [00:00<?, ?it/s]"
      ]
     },
     "metadata": {},
     "output_type": "display_data"
    },
    {
     "name": "stderr",
     "output_type": "stream",
     "text": [
      "/tmp/ipykernel_39843/2141449886.py:23: FutureWarning: The frame.append method is deprecated and will be removed from pandas in a future version. Use pandas.concat instead.\n",
      "  df_summary = df_summary.append({\n"
     ]
    }
   ],
   "source": [
    "t = editor.template(\n",
    "    [(\n",
    "        'Organisasi {adjs[0]} dibekukan 2 kali.',\n",
    "        'Berapa kali organisasi {adjs[1]} dibekukan?'\n",
    "    ),(\n",
    "        'Organisasi {adjs[1]} dibekukan 2 kali.',\n",
    "        'Berapa kali organisasi {adjs[0]} dibekukan?'\n",
    "    )],\n",
    "    labels=['', ''],\n",
    "    adjs=adjs,\n",
    "    nouns=nouns,\n",
    "    verbs=verbs,\n",
    "    remove_duplicates=True,\n",
    "    nsamples=100,\n",
    "    save=True\n",
    ")\n",
    "name = 'Antonym (How)'\n",
    "test = MFT(**t, name=name, description='', capability='Unanswerability')\n",
    "test.run(new_pp, overwrite=True)\n",
    "suite.add(test)\n",
    "\n",
    "stats = test.get_stats()\n",
    "df_summary = df_summary.append({\n",
    "    'type': 'Antonym',\n",
    "    'qtag': 'How',\n",
    "    'testcases': stats['testcases'],\n",
    "    'fails': stats['fails'],\n",
    "    'fail_rate': stats['fail_rate'],\n",
    "    'example_fails': get_example_fails(test)\n",
    "}, ignore_index=True)"
   ]
  },
  {
   "cell_type": "markdown",
   "metadata": {},
   "source": [
    "### Entity Swap"
   ]
  },
  {
   "cell_type": "code",
   "execution_count": 34,
   "metadata": {},
   "outputs": [],
   "source": [
    "nouns_who = [\n",
    "    'presiden', 'wakil presiden', 'perdana menteri', 'politikus', 'pahlawan', 'duta besar', 'perwakilan', \n",
    "    'menteri pendidikan', 'menteri luar negeri', 'menteri dalam negeri', 'menteri perdagangan', 'meteri keuangan',\n",
    "    'mantan presiden', 'mantan wakil presiden', 'menteri olahraga', 'budayawan', 'menteri agama', 'ketua parlemen',\n",
    "    'senat', 'penyanyi dari', 'penyanyi asal', 'model asal', 'pelukis asal', 'seniman asal', 'pebulu tangkis asal',\n",
    "    'olahragawan asal', 'peneliti dari', 'guru besar asal', 'peraih nobel asal', 'petani dari', 'penari dari',\n",
    "    'model kelahiran', 'model asal', 'model dari', 'tokoh agama dari', 'tokoh agama asal', 'artis asal',\n",
    "    'selebriti kelahiran', 'selebriti asal', 'selebriti dari', 'sutradara asal', 'penulis asal', 'penulis asal',\n",
    "    'tokoh asal', 'tokoh dari', 'pengusaha asal', 'pengusaha dari', 'ulama asal', 'pejabat asal', 'warga', 'atlet',\n",
    "    'atlet asal', 'menteri asal', 'gubernur asal', 'walikota asal', 'penulis dari', 'perwakilan dari', 'wakil dari',\n",
    "    'calon presiden', 'calon wakil presiden', 'kandidat dari'\n",
    "]\n",
    "nouns = [\n",
    "    'mobil', 'kendaraan', 'motor', 'sepeda', 'ponsel', 'bus', 'truk', 'sepatu', 'jaket', 'pakaian',\n",
    "    'komputer', 'keyboard', 'cat tembok', 'alat dapur', 'alat masak', 'jam tangan', 'film', 'lagu',\n",
    "    'novel', 'buku', 'serial', 'pesawat', 'komik', 'game', 'software', 'mesin', 'drama',\n",
    "    'jam', 'permainan', 'robot', 'sepeda', 'tekstil', 'aplikasi'\n",
    "]"
   ]
  },
  {
   "cell_type": "code",
   "execution_count": 35,
   "metadata": {},
   "outputs": [
    {
     "name": "stdout",
     "output_type": "stream",
     "text": [
      "Predicting 100 examples\n"
     ]
    },
    {
     "name": "stderr",
     "output_type": "stream",
     "text": [
      "convert squad examples to features: 100%|██████████| 100/100 [00:00<00:00, 836.04it/s]\n",
      "add example index and unique id: 100%|██████████| 100/100 [00:00<00:00, 260515.78it/s]\n"
     ]
    },
    {
     "data": {
      "application/vnd.jupyter.widget-view+json": {
       "model_id": "0d35a8a24f0244919e45ae517924252e",
       "version_major": 2,
       "version_minor": 0
      },
      "text/plain": [
       "Running Prediction:   0%|          | 0/13 [00:00<?, ?it/s]"
      ]
     },
     "metadata": {},
     "output_type": "display_data"
    },
    {
     "name": "stderr",
     "output_type": "stream",
     "text": [
      "/tmp/ipykernel_39843/3015322892.py:18: FutureWarning: The frame.append method is deprecated and will be removed from pandas in a future version. Use pandas.concat instead.\n",
      "  df_summary = df_summary.append({\n"
     ]
    }
   ],
   "source": [
    "t = editor.template(\n",
    "    (\n",
    "        '{first_name} adalah {nouns_who} {country1}.',\n",
    "        'Siapa {nouns_who} {country2}?'\n",
    "    ),\n",
    "    labels='',\n",
    "    nouns_who=nouns_who,\n",
    "    remove_duplicates=True,\n",
    "    nsamples=100,\n",
    "    save=True\n",
    ")\n",
    "name = 'Entity swap (Who)'\n",
    "test = MFT(**t, name=name, description='', capability='Unanswerability')\n",
    "test.run(new_pp, overwrite=True)\n",
    "suite.add(test)\n",
    "\n",
    "stats = test.get_stats()\n",
    "df_summary = df_summary.append({\n",
    "    'type': 'Entity swap',\n",
    "    'qtag': 'Who',\n",
    "    'testcases': stats['testcases'],\n",
    "    'fails': stats['fails'],\n",
    "    'fail_rate': stats['fail_rate'],\n",
    "    'example_fails': get_example_fails(test)\n",
    "}, ignore_index=True)"
   ]
  },
  {
   "cell_type": "code",
   "execution_count": 36,
   "metadata": {},
   "outputs": [
    {
     "name": "stdout",
     "output_type": "stream",
     "text": [
      "Predicting 99 examples\n"
     ]
    },
    {
     "name": "stderr",
     "output_type": "stream",
     "text": [
      "convert squad examples to features: 100%|██████████| 99/99 [00:00<00:00, 673.53it/s]\n",
      "add example index and unique id: 100%|██████████| 99/99 [00:00<00:00, 301551.27it/s]\n"
     ]
    },
    {
     "data": {
      "application/vnd.jupyter.widget-view+json": {
       "model_id": "5905fde78acb482f9c1346df6e4d3f3d",
       "version_major": 2,
       "version_minor": 0
      },
      "text/plain": [
       "Running Prediction:   0%|          | 0/13 [00:00<?, ?it/s]"
      ]
     },
     "metadata": {},
     "output_type": "display_data"
    },
    {
     "name": "stderr",
     "output_type": "stream",
     "text": [
      "/tmp/ipykernel_39843/2329243809.py:18: FutureWarning: The frame.append method is deprecated and will be removed from pandas in a future version. Use pandas.concat instead.\n",
      "  df_summary = df_summary.append({\n"
     ]
    }
   ],
   "source": [
    "t = editor.template(\n",
    "    (\n",
    "        'Hibria adalah {nouns} produksi {country1}.',\n",
    "        'Apa nama {nouns} produksi {country2}?'\n",
    "    ),\n",
    "    labels='',\n",
    "    nouns=nouns,\n",
    "    remove_duplicates=True,\n",
    "    nsamples=100,\n",
    "    save=True\n",
    ")\n",
    "name = 'Entity swap (What)'\n",
    "test = MFT(**t, name=name, description='', capability='Unanswerability')\n",
    "test.run(new_pp, overwrite=True)\n",
    "suite.add(test)\n",
    "\n",
    "stats = test.get_stats()\n",
    "df_summary = df_summary.append({\n",
    "    'type': 'Entity swap',\n",
    "    'qtag': 'What',\n",
    "    'testcases': stats['testcases'],\n",
    "    'fails': stats['fails'],\n",
    "    'fail_rate': stats['fail_rate'],\n",
    "    'example_fails': get_example_fails(test)\n",
    "}, ignore_index=True)"
   ]
  },
  {
   "cell_type": "code",
   "execution_count": 37,
   "metadata": {},
   "outputs": [
    {
     "name": "stdout",
     "output_type": "stream",
     "text": [
      "Predicting 100 examples\n"
     ]
    },
    {
     "name": "stderr",
     "output_type": "stream",
     "text": [
      "convert squad examples to features: 100%|██████████| 100/100 [00:00<00:00, 763.33it/s]\n",
      "add example index and unique id: 100%|██████████| 100/100 [00:00<00:00, 334474.00it/s]\n"
     ]
    },
    {
     "data": {
      "application/vnd.jupyter.widget-view+json": {
       "model_id": "35948d394d964cf6b0510e181446e223",
       "version_major": 2,
       "version_minor": 0
      },
      "text/plain": [
       "Running Prediction:   0%|          | 0/13 [00:00<?, ?it/s]"
      ]
     },
     "metadata": {},
     "output_type": "display_data"
    },
    {
     "name": "stderr",
     "output_type": "stream",
     "text": [
      "/tmp/ipykernel_39843/1168691145.py:17: FutureWarning: The frame.append method is deprecated and will be removed from pandas in a future version. Use pandas.concat instead.\n",
      "  df_summary = df_summary.append({\n"
     ]
    }
   ],
   "source": [
    "t = editor.template(\n",
    "    (\n",
    "        '{first_name1} lahir pada tahun 1995.',\n",
    "        'Kapan {first_name2} lahir?'\n",
    "    ),\n",
    "    labels='',\n",
    "    remove_duplicates=True,\n",
    "    nsamples=100,\n",
    "    save=True\n",
    ")\n",
    "name = 'Entity swap (When)'\n",
    "test = MFT(**t, name=name, description='', capability='Unanswerability')\n",
    "test.run(new_pp, overwrite=True)\n",
    "suite.add(test)\n",
    "\n",
    "stats = test.get_stats()\n",
    "df_summary = df_summary.append({\n",
    "    'type': 'Entity swap',\n",
    "    'qtag': 'When',\n",
    "    'testcases': stats['testcases'],\n",
    "    'fails': stats['fails'],\n",
    "    'fail_rate': stats['fail_rate'],\n",
    "    'example_fails': get_example_fails(test)\n",
    "}, ignore_index=True)"
   ]
  },
  {
   "cell_type": "code",
   "execution_count": 38,
   "metadata": {},
   "outputs": [
    {
     "name": "stdout",
     "output_type": "stream",
     "text": [
      "Predicting 100 examples\n"
     ]
    },
    {
     "name": "stderr",
     "output_type": "stream",
     "text": [
      "convert squad examples to features: 100%|██████████| 100/100 [00:00<00:00, 708.49it/s]\n",
      "add example index and unique id: 100%|██████████| 100/100 [00:00<00:00, 313475.64it/s]\n"
     ]
    },
    {
     "data": {
      "application/vnd.jupyter.widget-view+json": {
       "model_id": "1ef06572e4b14dc48d6dc421ec320e2f",
       "version_major": 2,
       "version_minor": 0
      },
      "text/plain": [
       "Running Prediction:   0%|          | 0/13 [00:00<?, ?it/s]"
      ]
     },
     "metadata": {},
     "output_type": "display_data"
    },
    {
     "name": "stderr",
     "output_type": "stream",
     "text": [
      "/tmp/ipykernel_39843/976143800.py:20: FutureWarning: The frame.append method is deprecated and will be removed from pandas in a future version. Use pandas.concat instead.\n",
      "  df_summary = df_summary.append({\n"
     ]
    }
   ],
   "source": [
    "t = editor.template(\n",
    "    (\n",
    "        '{city_skr} terletak di Korea Selatan.',\n",
    "        'Di mana letak {city_nkr}?'\n",
    "    ),\n",
    "    labels='',\n",
    "    nouns=nouns,\n",
    "    city_skr=editor.lexicons.country_city['South_Korea'],\n",
    "    city_nkr=editor.lexicons.country_city['North_Korea'],\n",
    "    remove_duplicates=True,\n",
    "    nsamples=100,\n",
    "    save=True\n",
    ")\n",
    "name = 'Entity swap (Where)'\n",
    "test = MFT(**t, name=name, description='', capability='Unanswerability')\n",
    "test.run(new_pp, overwrite=True)\n",
    "suite.add(test)\n",
    "\n",
    "stats = test.get_stats()\n",
    "df_summary = df_summary.append({\n",
    "    'type': 'Entity swap',\n",
    "    'qtag': 'Where',\n",
    "    'testcases': stats['testcases'],\n",
    "    'fails': stats['fails'],\n",
    "    'fail_rate': stats['fail_rate'],\n",
    "    'example_fails': get_example_fails(test)\n",
    "}, ignore_index=True)"
   ]
  },
  {
   "cell_type": "code",
   "execution_count": 39,
   "metadata": {},
   "outputs": [
    {
     "name": "stdout",
     "output_type": "stream",
     "text": [
      "Predicting 100 examples\n"
     ]
    },
    {
     "name": "stderr",
     "output_type": "stream",
     "text": [
      "convert squad examples to features: 100%|██████████| 100/100 [00:00<00:00, 762.19it/s]\n",
      "add example index and unique id: 100%|██████████| 100/100 [00:00<00:00, 413231.92it/s]\n"
     ]
    },
    {
     "data": {
      "application/vnd.jupyter.widget-view+json": {
       "model_id": "3cb43baff6c64e2d9971b5acec66ab24",
       "version_major": 2,
       "version_minor": 0
      },
      "text/plain": [
       "Running Prediction:   0%|          | 0/13 [00:00<?, ?it/s]"
      ]
     },
     "metadata": {},
     "output_type": "display_data"
    },
    {
     "name": "stderr",
     "output_type": "stream",
     "text": [
      "/tmp/ipykernel_39843/1300101499.py:17: FutureWarning: The frame.append method is deprecated and will be removed from pandas in a future version. Use pandas.concat instead.\n",
      "  df_summary = df_summary.append({\n"
     ]
    }
   ],
   "source": [
    "t = editor.template(\n",
    "    (\n",
    "        '{first_name1} sukses karena rajin bekerja.',\n",
    "        'Mengapa {first_name2} sukses?'\n",
    "    ),\n",
    "    labels='',\n",
    "    remove_duplicates=True,\n",
    "    nsamples=100,\n",
    "    save=True\n",
    ")\n",
    "name = 'Entity swap (Why)'\n",
    "test = MFT(**t, name=name, description='', capability='Unanswerability')\n",
    "test.run(new_pp, overwrite=True)\n",
    "suite.add(test)\n",
    "\n",
    "stats = test.get_stats()\n",
    "df_summary = df_summary.append({\n",
    "    'type': 'Entity swap',\n",
    "    'qtag': 'Why',\n",
    "    'testcases': stats['testcases'],\n",
    "    'fails': stats['fails'],\n",
    "    'fail_rate': stats['fail_rate'],\n",
    "    'example_fails': get_example_fails(test)\n",
    "}, ignore_index=True)"
   ]
  },
  {
   "cell_type": "code",
   "execution_count": 40,
   "metadata": {},
   "outputs": [
    {
     "name": "stdout",
     "output_type": "stream",
     "text": [
      "Predicting 100 examples\n"
     ]
    },
    {
     "name": "stderr",
     "output_type": "stream",
     "text": [
      "convert squad examples to features: 100%|██████████| 100/100 [00:00<00:00, 692.00it/s]\n",
      "add example index and unique id: 100%|██████████| 100/100 [00:00<00:00, 252516.80it/s]\n"
     ]
    },
    {
     "data": {
      "application/vnd.jupyter.widget-view+json": {
       "model_id": "9d136ef783094c638f3b82a9ad098714",
       "version_major": 2,
       "version_minor": 0
      },
      "text/plain": [
       "Running Prediction:   0%|          | 0/13 [00:00<?, ?it/s]"
      ]
     },
     "metadata": {},
     "output_type": "display_data"
    },
    {
     "name": "stderr",
     "output_type": "stream",
     "text": [
      "/tmp/ipykernel_39843/1207941788.py:18: FutureWarning: The frame.append method is deprecated and will be removed from pandas in a future version. Use pandas.concat instead.\n",
      "  df_summary = df_summary.append({\n"
     ]
    }
   ],
   "source": [
    "t = editor.template(\n",
    "    (\n",
    "        'Penduduk {country1} berjumlah {population} juta.',\n",
    "        'Berapa jumlah penduduk {country2}?'\n",
    "    ),\n",
    "    labels='',\n",
    "    population=[str(i) for i in range(10,80)],\n",
    "    remove_duplicates=True,\n",
    "    nsamples=100,\n",
    "    save=True\n",
    ")\n",
    "name = 'Entity swap (How)'\n",
    "test = MFT(**t, name=name, description='', capability='Unanswerability')\n",
    "test.run(new_pp, overwrite=True)\n",
    "suite.add(test)\n",
    "\n",
    "stats = test.get_stats()\n",
    "df_summary = df_summary.append({\n",
    "    'type': 'Entity swap',\n",
    "    'qtag': 'How',\n",
    "    'testcases': stats['testcases'],\n",
    "    'fails': stats['fails'],\n",
    "    'fail_rate': stats['fail_rate'],\n",
    "    'example_fails': get_example_fails(test)\n",
    "}, ignore_index=True)"
   ]
  },
  {
   "cell_type": "markdown",
   "metadata": {},
   "source": [
    "### Question Tag Swap"
   ]
  },
  {
   "cell_type": "code",
   "execution_count": 41,
   "metadata": {},
   "outputs": [],
   "source": [
    "verbs = [\n",
    "    'lahir', 'meninggal', 'lulus', 'berperang', 'menikah', 'bersekolah', 'bertunangan'\n",
    "]\n",
    "verbs_who = [\n",
    "    ('dibuat', 'membuat', 'pembuat'), ('ditulis', 'menulis', 'penulis'), ('dibangun', 'membangun', 'pembangun'),\n",
    "    ('dikembangkan', 'mengembangkan', 'pengembang'), ('ditemukan', 'menemukan', 'penemu'), ('dirancang', 'merancang', 'perancang'),\n",
    "    ('dibentuk', 'membentuk', 'pembentuk'), ('didirikan', 'mendirikan', 'pendiri'), ('diadakan', 'mengadakan', 'yang mengadakan'),\n",
    "    ('dilaksanakan', 'melaksanakan', 'pelaksana')\n",
    "]"
   ]
  },
  {
   "cell_type": "code",
   "execution_count": 42,
   "metadata": {},
   "outputs": [
    {
     "name": "stdout",
     "output_type": "stream",
     "text": [
      "Predicting 200 examples\n"
     ]
    },
    {
     "name": "stderr",
     "output_type": "stream",
     "text": [
      "convert squad examples to features: 100%|██████████| 200/200 [00:00<00:00, 824.48it/s]\n",
      "add example index and unique id: 100%|██████████| 200/200 [00:00<00:00, 344642.89it/s]\n"
     ]
    },
    {
     "data": {
      "application/vnd.jupyter.widget-view+json": {
       "model_id": "4584a185efec496e98d757dec9a193de",
       "version_major": 2,
       "version_minor": 0
      },
      "text/plain": [
       "Running Prediction:   0%|          | 0/25 [00:00<?, ?it/s]"
      ]
     },
     "metadata": {},
     "output_type": "display_data"
    },
    {
     "name": "stderr",
     "output_type": "stream",
     "text": [
      "/tmp/ipykernel_39843/1503644197.py:21: FutureWarning: The frame.append method is deprecated and will be removed from pandas in a future version. Use pandas.concat instead.\n",
      "  df_summary = df_summary.append({\n"
     ]
    }
   ],
   "source": [
    "t = editor.template(\n",
    "    [(\n",
    "        'Wikia {verbs_who[0]} pada Agustus 1990.',\n",
    "        'Siapa yang {verbs_who[1]} Wikia?'\n",
    "    ), (\n",
    "        'Wikia {verbs_who[0]} di {country}.',\n",
    "        'Siapa yang {verbs_who[1]} Wikia?'\n",
    "    )],\n",
    "    labels=['', ''],\n",
    "    verbs_who=verbs_who,\n",
    "    remove_duplicates=True,\n",
    "    nsamples=100,\n",
    "    save=True\n",
    ")\n",
    "name = 'Q tag (Who)'\n",
    "test = MFT(**t, name=name, description='', capability='Unanswerability')\n",
    "test.run(new_pp, overwrite=True)\n",
    "suite.add(test)\n",
    "\n",
    "stats = test.get_stats()\n",
    "df_summary = df_summary.append({\n",
    "    'type': 'Q tag',\n",
    "    'qtag': 'Who',\n",
    "    'testcases': stats['testcases'],\n",
    "    'fails': stats['fails'],\n",
    "    'fail_rate': stats['fail_rate'],\n",
    "    'example_fails': get_example_fails(test)\n",
    "}, ignore_index=True)"
   ]
  },
  {
   "cell_type": "code",
   "execution_count": 43,
   "metadata": {},
   "outputs": [
    {
     "name": "stdout",
     "output_type": "stream",
     "text": [
      "Predicting 100 examples\n"
     ]
    },
    {
     "name": "stderr",
     "output_type": "stream",
     "text": [
      "convert squad examples to features: 100%|██████████| 100/100 [00:00<00:00, 644.92it/s]\n",
      "add example index and unique id: 100%|██████████| 100/100 [00:00<00:00, 274316.81it/s]\n"
     ]
    },
    {
     "data": {
      "application/vnd.jupyter.widget-view+json": {
       "model_id": "e9ab82d19b834d10a06d35bfef959f10",
       "version_major": 2,
       "version_minor": 0
      },
      "text/plain": [
       "Running Prediction:   0%|          | 0/13 [00:00<?, ?it/s]"
      ]
     },
     "metadata": {},
     "output_type": "display_data"
    },
    {
     "name": "stderr",
     "output_type": "stream",
     "text": [
      "/tmp/ipykernel_39843/1682110613.py:18: FutureWarning: The frame.append method is deprecated and will be removed from pandas in a future version. Use pandas.concat instead.\n",
      "  df_summary = df_summary.append({\n"
     ]
    }
   ],
   "source": [
    "t = editor.template(\n",
    "    (\n",
    "        '{country} memiliki 3 jenis lembaga pemerintahan.',\n",
    "        'Apa saja jenis lembaga pemerintahan {country}?'\n",
    "    ),\n",
    "    labels='',\n",
    "    verbs_who=verbs_who,\n",
    "    remove_duplicates=True,\n",
    "    nsamples=100,\n",
    "    save=True\n",
    ")\n",
    "name = 'Q tag (What)'\n",
    "test = MFT(**t, name=name, description='', capability='Unanswerability')\n",
    "test.run(new_pp, overwrite=True)\n",
    "suite.add(test)\n",
    "\n",
    "stats = test.get_stats()\n",
    "df_summary = df_summary.append({\n",
    "    'type': 'Q tag',\n",
    "    'qtag': 'What',\n",
    "    'testcases': stats['testcases'],\n",
    "    'fails': stats['fails'],\n",
    "    'fail_rate': stats['fail_rate'],\n",
    "    'example_fails': get_example_fails(test)\n",
    "}, ignore_index=True)"
   ]
  },
  {
   "cell_type": "code",
   "execution_count": 44,
   "metadata": {},
   "outputs": [
    {
     "name": "stdout",
     "output_type": "stream",
     "text": [
      "Predicting 100 examples\n"
     ]
    },
    {
     "name": "stderr",
     "output_type": "stream",
     "text": [
      "convert squad examples to features: 100%|██████████| 100/100 [00:00<00:00, 746.84it/s]\n",
      "add example index and unique id: 100%|██████████| 100/100 [00:00<00:00, 287084.46it/s]\n"
     ]
    },
    {
     "data": {
      "application/vnd.jupyter.widget-view+json": {
       "model_id": "08e9b2d8d62d4f47a9771ab4581b5841",
       "version_major": 2,
       "version_minor": 0
      },
      "text/plain": [
       "Running Prediction:   0%|          | 0/13 [00:00<?, ?it/s]"
      ]
     },
     "metadata": {},
     "output_type": "display_data"
    },
    {
     "name": "stderr",
     "output_type": "stream",
     "text": [
      "/tmp/ipykernel_39843/362679182.py:18: FutureWarning: The frame.append method is deprecated and will be removed from pandas in a future version. Use pandas.concat instead.\n",
      "  df_summary = df_summary.append({\n"
     ]
    }
   ],
   "source": [
    "t = editor.template(\n",
    "    (\n",
    "        '{first_name} {verbs} di {country}.',\n",
    "        'Kapan {first_name} {verbs}?'\n",
    "    ),\n",
    "    labels='',\n",
    "    verbs=verbs,\n",
    "    remove_duplicates=True,\n",
    "    nsamples=100,\n",
    "    save=True\n",
    ")\n",
    "name = 'Q tag (When)'\n",
    "test = MFT(**t, name=name, description='', capability='Unanswerability')\n",
    "test.run(new_pp, overwrite=True)\n",
    "suite.add(test)\n",
    "\n",
    "stats = test.get_stats()\n",
    "df_summary = df_summary.append({\n",
    "    'type': 'Q tag',\n",
    "    'qtag': 'When',\n",
    "    'testcases': stats['testcases'],\n",
    "    'fails': stats['fails'],\n",
    "    'fail_rate': stats['fail_rate'],\n",
    "    'example_fails': get_example_fails(test)\n",
    "}, ignore_index=True)"
   ]
  },
  {
   "cell_type": "code",
   "execution_count": 45,
   "metadata": {},
   "outputs": [
    {
     "name": "stdout",
     "output_type": "stream",
     "text": [
      "Predicting 100 examples\n"
     ]
    },
    {
     "name": "stderr",
     "output_type": "stream",
     "text": [
      "convert squad examples to features: 100%|██████████| 100/100 [00:00<00:00, 714.38it/s]\n",
      "add example index and unique id: 100%|██████████| 100/100 [00:00<00:00, 317750.30it/s]\n"
     ]
    },
    {
     "data": {
      "application/vnd.jupyter.widget-view+json": {
       "model_id": "6a7b1fe289544cb28f8dd139647685da",
       "version_major": 2,
       "version_minor": 0
      },
      "text/plain": [
       "Running Prediction:   0%|          | 0/13 [00:00<?, ?it/s]"
      ]
     },
     "metadata": {},
     "output_type": "display_data"
    },
    {
     "name": "stderr",
     "output_type": "stream",
     "text": [
      "/tmp/ipykernel_39843/3852540342.py:18: FutureWarning: The frame.append method is deprecated and will be removed from pandas in a future version. Use pandas.concat instead.\n",
      "  df_summary = df_summary.append({\n"
     ]
    }
   ],
   "source": [
    "t = editor.template(\n",
    "    (\n",
    "        '{first_name} {verbs} pada tahun 1972.',\n",
    "        'Di mana {first_name} {verbs}?'\n",
    "    ),\n",
    "    labels='',\n",
    "    verbs=verbs,\n",
    "    remove_duplicates=True,\n",
    "    nsamples=100,\n",
    "    save=True\n",
    ")\n",
    "name = 'Q tag (Where)'\n",
    "test = MFT(**t, name=name, description='', capability='Unanswerability')\n",
    "test.run(new_pp, overwrite=True)\n",
    "suite.add(test)\n",
    "\n",
    "stats = test.get_stats()\n",
    "df_summary = df_summary.append({\n",
    "    'type': 'Q tag',\n",
    "    'qtag': 'Where',\n",
    "    'testcases': stats['testcases'],\n",
    "    'fails': stats['fails'],\n",
    "    'fail_rate': stats['fail_rate'],\n",
    "    'example_fails': get_example_fails(test)\n",
    "}, ignore_index=True)"
   ]
  },
  {
   "cell_type": "code",
   "execution_count": 46,
   "metadata": {},
   "outputs": [
    {
     "name": "stdout",
     "output_type": "stream",
     "text": [
      "Predicting 200 examples\n"
     ]
    },
    {
     "name": "stderr",
     "output_type": "stream",
     "text": [
      "convert squad examples to features: 100%|██████████| 200/200 [00:00<00:00, 840.17it/s]\n",
      "add example index and unique id: 100%|██████████| 200/200 [00:00<00:00, 503215.84it/s]\n"
     ]
    },
    {
     "data": {
      "application/vnd.jupyter.widget-view+json": {
       "model_id": "8e4b98f6a67e4a56af6b907513f82b38",
       "version_major": 2,
       "version_minor": 0
      },
      "text/plain": [
       "Running Prediction:   0%|          | 0/25 [00:00<?, ?it/s]"
      ]
     },
     "metadata": {},
     "output_type": "display_data"
    },
    {
     "name": "stderr",
     "output_type": "stream",
     "text": [
      "/tmp/ipykernel_39843/2877616303.py:21: FutureWarning: The frame.append method is deprecated and will be removed from pandas in a future version. Use pandas.concat instead.\n",
      "  df_summary = df_summary.append({\n"
     ]
    }
   ],
   "source": [
    "t = editor.template(\n",
    "    [(\n",
    "        'Wikia {verbs_who[0]} pada Agustus 1990.',\n",
    "        'Mengapa Wikia {verbs_who[0]}?'\n",
    "    ), (\n",
    "        'Wikia {verbs_who[0]} di {country}.',\n",
    "        'Mengapa Wikia {verbs_who[0]}?'\n",
    "    )],\n",
    "    labels=['', ''],\n",
    "    verbs_who=verbs_who,\n",
    "    remove_duplicates=True,\n",
    "    nsamples=100,\n",
    "    save=True\n",
    ")\n",
    "name = 'Q tag (Why)'\n",
    "test = MFT(**t, name=name, description='', capability='Unanswerability')\n",
    "test.run(new_pp, overwrite=True)\n",
    "suite.add(test)\n",
    "\n",
    "stats = test.get_stats()\n",
    "df_summary = df_summary.append({\n",
    "    'type': 'Q tag',\n",
    "    'qtag': 'Why',\n",
    "    'testcases': stats['testcases'],\n",
    "    'fails': stats['fails'],\n",
    "    'fail_rate': stats['fail_rate'],\n",
    "    'example_fails': get_example_fails(test)\n",
    "}, ignore_index=True)"
   ]
  },
  {
   "cell_type": "code",
   "execution_count": 47,
   "metadata": {},
   "outputs": [
    {
     "name": "stdout",
     "output_type": "stream",
     "text": [
      "Predicting 100 examples\n"
     ]
    },
    {
     "name": "stderr",
     "output_type": "stream",
     "text": [
      "convert squad examples to features: 100%|██████████| 100/100 [00:00<00:00, 723.97it/s]\n",
      "add example index and unique id: 100%|██████████| 100/100 [00:00<00:00, 373823.89it/s]\n"
     ]
    },
    {
     "data": {
      "application/vnd.jupyter.widget-view+json": {
       "model_id": "9852fd0171d84fd6abda6c6564322db5",
       "version_major": 2,
       "version_minor": 0
      },
      "text/plain": [
       "Running Prediction:   0%|          | 0/13 [00:00<?, ?it/s]"
      ]
     },
     "metadata": {},
     "output_type": "display_data"
    },
    {
     "name": "stderr",
     "output_type": "stream",
     "text": [
      "/tmp/ipykernel_39843/2626292958.py:18: FutureWarning: The frame.append method is deprecated and will be removed from pandas in a future version. Use pandas.concat instead.\n",
      "  df_summary = df_summary.append({\n"
     ]
    }
   ],
   "source": [
    "t = editor.template(\n",
    "    (\n",
    "        'Wikia {verbs_who[0]} di {country}.',\n",
    "        'Berapa lama Wikia {verbs_who[0]}?'\n",
    "    ),\n",
    "    labels='',\n",
    "    verbs_who=verbs_who,\n",
    "    remove_duplicates=True,\n",
    "    nsamples=100,\n",
    "    save=True\n",
    ")\n",
    "name = 'Q tag (How)'\n",
    "test = MFT(**t, name=name, description='', capability='Unanswerability')\n",
    "test.run(new_pp, overwrite=True)\n",
    "suite.add(test)\n",
    "\n",
    "stats = test.get_stats()\n",
    "df_summary = df_summary.append({\n",
    "    'type': 'Q tag',\n",
    "    'qtag': 'How',\n",
    "    'testcases': stats['testcases'],\n",
    "    'fails': stats['fails'],\n",
    "    'fail_rate': stats['fail_rate'],\n",
    "    'example_fails': get_example_fails(test)\n",
    "}, ignore_index=True)"
   ]
  },
  {
   "cell_type": "markdown",
   "metadata": {},
   "source": [
    "### Unavailable Condition"
   ]
  },
  {
   "cell_type": "code",
   "execution_count": 48,
   "metadata": {},
   "outputs": [],
   "source": [
    "nouns_who = [\n",
    "    'presiden', 'wakil presiden', 'perdana menteri', 'politikus', 'pahlawan', 'duta besar', 'perwakilan', \n",
    "    'menteri pendidikan', 'menteri luar negeri', 'menteri dalam negeri', 'menteri perdagangan', 'meteri keuangan',\n",
    "    'mantan presiden', 'mantan wakil presiden', 'menteri olahraga', 'budayawan', 'menteri agama', 'ketua parlemen',\n",
    "    'senat', 'penyanyi dari', 'penyanyi asal', 'model asal', 'pelukis asal', 'seniman asal', 'pebulu tangkis asal',\n",
    "    'olahragawan asal', 'peneliti dari', 'guru besar asal', 'peraih nobel asal', 'petani dari', 'penari dari',\n",
    "    'model kelahiran', 'model asal', 'model dari', 'tokoh agama dari', 'tokoh agama asal', 'artis asal',\n",
    "    'selebriti kelahiran', 'selebriti asal', 'selebriti dari', 'sutradara asal', 'penulis asal', 'penulis asal',\n",
    "    'tokoh asal', 'tokoh dari', 'pengusaha asal', 'pengusaha dari', 'ulama asal', 'pejabat asal', 'warga', 'atlet',\n",
    "    'atlet asal', 'menteri asal', 'gubernur asal', 'walikota asal', 'penulis dari', 'perwakilan dari', 'wakil dari',\n",
    "    'calon presiden', 'calon wakil presiden', 'kandidat dari'\n",
    "]\n",
    "nouns = [\n",
    "    'mobil', 'kendaraan', 'motor', 'sepeda', 'ponsel', 'bus', 'truk', 'sepatu', 'jaket', 'pakaian',\n",
    "    'komputer', 'keyboard', 'cat tembok', 'alat dapur', 'alat masak', 'jam tangan', 'film', 'lagu',\n",
    "    'novel', 'buku', 'serial', 'pesawat', 'komik', 'game', 'software', 'mesin', 'drama',\n",
    "    'jam', 'permainan', 'robot', 'sepeda', 'tekstil', 'aplikasi'\n",
    "]\n",
    "conds_who = [\n",
    "    'yang telah pensiun', 'paling terkenal', 'paling terpuruk', 'yang paling kaya raya', 'paling berprestasi',\n",
    "    'yang kurang terkenal', 'yang kurang kaya raya', 'yang kurang berprestasi', 'yang baik', 'yang cerdas', 'yang jujur',\n",
    "    'yang adil', 'yang beruntung', 'yang sederhana', 'yang kaya', 'yang terpercaya', 'yang cakap', 'yang peduli',\n",
    "    'yang tegas', 'yang pintar', 'yang terkenal', 'yang terpuruk', 'yang berprestasi', 'yang telah menikah', 'yang telah meninggal'\n",
    "]\n",
    "conds = [\n",
    "    'yang paling terkenal', 'yang kurang terkenal', 'yang terkenal', 'yang berkualitas', 'yang mahal', 'yang murah',\n",
    "    'yang terfavorit', 'yang banyak disenangi', 'yang paling laku', 'yang kurang laku', 'yang kurang disenangi'\n",
    "]"
   ]
  },
  {
   "cell_type": "code",
   "execution_count": 49,
   "metadata": {},
   "outputs": [
    {
     "name": "stdout",
     "output_type": "stream",
     "text": [
      "Predicting 100 examples\n"
     ]
    },
    {
     "name": "stderr",
     "output_type": "stream",
     "text": [
      "convert squad examples to features: 100%|██████████| 100/100 [00:00<00:00, 658.28it/s]\n",
      "add example index and unique id: 100%|██████████| 100/100 [00:00<00:00, 206921.76it/s]\n"
     ]
    },
    {
     "data": {
      "application/vnd.jupyter.widget-view+json": {
       "model_id": "52efd4578480479ebf42ff4e4a9ff3aa",
       "version_major": 2,
       "version_minor": 0
      },
      "text/plain": [
       "Running Prediction:   0%|          | 0/13 [00:00<?, ?it/s]"
      ]
     },
     "metadata": {},
     "output_type": "display_data"
    },
    {
     "name": "stderr",
     "output_type": "stream",
     "text": [
      "/tmp/ipykernel_39843/4129968758.py:19: FutureWarning: The frame.append method is deprecated and will be removed from pandas in a future version. Use pandas.concat instead.\n",
      "  df_summary = df_summary.append({\n"
     ]
    }
   ],
   "source": [
    "t = editor.template(\n",
    "    (\n",
    "        '{first_name} adalah {nouns_who} {country}.',\n",
    "        'Siapa {nouns_who} {country} {conds_who}?'\n",
    "    ),\n",
    "    labels='',\n",
    "    nouns_who=nouns_who,\n",
    "    conds_who=conds_who,\n",
    "    remove_duplicates=True,\n",
    "    nsamples=100,\n",
    "    save=True\n",
    ")\n",
    "name = 'Unavail (Who)'\n",
    "test = MFT(**t, name=name, description='', capability='Unanswerability')\n",
    "test.run(new_pp, overwrite=True)\n",
    "suite.add(test)\n",
    "\n",
    "stats = test.get_stats()\n",
    "df_summary = df_summary.append({\n",
    "    'type': 'Unavail',\n",
    "    'qtag': 'Who',\n",
    "    'testcases': stats['testcases'],\n",
    "    'fails': stats['fails'],\n",
    "    'fail_rate': stats['fail_rate'],\n",
    "    'example_fails': get_example_fails(test)\n",
    "}, ignore_index=True)"
   ]
  },
  {
   "cell_type": "code",
   "execution_count": 50,
   "metadata": {},
   "outputs": [
    {
     "name": "stdout",
     "output_type": "stream",
     "text": [
      "Predicting 100 examples\n"
     ]
    },
    {
     "name": "stderr",
     "output_type": "stream",
     "text": [
      "convert squad examples to features: 100%|██████████| 100/100 [00:00<00:00, 734.95it/s]\n",
      "add example index and unique id: 100%|██████████| 100/100 [00:00<00:00, 392725.09it/s]\n"
     ]
    },
    {
     "data": {
      "application/vnd.jupyter.widget-view+json": {
       "model_id": "d787b1237aa4439b9ba09e661e3445cd",
       "version_major": 2,
       "version_minor": 0
      },
      "text/plain": [
       "Running Prediction:   0%|          | 0/13 [00:00<?, ?it/s]"
      ]
     },
     "metadata": {},
     "output_type": "display_data"
    },
    {
     "name": "stderr",
     "output_type": "stream",
     "text": [
      "/tmp/ipykernel_39843/2769009366.py:19: FutureWarning: The frame.append method is deprecated and will be removed from pandas in a future version. Use pandas.concat instead.\n",
      "  df_summary = df_summary.append({\n"
     ]
    }
   ],
   "source": [
    "t = editor.template(\n",
    "    (\n",
    "        'Hibria adalah {nouns} produksi {country}.',\n",
    "        'Apa {nouns} produksi {country} {conds}?'\n",
    "    ),\n",
    "    labels='',\n",
    "    nouns=nouns,\n",
    "    conds=conds,\n",
    "    remove_duplicates=True,\n",
    "    nsamples=100,\n",
    "    save=True\n",
    ")\n",
    "name = 'Unavail (What)'\n",
    "test = MFT(**t, name=name, description='', capability='Unanswerability')\n",
    "test.run(new_pp, overwrite=True)\n",
    "suite.add(test)\n",
    "\n",
    "stats = test.get_stats()\n",
    "df_summary = df_summary.append({\n",
    "    'type': 'Unavail',\n",
    "    'qtag': 'What',\n",
    "    'testcases': stats['testcases'],\n",
    "    'fails': stats['fails'],\n",
    "    'fail_rate': stats['fail_rate'],\n",
    "    'example_fails': get_example_fails(test)\n",
    "}, ignore_index=True)"
   ]
  },
  {
   "cell_type": "code",
   "execution_count": 51,
   "metadata": {},
   "outputs": [
    {
     "name": "stdout",
     "output_type": "stream",
     "text": [
      "Predicting 100 examples\n"
     ]
    },
    {
     "name": "stderr",
     "output_type": "stream",
     "text": [
      "convert squad examples to features: 100%|██████████| 100/100 [00:00<00:00, 650.16it/s]\n",
      "add example index and unique id: 100%|██████████| 100/100 [00:00<00:00, 189787.51it/s]\n"
     ]
    },
    {
     "data": {
      "application/vnd.jupyter.widget-view+json": {
       "model_id": "2e73b2dd2dec4c609398c92c8c8f6d71",
       "version_major": 2,
       "version_minor": 0
      },
      "text/plain": [
       "Running Prediction:   0%|          | 0/13 [00:00<?, ?it/s]"
      ]
     },
     "metadata": {},
     "output_type": "display_data"
    },
    {
     "name": "stderr",
     "output_type": "stream",
     "text": [
      "/tmp/ipykernel_39843/317857843.py:19: FutureWarning: The frame.append method is deprecated and will be removed from pandas in a future version. Use pandas.concat instead.\n",
      "  df_summary = df_summary.append({\n"
     ]
    }
   ],
   "source": [
    "t = editor.template(\n",
    "    (\n",
    "        '{first_name} merilis {nouns} tahun 2000.',\n",
    "        'Kapan {first_name} merilis {nouns} {conds}?'\n",
    "    ),\n",
    "    labels='',\n",
    "    nouns=nouns,\n",
    "    conds=conds,\n",
    "    remove_duplicates=True,\n",
    "    nsamples=100,\n",
    "    save=True\n",
    ")\n",
    "name = 'Unavail (When)'\n",
    "test = MFT(**t, name=name, description='', capability='Unanswerability')\n",
    "test.run(new_pp, overwrite=True)\n",
    "suite.add(test)\n",
    "\n",
    "stats = test.get_stats()\n",
    "df_summary = df_summary.append({\n",
    "    'type': 'Unavail',\n",
    "    'qtag': 'When',\n",
    "    'testcases': stats['testcases'],\n",
    "    'fails': stats['fails'],\n",
    "    'fail_rate': stats['fail_rate'],\n",
    "    'example_fails': get_example_fails(test)\n",
    "}, ignore_index=True)"
   ]
  },
  {
   "cell_type": "code",
   "execution_count": 52,
   "metadata": {},
   "outputs": [
    {
     "name": "stdout",
     "output_type": "stream",
     "text": [
      "Predicting 100 examples\n"
     ]
    },
    {
     "name": "stderr",
     "output_type": "stream",
     "text": [
      "convert squad examples to features: 100%|██████████| 100/100 [00:00<00:00, 641.69it/s]\n",
      "add example index and unique id: 100%|██████████| 100/100 [00:00<00:00, 325139.84it/s]\n"
     ]
    },
    {
     "data": {
      "application/vnd.jupyter.widget-view+json": {
       "model_id": "9fe7ba27e82a4744ba09a9f1d6bc1962",
       "version_major": 2,
       "version_minor": 0
      },
      "text/plain": [
       "Running Prediction:   0%|          | 0/13 [00:00<?, ?it/s]"
      ]
     },
     "metadata": {},
     "output_type": "display_data"
    },
    {
     "name": "stderr",
     "output_type": "stream",
     "text": [
      "/tmp/ipykernel_39843/3788420800.py:19: FutureWarning: The frame.append method is deprecated and will be removed from pandas in a future version. Use pandas.concat instead.\n",
      "  df_summary = df_summary.append({\n"
     ]
    }
   ],
   "source": [
    "t = editor.template(\n",
    "    (\n",
    "        '{first_name} merilis {nouns} di {country}.',\n",
    "        'Di mana {first_name} merilis {nouns} {conds}?'\n",
    "    ),\n",
    "    labels='',\n",
    "    nouns=nouns,\n",
    "    conds=conds,\n",
    "    remove_duplicates=True,\n",
    "    nsamples=100,\n",
    "    save=True\n",
    ")\n",
    "name = 'Unavail (Where)'\n",
    "test = MFT(**t, name=name, description='', capability='Unanswerability')\n",
    "test.run(new_pp, overwrite=True)\n",
    "suite.add(test)\n",
    "\n",
    "stats = test.get_stats()\n",
    "df_summary = df_summary.append({\n",
    "    'type': 'Unavail',\n",
    "    'qtag': 'Where',\n",
    "    'testcases': stats['testcases'],\n",
    "    'fails': stats['fails'],\n",
    "    'fail_rate': stats['fail_rate'],\n",
    "    'example_fails': get_example_fails(test)\n",
    "}, ignore_index=True)"
   ]
  },
  {
   "cell_type": "code",
   "execution_count": 53,
   "metadata": {},
   "outputs": [
    {
     "name": "stdout",
     "output_type": "stream",
     "text": [
      "Predicting 100 examples\n"
     ]
    },
    {
     "name": "stderr",
     "output_type": "stream",
     "text": [
      "convert squad examples to features: 100%|██████████| 100/100 [00:00<00:00, 665.54it/s]\n",
      "add example index and unique id: 100%|██████████| 100/100 [00:00<00:00, 349234.30it/s]\n"
     ]
    },
    {
     "data": {
      "application/vnd.jupyter.widget-view+json": {
       "model_id": "d4e370a62c36434893990c74f31d747a",
       "version_major": 2,
       "version_minor": 0
      },
      "text/plain": [
       "Running Prediction:   0%|          | 0/13 [00:00<?, ?it/s]"
      ]
     },
     "metadata": {},
     "output_type": "display_data"
    },
    {
     "name": "stderr",
     "output_type": "stream",
     "text": [
      "/tmp/ipykernel_39843/2509880137.py:19: FutureWarning: The frame.append method is deprecated and will be removed from pandas in a future version. Use pandas.concat instead.\n",
      "  df_summary = df_summary.append({\n"
     ]
    }
   ],
   "source": [
    "t = editor.template(\n",
    "    (\n",
    "        '{first_name} merilis {nouns} karena kebutuhan.',\n",
    "        'Mengapa {first_name} merilis {nouns} {conds}?'\n",
    "    ),\n",
    "    labels='',\n",
    "    nouns=nouns,\n",
    "    conds=conds,\n",
    "    remove_duplicates=True,\n",
    "    nsamples=100,\n",
    "    save=True\n",
    ")\n",
    "name = 'Unavail (Why)'\n",
    "test = MFT(**t, name=name, description='', capability='Unanswerability')\n",
    "test.run(new_pp, overwrite=True)\n",
    "suite.add(test)\n",
    "\n",
    "stats = test.get_stats()\n",
    "df_summary = df_summary.append({\n",
    "    'type': 'Unavail',\n",
    "    'qtag': 'Why',\n",
    "    'testcases': stats['testcases'],\n",
    "    'fails': stats['fails'],\n",
    "    'fail_rate': stats['fail_rate'],\n",
    "    'example_fails': get_example_fails(test)\n",
    "}, ignore_index=True)"
   ]
  },
  {
   "cell_type": "code",
   "execution_count": 54,
   "metadata": {},
   "outputs": [
    {
     "name": "stdout",
     "output_type": "stream",
     "text": [
      "Predicting 100 examples\n"
     ]
    },
    {
     "name": "stderr",
     "output_type": "stream",
     "text": [
      "convert squad examples to features: 100%|██████████| 100/100 [00:00<00:00, 753.93it/s]\n",
      "add example index and unique id: 100%|██████████| 100/100 [00:00<00:00, 345779.39it/s]\n"
     ]
    },
    {
     "data": {
      "application/vnd.jupyter.widget-view+json": {
       "model_id": "d785d75977c14654b43d4b87891ccff2",
       "version_major": 2,
       "version_minor": 0
      },
      "text/plain": [
       "Running Prediction:   0%|          | 0/13 [00:00<?, ?it/s]"
      ]
     },
     "metadata": {},
     "output_type": "display_data"
    },
    {
     "name": "stderr",
     "output_type": "stream",
     "text": [
      "/tmp/ipykernel_39843/767400062.py:20: FutureWarning: The frame.append method is deprecated and will be removed from pandas in a future version. Use pandas.concat instead.\n",
      "  df_summary = df_summary.append({\n"
     ]
    }
   ],
   "source": [
    "t = editor.template(\n",
    "    (\n",
    "        '{first_name} merilis {nouns} sebanyak {num} kali.',\n",
    "        'Berapa kali {first_name} merilis {nouns} {conds}?'\n",
    "    ),\n",
    "    labels='',\n",
    "    nouns=nouns,\n",
    "    conds=conds,\n",
    "    num=list(range(1,10)),\n",
    "    remove_duplicates=True,\n",
    "    nsamples=100,\n",
    "    save=True\n",
    ")\n",
    "name = 'Unavail (How)'\n",
    "test = MFT(**t, name=name, description='', capability='Unanswerability')\n",
    "test.run(new_pp, overwrite=True)\n",
    "suite.add(test)\n",
    "\n",
    "stats = test.get_stats()\n",
    "df_summary = df_summary.append({\n",
    "    'type': 'Unavail',\n",
    "    'qtag': 'How',\n",
    "    'testcases': stats['testcases'],\n",
    "    'fails': stats['fails'],\n",
    "    'fail_rate': stats['fail_rate'],\n",
    "    'example_fails': get_example_fails(test)\n",
    "}, ignore_index=True)"
   ]
  },
  {
   "cell_type": "markdown",
   "metadata": {},
   "source": [
    "### Other"
   ]
  },
  {
   "cell_type": "code",
   "execution_count": 55,
   "metadata": {},
   "outputs": [],
   "source": [
    "nouns_who = [\n",
    "    ('teman baik', 'teman kecil'), ('penggemar', 'teman'), ('sahabat', 'teman kecil'), ('penggemar', 'atasan'),\n",
    "    ('murid', 'teman'), ('guru', 'ayah'), ('guru', 'bos'), ('karyawan', 'bawahan'), ('kolega', 'sahabat'),\n",
    "    ('sepupu', 'adik'), ('sepupu', 'kakak'), ('ayah', 'adik'), ('ibu', 'adik'), ('ayah', 'kakak'), ('ayah', 'kakak'),\n",
    "    ('kembaran', 'ibu'), ('kembaran', 'guru'), ('penggemar', 'bos'), ('teman baik', 'ayah'), ('teman baik', 'ibu'),\n",
    "    ('teman baik', 'paman'), ('teman baik', 'bibi'), ('teman baik', 'kakak'), ('teman baik', 'saudara'), ('teman baik', 'adik'),\n",
    "    ('pasangan', 'kolega'), ('rekan kerja', 'paman'), ('rekan kerja', 'ayah')\n",
    "]\n",
    "verbs = [\n",
    "    ('lahir', 'lulus'), ('lahir', 'dibebaskan'), ('lahir', 'menikah'), ('lahir', 'bersekolah'), ('lahir', 'bekerja'),\n",
    "    ('lahir', 'masuk kuliah'), ('lahir', 'dilantik'), ('lahir', 'naik jabatan'), ('meninggal', 'lulus'), \n",
    "    ('meninggal', 'dibebaskan'), ('meninggal', 'menikah'), ('meninggal', 'bersekolah'), ('meninggal', 'bekerja'),\n",
    "    ('meninggal', 'masuk kuliah'), ('meninggal', 'dilantik'), ('meninggal', 'naik jabatan'), ('lulus', 'dibebaskan'), \n",
    "    ('lulus', 'menikah'), ('lulus', 'bekerja'), ('lulus', 'dilantik'), ('lulus', 'naik jabatan'), ('menikah', 'dibebaskan'),\n",
    "    ('menikah', 'bersekolah'), ('menikah', 'bekerja'), ('menikah', 'masuk kuliah'), ('menikah', 'dilantik'), ('menikah', 'naik jabatan')\n",
    "]\n",
    "nouns = [\n",
    "    ('buku', 'karya ilmiah'), ('lagu', 'karya ilmiah'), ('lukisan', 'karya ilmiah'), ('puisi', 'karya_ilmiah'),\n",
    "    ('cerpen', 'karya ilmiah'), ('novel', 'karya ilmiah'), ('buku', 'lagu'), ('lukisan', 'lagu'), ('puisi', 'lagu'),\n",
    "    ('cerpen', 'lagu'), ('novel', 'lagu'), ('lukisan', 'buku'), ('puisi', 'buku'), ('cerpen', 'buku'), ('puisi', 'cerpen'),\n",
    "    ('puisi', 'novel')\n",
    "]"
   ]
  },
  {
   "cell_type": "code",
   "execution_count": 56,
   "metadata": {},
   "outputs": [
    {
     "name": "stdout",
     "output_type": "stream",
     "text": [
      "Predicting 97 examples\n"
     ]
    },
    {
     "name": "stderr",
     "output_type": "stream",
     "text": [
      "convert squad examples to features: 100%|██████████| 97/97 [00:00<00:00, 751.81it/s]\n",
      "add example index and unique id: 100%|██████████| 97/97 [00:00<00:00, 546104.01it/s]\n"
     ]
    },
    {
     "data": {
      "application/vnd.jupyter.widget-view+json": {
       "model_id": "6831417f9b85455692c08140ffdb8c55",
       "version_major": 2,
       "version_minor": 0
      },
      "text/plain": [
       "Running Prediction:   0%|          | 0/13 [00:00<?, ?it/s]"
      ]
     },
     "metadata": {},
     "output_type": "display_data"
    },
    {
     "name": "stderr",
     "output_type": "stream",
     "text": [
      "/tmp/ipykernel_39843/3090240609.py:18: FutureWarning: The frame.append method is deprecated and will be removed from pandas in a future version. Use pandas.concat instead.\n",
      "  df_summary = df_summary.append({\n"
     ]
    }
   ],
   "source": [
    "t = editor.template(\n",
    "    (\n",
    "        '{first_name1} adalah {nouns_who[0]} {first_name2}.',\n",
    "        'Siapa {nouns_who[1]} {first_name2}?'\n",
    "    ),\n",
    "    labels='',\n",
    "    nouns_who=nouns_who,\n",
    "    remove_duplicates=True,\n",
    "    nsamples=100,\n",
    "    save=True\n",
    ")\n",
    "name = 'Other (Who)'\n",
    "test = MFT(**t, name=name, description='', capability='Unanswerability')\n",
    "test.run(new_pp, overwrite=True)\n",
    "suite.add(test)\n",
    "\n",
    "stats = test.get_stats()\n",
    "df_summary = df_summary.append({\n",
    "    'type': 'Other',\n",
    "    'qtag': 'Who',\n",
    "    'testcases': stats['testcases'],\n",
    "    'fails': stats['fails'],\n",
    "    'fail_rate': stats['fail_rate'],\n",
    "    'example_fails': get_example_fails(test)\n",
    "}, ignore_index=True)"
   ]
  },
  {
   "cell_type": "code",
   "execution_count": 57,
   "metadata": {},
   "outputs": [
    {
     "name": "stdout",
     "output_type": "stream",
     "text": [
      "Predicting 100 examples\n"
     ]
    },
    {
     "name": "stderr",
     "output_type": "stream",
     "text": [
      "convert squad examples to features: 100%|██████████| 100/100 [00:00<00:00, 582.45it/s]\n",
      "add example index and unique id: 100%|██████████| 100/100 [00:00<00:00, 177724.75it/s]\n"
     ]
    },
    {
     "data": {
      "application/vnd.jupyter.widget-view+json": {
       "model_id": "29ea91bf8fac4012a7b74dc824c3add9",
       "version_major": 2,
       "version_minor": 0
      },
      "text/plain": [
       "Running Prediction:   0%|          | 0/13 [00:00<?, ?it/s]"
      ]
     },
     "metadata": {},
     "output_type": "display_data"
    },
    {
     "name": "stderr",
     "output_type": "stream",
     "text": [
      "/tmp/ipykernel_39843/708218344.py:18: FutureWarning: The frame.append method is deprecated and will be removed from pandas in a future version. Use pandas.concat instead.\n",
      "  df_summary = df_summary.append({\n"
     ]
    }
   ],
   "source": [
    "t = editor.template(\n",
    "    (\n",
    "        'Wikia adalah {nouns[0]} yang dibuat oleh {first_name}.',\n",
    "        'Apa {nouns[1]} yang dibuat oleh {first_name}?'\n",
    "    ),\n",
    "    labels='',\n",
    "    nouns=nouns,\n",
    "    remove_duplicates=True,\n",
    "    nsamples=100,\n",
    "    save=True\n",
    ")\n",
    "name = 'Other (What)'\n",
    "test = MFT(**t, name=name, description='', capability='Unanswerability')\n",
    "test.run(new_pp, overwrite=True)\n",
    "suite.add(test)\n",
    "\n",
    "stats = test.get_stats()\n",
    "df_summary = df_summary.append({\n",
    "    'type': 'Other',\n",
    "    'qtag': 'What',\n",
    "    'testcases': stats['testcases'],\n",
    "    'fails': stats['fails'],\n",
    "    'fail_rate': stats['fail_rate'],\n",
    "    'example_fails': get_example_fails(test)\n",
    "}, ignore_index=True)"
   ]
  },
  {
   "cell_type": "code",
   "execution_count": 58,
   "metadata": {},
   "outputs": [
    {
     "name": "stdout",
     "output_type": "stream",
     "text": [
      "Predicting 100 examples\n"
     ]
    },
    {
     "name": "stderr",
     "output_type": "stream",
     "text": [
      "convert squad examples to features: 100%|██████████| 100/100 [00:00<00:00, 687.53it/s]\n",
      "add example index and unique id: 100%|██████████| 100/100 [00:00<00:00, 304155.47it/s]\n"
     ]
    },
    {
     "data": {
      "application/vnd.jupyter.widget-view+json": {
       "model_id": "9afed637f2ae478c813128dcc0f51abb",
       "version_major": 2,
       "version_minor": 0
      },
      "text/plain": [
       "Running Prediction:   0%|          | 0/13 [00:00<?, ?it/s]"
      ]
     },
     "metadata": {},
     "output_type": "display_data"
    },
    {
     "name": "stderr",
     "output_type": "stream",
     "text": [
      "/tmp/ipykernel_39843/3041415868.py:18: FutureWarning: The frame.append method is deprecated and will be removed from pandas in a future version. Use pandas.concat instead.\n",
      "  df_summary = df_summary.append({\n"
     ]
    }
   ],
   "source": [
    "t = editor.template(\n",
    "    (\n",
    "        '{first_name} {verbs[0]} pada tahun 1980.',\n",
    "        'Kapan {first_name} {verbs[1]}?'\n",
    "    ),\n",
    "    labels='',\n",
    "    verbs=verbs,\n",
    "    remove_duplicates=True,\n",
    "    nsamples=100,\n",
    "    save=True\n",
    ")\n",
    "name = 'Other (When)'\n",
    "test = MFT(**t, name=name, description='', capability='Unanswerability')\n",
    "test.run(new_pp, overwrite=True)\n",
    "suite.add(test)\n",
    "\n",
    "stats = test.get_stats()\n",
    "df_summary = df_summary.append({\n",
    "    'type': 'Other',\n",
    "    'qtag': 'When',\n",
    "    'testcases': stats['testcases'],\n",
    "    'fails': stats['fails'],\n",
    "    'fail_rate': stats['fail_rate'],\n",
    "    'example_fails': get_example_fails(test)\n",
    "}, ignore_index=True)"
   ]
  },
  {
   "cell_type": "code",
   "execution_count": 59,
   "metadata": {},
   "outputs": [
    {
     "name": "stdout",
     "output_type": "stream",
     "text": [
      "Predicting 100 examples\n"
     ]
    },
    {
     "name": "stderr",
     "output_type": "stream",
     "text": [
      "convert squad examples to features: 100%|██████████| 100/100 [00:00<00:00, 734.69it/s]\n",
      "add example index and unique id: 100%|██████████| 100/100 [00:00<00:00, 344077.44it/s]\n"
     ]
    },
    {
     "data": {
      "application/vnd.jupyter.widget-view+json": {
       "model_id": "e2f21e9ee9814a35a8881b84e0c27252",
       "version_major": 2,
       "version_minor": 0
      },
      "text/plain": [
       "Running Prediction:   0%|          | 0/13 [00:00<?, ?it/s]"
      ]
     },
     "metadata": {},
     "output_type": "display_data"
    },
    {
     "name": "stderr",
     "output_type": "stream",
     "text": [
      "/tmp/ipykernel_39843/3863241349.py:18: FutureWarning: The frame.append method is deprecated and will be removed from pandas in a future version. Use pandas.concat instead.\n",
      "  df_summary = df_summary.append({\n"
     ]
    }
   ],
   "source": [
    "t = editor.template(\n",
    "    (\n",
    "        '{first_name} {verbs[0]} di {country}.',\n",
    "        'Di mana {first_name} {verbs[1]}?'\n",
    "    ),\n",
    "    labels='',\n",
    "    verbs=verbs,\n",
    "    remove_duplicates=True,\n",
    "    nsamples=100,\n",
    "    save=True\n",
    ")\n",
    "name = 'Other (Where)'\n",
    "test = MFT(**t, name=name, description='', capability='Unanswerability')\n",
    "test.run(new_pp, overwrite=True)\n",
    "suite.add(test)\n",
    "\n",
    "stats = test.get_stats()\n",
    "df_summary = df_summary.append({\n",
    "    'type': 'Other',\n",
    "    'qtag': 'Where',\n",
    "    'testcases': stats['testcases'],\n",
    "    'fails': stats['fails'],\n",
    "    'fail_rate': stats['fail_rate'],\n",
    "    'example_fails': get_example_fails(test)\n",
    "}, ignore_index=True)"
   ]
  },
  {
   "cell_type": "code",
   "execution_count": 60,
   "metadata": {},
   "outputs": [
    {
     "name": "stdout",
     "output_type": "stream",
     "text": [
      "Predicting 100 examples\n"
     ]
    },
    {
     "name": "stderr",
     "output_type": "stream",
     "text": [
      "convert squad examples to features: 100%|██████████| 100/100 [00:00<00:00, 702.23it/s]\n",
      "add example index and unique id: 100%|██████████| 100/100 [00:00<00:00, 362829.07it/s]\n"
     ]
    },
    {
     "data": {
      "application/vnd.jupyter.widget-view+json": {
       "model_id": "a6534485c864449d960ffd266367bbf9",
       "version_major": 2,
       "version_minor": 0
      },
      "text/plain": [
       "Running Prediction:   0%|          | 0/13 [00:00<?, ?it/s]"
      ]
     },
     "metadata": {},
     "output_type": "display_data"
    },
    {
     "name": "stderr",
     "output_type": "stream",
     "text": [
      "/tmp/ipykernel_39843/4012203917.py:18: FutureWarning: The frame.append method is deprecated and will be removed from pandas in a future version. Use pandas.concat instead.\n",
      "  df_summary = df_summary.append({\n"
     ]
    }
   ],
   "source": [
    "t = editor.template(\n",
    "    (\n",
    "        '{first_name} {verbs[0]} karena kebutuhan.',\n",
    "        'Mengapa {first_name} {verbs[1]}?'\n",
    "    ),\n",
    "    labels='',\n",
    "    verbs=verbs,\n",
    "    remove_duplicates=True,\n",
    "    nsamples=100,\n",
    "    save=True\n",
    ")\n",
    "name = 'Other (Why)'\n",
    "test = MFT(**t, name=name, description='', capability='Unanswerability')\n",
    "test.run(new_pp, overwrite=True)\n",
    "suite.add(test)\n",
    "\n",
    "stats = test.get_stats()\n",
    "df_summary = df_summary.append({\n",
    "    'type': 'Other',\n",
    "    'qtag': 'Why',\n",
    "    'testcases': stats['testcases'],\n",
    "    'fails': stats['fails'],\n",
    "    'fail_rate': stats['fail_rate'],\n",
    "    'example_fails': get_example_fails(test)\n",
    "}, ignore_index=True)"
   ]
  },
  {
   "cell_type": "code",
   "execution_count": 61,
   "metadata": {},
   "outputs": [
    {
     "name": "stdout",
     "output_type": "stream",
     "text": [
      "Predicting 100 examples\n"
     ]
    },
    {
     "name": "stderr",
     "output_type": "stream",
     "text": [
      "convert squad examples to features: 100%|██████████| 100/100 [00:00<00:00, 819.81it/s]\n",
      "add example index and unique id: 100%|██████████| 100/100 [00:00<00:00, 179014.26it/s]\n"
     ]
    },
    {
     "data": {
      "application/vnd.jupyter.widget-view+json": {
       "model_id": "7732f5a2df11447fad5fc14495a0714c",
       "version_major": 2,
       "version_minor": 0
      },
      "text/plain": [
       "Running Prediction:   0%|          | 0/13 [00:00<?, ?it/s]"
      ]
     },
     "metadata": {},
     "output_type": "display_data"
    },
    {
     "name": "stderr",
     "output_type": "stream",
     "text": [
      "/tmp/ipykernel_39843/1897481149.py:19: FutureWarning: The frame.append method is deprecated and will be removed from pandas in a future version. Use pandas.concat instead.\n",
      "  df_summary = df_summary.append({\n"
     ]
    }
   ],
   "source": [
    "t = editor.template(\n",
    "    (\n",
    "        '{first_name} merilis {nouns[0]} sebanyak {num} kali.',\n",
    "        'Berapa kali {first_name} merilis {nouns[1]}?'\n",
    "    ),\n",
    "    labels='',\n",
    "    nouns=nouns,\n",
    "    num=list(range(1,10)),\n",
    "    remove_duplicates=True,\n",
    "    nsamples=100,\n",
    "    save=True\n",
    ")\n",
    "name = 'Other (How)'\n",
    "test = MFT(**t, name=name, description='', capability='Unanswerability')\n",
    "test.run(new_pp, overwrite=True)\n",
    "suite.add(test)\n",
    "\n",
    "stats = test.get_stats()\n",
    "df_summary = df_summary.append({\n",
    "    'type': 'Other',\n",
    "    'qtag': 'How',\n",
    "    'testcases': stats['testcases'],\n",
    "    'fails': stats['fails'],\n",
    "    'fail_rate': stats['fail_rate'],\n",
    "    'example_fails': get_example_fails(test)\n",
    "}, ignore_index=True)"
   ]
  },
  {
   "cell_type": "code",
   "execution_count": 62,
   "metadata": {},
   "outputs": [
    {
     "data": {
      "text/plain": [
       "'outputs/idk-mrc/bert/indobert_squad/12/best_model'"
      ]
     },
     "execution_count": 62,
     "metadata": {},
     "output_type": "execute_result"
    }
   ],
   "source": [
    "model_path"
   ]
  },
  {
   "cell_type": "code",
   "execution_count": 63,
   "metadata": {},
   "outputs": [],
   "source": [
    "# suite.summary()"
   ]
  },
  {
   "cell_type": "code",
   "execution_count": 64,
   "metadata": {},
   "outputs": [
    {
     "data": {
      "text/html": [
       "<div>\n",
       "<style scoped>\n",
       "    .dataframe tbody tr th:only-of-type {\n",
       "        vertical-align: middle;\n",
       "    }\n",
       "\n",
       "    .dataframe tbody tr th {\n",
       "        vertical-align: top;\n",
       "    }\n",
       "\n",
       "    .dataframe thead th {\n",
       "        text-align: right;\n",
       "    }\n",
       "</style>\n",
       "<table border=\"1\" class=\"dataframe\">\n",
       "  <thead>\n",
       "    <tr style=\"text-align: right;\">\n",
       "      <th></th>\n",
       "      <th>type</th>\n",
       "      <th>qtag</th>\n",
       "      <th>testcases</th>\n",
       "      <th>fails</th>\n",
       "      <th>fail_rate</th>\n",
       "      <th>example_fails</th>\n",
       "    </tr>\n",
       "  </thead>\n",
       "  <tbody>\n",
       "    <tr>\n",
       "      <th>0</th>\n",
       "      <td>Negation - in question</td>\n",
       "      <td>Who</td>\n",
       "      <td>100</td>\n",
       "      <td>0</td>\n",
       "      <td>0.0</td>\n",
       "      <td>N/A</td>\n",
       "    </tr>\n",
       "    <tr>\n",
       "      <th>1</th>\n",
       "      <td>Negation - in question</td>\n",
       "      <td>What</td>\n",
       "      <td>100</td>\n",
       "      <td>1</td>\n",
       "      <td>1.0</td>\n",
       "      <td>C: Wikia dilaksanakan oleh Ferry.\\nQ: Apa yang...</td>\n",
       "    </tr>\n",
       "    <tr>\n",
       "      <th>2</th>\n",
       "      <td>Negation - in question</td>\n",
       "      <td>When</td>\n",
       "      <td>100</td>\n",
       "      <td>0</td>\n",
       "      <td>0.0</td>\n",
       "      <td>N/A</td>\n",
       "    </tr>\n",
       "    <tr>\n",
       "      <th>3</th>\n",
       "      <td>Negation - in question</td>\n",
       "      <td>Where</td>\n",
       "      <td>100</td>\n",
       "      <td>0</td>\n",
       "      <td>0.0</td>\n",
       "      <td>N/A</td>\n",
       "    </tr>\n",
       "    <tr>\n",
       "      <th>4</th>\n",
       "      <td>Negation - in question</td>\n",
       "      <td>Why</td>\n",
       "      <td>100</td>\n",
       "      <td>0</td>\n",
       "      <td>0.0</td>\n",
       "      <td>N/A</td>\n",
       "    </tr>\n",
       "    <tr>\n",
       "      <th>5</th>\n",
       "      <td>Negation - in question</td>\n",
       "      <td>How</td>\n",
       "      <td>100</td>\n",
       "      <td>0</td>\n",
       "      <td>0.0</td>\n",
       "      <td>N/A</td>\n",
       "    </tr>\n",
       "    <tr>\n",
       "      <th>6</th>\n",
       "      <td>Negation - in context</td>\n",
       "      <td>Who</td>\n",
       "      <td>100</td>\n",
       "      <td>28</td>\n",
       "      <td>28.0</td>\n",
       "      <td>C: Wikia tidak ditulis oleh Tiara.\\nQ: Siapa y...</td>\n",
       "    </tr>\n",
       "    <tr>\n",
       "      <th>7</th>\n",
       "      <td>Negation - in context</td>\n",
       "      <td>What</td>\n",
       "      <td>100</td>\n",
       "      <td>0</td>\n",
       "      <td>0.0</td>\n",
       "      <td>N/A</td>\n",
       "    </tr>\n",
       "    <tr>\n",
       "      <th>8</th>\n",
       "      <td>Negation - in context</td>\n",
       "      <td>When</td>\n",
       "      <td>100</td>\n",
       "      <td>100</td>\n",
       "      <td>100.0</td>\n",
       "      <td>C: Wikia belum dirancang pada 1990.\\nQ: Kapan ...</td>\n",
       "    </tr>\n",
       "    <tr>\n",
       "      <th>9</th>\n",
       "      <td>Negation - in context</td>\n",
       "      <td>Where</td>\n",
       "      <td>100</td>\n",
       "      <td>66</td>\n",
       "      <td>66.0</td>\n",
       "      <td>C: Wikia bukan dirancang di Guyana.\\nQ: Di man...</td>\n",
       "    </tr>\n",
       "    <tr>\n",
       "      <th>10</th>\n",
       "      <td>Negation - in context</td>\n",
       "      <td>Why</td>\n",
       "      <td>100</td>\n",
       "      <td>0</td>\n",
       "      <td>0.0</td>\n",
       "      <td>N/A</td>\n",
       "    </tr>\n",
       "    <tr>\n",
       "      <th>11</th>\n",
       "      <td>Negation - in context</td>\n",
       "      <td>How</td>\n",
       "      <td>100</td>\n",
       "      <td>83</td>\n",
       "      <td>83.0</td>\n",
       "      <td>C: Wikia tidak ditulis selama 3 tahun.\\nQ: Ber...</td>\n",
       "    </tr>\n",
       "    <tr>\n",
       "      <th>12</th>\n",
       "      <td>Antonym</td>\n",
       "      <td>Who</td>\n",
       "      <td>100</td>\n",
       "      <td>29</td>\n",
       "      <td>29.0</td>\n",
       "      <td>C: ('Denny mendapatkan pekerjaan berat.', 'Sia...</td>\n",
       "    </tr>\n",
       "    <tr>\n",
       "      <th>13</th>\n",
       "      <td>Antonym</td>\n",
       "      <td>What</td>\n",
       "      <td>100</td>\n",
       "      <td>0</td>\n",
       "      <td>0.0</td>\n",
       "      <td>N/A</td>\n",
       "    </tr>\n",
       "    <tr>\n",
       "      <th>14</th>\n",
       "      <td>Antonym</td>\n",
       "      <td>When</td>\n",
       "      <td>100</td>\n",
       "      <td>25</td>\n",
       "      <td>25.0</td>\n",
       "      <td>C: ('Organisasi termahal didirikan tahun 2001....</td>\n",
       "    </tr>\n",
       "    <tr>\n",
       "      <th>15</th>\n",
       "      <td>Antonym</td>\n",
       "      <td>Where</td>\n",
       "      <td>100</td>\n",
       "      <td>31</td>\n",
       "      <td>31.0</td>\n",
       "      <td>C: ('Organisasi termahal didirikan di Ekuador....</td>\n",
       "    </tr>\n",
       "    <tr>\n",
       "      <th>16</th>\n",
       "      <td>Antonym</td>\n",
       "      <td>Why</td>\n",
       "      <td>100</td>\n",
       "      <td>0</td>\n",
       "      <td>0.0</td>\n",
       "      <td>N/A</td>\n",
       "    </tr>\n",
       "    <tr>\n",
       "      <th>17</th>\n",
       "      <td>Antonym</td>\n",
       "      <td>How</td>\n",
       "      <td>100</td>\n",
       "      <td>60</td>\n",
       "      <td>60.0</td>\n",
       "      <td>C: ('Organisasi berat dibekukan 2 kali.', 'Ber...</td>\n",
       "    </tr>\n",
       "    <tr>\n",
       "      <th>18</th>\n",
       "      <td>Entity swap</td>\n",
       "      <td>Who</td>\n",
       "      <td>100</td>\n",
       "      <td>19</td>\n",
       "      <td>19.0</td>\n",
       "      <td>C: Linda adalah senat Korea Utara.\\nQ: Siapa s...</td>\n",
       "    </tr>\n",
       "    <tr>\n",
       "      <th>19</th>\n",
       "      <td>Entity swap</td>\n",
       "      <td>What</td>\n",
       "      <td>99</td>\n",
       "      <td>5</td>\n",
       "      <td>5.050505</td>\n",
       "      <td>C: Hibria adalah sepatu produksi Azerbaijan.\\n...</td>\n",
       "    </tr>\n",
       "    <tr>\n",
       "      <th>20</th>\n",
       "      <td>Entity swap</td>\n",
       "      <td>When</td>\n",
       "      <td>100</td>\n",
       "      <td>53</td>\n",
       "      <td>53.0</td>\n",
       "      <td>C: Ana lahir pada tahun 1995.\\nQ: Kapan Lisa l...</td>\n",
       "    </tr>\n",
       "    <tr>\n",
       "      <th>21</th>\n",
       "      <td>Entity swap</td>\n",
       "      <td>Where</td>\n",
       "      <td>100</td>\n",
       "      <td>66</td>\n",
       "      <td>66.0</td>\n",
       "      <td>C: Yangsan terletak di Korea Selatan.\\nQ: Di m...</td>\n",
       "    </tr>\n",
       "    <tr>\n",
       "      <th>22</th>\n",
       "      <td>Entity swap</td>\n",
       "      <td>Why</td>\n",
       "      <td>100</td>\n",
       "      <td>63</td>\n",
       "      <td>63.0</td>\n",
       "      <td>C: Karina sukses karena rajin bekerja.\\nQ: Men...</td>\n",
       "    </tr>\n",
       "    <tr>\n",
       "      <th>23</th>\n",
       "      <td>Entity swap</td>\n",
       "      <td>How</td>\n",
       "      <td>100</td>\n",
       "      <td>38</td>\n",
       "      <td>38.0</td>\n",
       "      <td>C: Penduduk Slovenia berjumlah 49 juta.\\nQ: Be...</td>\n",
       "    </tr>\n",
       "    <tr>\n",
       "      <th>24</th>\n",
       "      <td>Q tag</td>\n",
       "      <td>Who</td>\n",
       "      <td>100</td>\n",
       "      <td>17</td>\n",
       "      <td>17.0</td>\n",
       "      <td>C: ('Wikia dibentuk pada Agustus 1990.', 'Siap...</td>\n",
       "    </tr>\n",
       "    <tr>\n",
       "      <th>25</th>\n",
       "      <td>Q tag</td>\n",
       "      <td>What</td>\n",
       "      <td>100</td>\n",
       "      <td>47</td>\n",
       "      <td>47.0</td>\n",
       "      <td>C: Selandia Baru memiliki 3 jenis lembaga peme...</td>\n",
       "    </tr>\n",
       "    <tr>\n",
       "      <th>26</th>\n",
       "      <td>Q tag</td>\n",
       "      <td>When</td>\n",
       "      <td>100</td>\n",
       "      <td>72</td>\n",
       "      <td>72.0</td>\n",
       "      <td>C: Gita berperang di Bosnia dan Herzegovina.\\n...</td>\n",
       "    </tr>\n",
       "    <tr>\n",
       "      <th>27</th>\n",
       "      <td>Q tag</td>\n",
       "      <td>Where</td>\n",
       "      <td>100</td>\n",
       "      <td>53</td>\n",
       "      <td>53.0</td>\n",
       "      <td>C: Johnny menikah pada tahun 1972.\\nQ: Di mana...</td>\n",
       "    </tr>\n",
       "    <tr>\n",
       "      <th>28</th>\n",
       "      <td>Q tag</td>\n",
       "      <td>Why</td>\n",
       "      <td>100</td>\n",
       "      <td>11</td>\n",
       "      <td>11.0</td>\n",
       "      <td>C: ('Wikia dibangun pada Agustus 1990.', 'Meng...</td>\n",
       "    </tr>\n",
       "    <tr>\n",
       "      <th>29</th>\n",
       "      <td>Q tag</td>\n",
       "      <td>How</td>\n",
       "      <td>100</td>\n",
       "      <td>2</td>\n",
       "      <td>2.0</td>\n",
       "      <td>C: Wikia dilaksanakan di Guinea-Bissau.\\nQ: Be...</td>\n",
       "    </tr>\n",
       "    <tr>\n",
       "      <th>30</th>\n",
       "      <td>Unavail</td>\n",
       "      <td>Who</td>\n",
       "      <td>100</td>\n",
       "      <td>70</td>\n",
       "      <td>70.0</td>\n",
       "      <td>C: Alice adalah tokoh asal Portugal.\\nQ: Siapa...</td>\n",
       "    </tr>\n",
       "    <tr>\n",
       "      <th>31</th>\n",
       "      <td>Unavail</td>\n",
       "      <td>What</td>\n",
       "      <td>100</td>\n",
       "      <td>71</td>\n",
       "      <td>71.0</td>\n",
       "      <td>C: Hibria adalah drama produksi Iran.\\nQ: Apa ...</td>\n",
       "    </tr>\n",
       "    <tr>\n",
       "      <th>32</th>\n",
       "      <td>Unavail</td>\n",
       "      <td>When</td>\n",
       "      <td>100</td>\n",
       "      <td>70</td>\n",
       "      <td>70.0</td>\n",
       "      <td>C: Lia merilis software tahun 2000.\\nQ: Kapan ...</td>\n",
       "    </tr>\n",
       "    <tr>\n",
       "      <th>33</th>\n",
       "      <td>Unavail</td>\n",
       "      <td>Where</td>\n",
       "      <td>100</td>\n",
       "      <td>68</td>\n",
       "      <td>68.0</td>\n",
       "      <td>C: Johnny merilis drama di Kosta Rika.\\nQ: Di ...</td>\n",
       "    </tr>\n",
       "    <tr>\n",
       "      <th>34</th>\n",
       "      <td>Unavail</td>\n",
       "      <td>Why</td>\n",
       "      <td>100</td>\n",
       "      <td>75</td>\n",
       "      <td>75.0</td>\n",
       "      <td>C: Hendrik merilis serial karena kebutuhan.\\nQ...</td>\n",
       "    </tr>\n",
       "    <tr>\n",
       "      <th>35</th>\n",
       "      <td>Unavail</td>\n",
       "      <td>How</td>\n",
       "      <td>100</td>\n",
       "      <td>70</td>\n",
       "      <td>70.0</td>\n",
       "      <td>C: Bianca merilis truk sebanyak 7 kali.\\nQ: Be...</td>\n",
       "    </tr>\n",
       "    <tr>\n",
       "      <th>36</th>\n",
       "      <td>Other</td>\n",
       "      <td>Who</td>\n",
       "      <td>97</td>\n",
       "      <td>42</td>\n",
       "      <td>43.298969</td>\n",
       "      <td>C: Jacob adalah sepupu Frans.\\nQ: Siapa kakak ...</td>\n",
       "    </tr>\n",
       "    <tr>\n",
       "      <th>37</th>\n",
       "      <td>Other</td>\n",
       "      <td>What</td>\n",
       "      <td>100</td>\n",
       "      <td>36</td>\n",
       "      <td>36.0</td>\n",
       "      <td>C: Wikia adalah puisi yang dibuat oleh Angelic...</td>\n",
       "    </tr>\n",
       "    <tr>\n",
       "      <th>38</th>\n",
       "      <td>Other</td>\n",
       "      <td>When</td>\n",
       "      <td>100</td>\n",
       "      <td>40</td>\n",
       "      <td>40.0</td>\n",
       "      <td>C: Samuel lahir pada tahun 1980.\\nQ: Kapan Sam...</td>\n",
       "    </tr>\n",
       "    <tr>\n",
       "      <th>39</th>\n",
       "      <td>Other</td>\n",
       "      <td>Where</td>\n",
       "      <td>100</td>\n",
       "      <td>51</td>\n",
       "      <td>51.0</td>\n",
       "      <td>C: Tan menikah di Cile.\\nQ: Di mana Tan dibeba...</td>\n",
       "    </tr>\n",
       "    <tr>\n",
       "      <th>40</th>\n",
       "      <td>Other</td>\n",
       "      <td>Why</td>\n",
       "      <td>100</td>\n",
       "      <td>32</td>\n",
       "      <td>32.0</td>\n",
       "      <td>C: Kevin meninggal karena kebutuhan.\\nQ: Menga...</td>\n",
       "    </tr>\n",
       "    <tr>\n",
       "      <th>41</th>\n",
       "      <td>Other</td>\n",
       "      <td>How</td>\n",
       "      <td>100</td>\n",
       "      <td>71</td>\n",
       "      <td>71.0</td>\n",
       "      <td>C: Dewi merilis lukisan sebanyak 1 kali.\\nQ: B...</td>\n",
       "    </tr>\n",
       "  </tbody>\n",
       "</table>\n",
       "</div>"
      ],
      "text/plain": [
       "                      type   qtag testcases fails  fail_rate  \\\n",
       "0   Negation - in question    Who       100     0        0.0   \n",
       "1   Negation - in question   What       100     1        1.0   \n",
       "2   Negation - in question   When       100     0        0.0   \n",
       "3   Negation - in question  Where       100     0        0.0   \n",
       "4   Negation - in question    Why       100     0        0.0   \n",
       "5   Negation - in question    How       100     0        0.0   \n",
       "6    Negation - in context    Who       100    28       28.0   \n",
       "7    Negation - in context   What       100     0        0.0   \n",
       "8    Negation - in context   When       100   100      100.0   \n",
       "9    Negation - in context  Where       100    66       66.0   \n",
       "10   Negation - in context    Why       100     0        0.0   \n",
       "11   Negation - in context    How       100    83       83.0   \n",
       "12                 Antonym    Who       100    29       29.0   \n",
       "13                 Antonym   What       100     0        0.0   \n",
       "14                 Antonym   When       100    25       25.0   \n",
       "15                 Antonym  Where       100    31       31.0   \n",
       "16                 Antonym    Why       100     0        0.0   \n",
       "17                 Antonym    How       100    60       60.0   \n",
       "18             Entity swap    Who       100    19       19.0   \n",
       "19             Entity swap   What        99     5   5.050505   \n",
       "20             Entity swap   When       100    53       53.0   \n",
       "21             Entity swap  Where       100    66       66.0   \n",
       "22             Entity swap    Why       100    63       63.0   \n",
       "23             Entity swap    How       100    38       38.0   \n",
       "24                   Q tag    Who       100    17       17.0   \n",
       "25                   Q tag   What       100    47       47.0   \n",
       "26                   Q tag   When       100    72       72.0   \n",
       "27                   Q tag  Where       100    53       53.0   \n",
       "28                   Q tag    Why       100    11       11.0   \n",
       "29                   Q tag    How       100     2        2.0   \n",
       "30                 Unavail    Who       100    70       70.0   \n",
       "31                 Unavail   What       100    71       71.0   \n",
       "32                 Unavail   When       100    70       70.0   \n",
       "33                 Unavail  Where       100    68       68.0   \n",
       "34                 Unavail    Why       100    75       75.0   \n",
       "35                 Unavail    How       100    70       70.0   \n",
       "36                   Other    Who        97    42  43.298969   \n",
       "37                   Other   What       100    36       36.0   \n",
       "38                   Other   When       100    40       40.0   \n",
       "39                   Other  Where       100    51       51.0   \n",
       "40                   Other    Why       100    32       32.0   \n",
       "41                   Other    How       100    71       71.0   \n",
       "\n",
       "                                        example_fails  \n",
       "0                                                 N/A  \n",
       "1   C: Wikia dilaksanakan oleh Ferry.\\nQ: Apa yang...  \n",
       "2                                                 N/A  \n",
       "3                                                 N/A  \n",
       "4                                                 N/A  \n",
       "5                                                 N/A  \n",
       "6   C: Wikia tidak ditulis oleh Tiara.\\nQ: Siapa y...  \n",
       "7                                                 N/A  \n",
       "8   C: Wikia belum dirancang pada 1990.\\nQ: Kapan ...  \n",
       "9   C: Wikia bukan dirancang di Guyana.\\nQ: Di man...  \n",
       "10                                                N/A  \n",
       "11  C: Wikia tidak ditulis selama 3 tahun.\\nQ: Ber...  \n",
       "12  C: ('Denny mendapatkan pekerjaan berat.', 'Sia...  \n",
       "13                                                N/A  \n",
       "14  C: ('Organisasi termahal didirikan tahun 2001....  \n",
       "15  C: ('Organisasi termahal didirikan di Ekuador....  \n",
       "16                                                N/A  \n",
       "17  C: ('Organisasi berat dibekukan 2 kali.', 'Ber...  \n",
       "18  C: Linda adalah senat Korea Utara.\\nQ: Siapa s...  \n",
       "19  C: Hibria adalah sepatu produksi Azerbaijan.\\n...  \n",
       "20  C: Ana lahir pada tahun 1995.\\nQ: Kapan Lisa l...  \n",
       "21  C: Yangsan terletak di Korea Selatan.\\nQ: Di m...  \n",
       "22  C: Karina sukses karena rajin bekerja.\\nQ: Men...  \n",
       "23  C: Penduduk Slovenia berjumlah 49 juta.\\nQ: Be...  \n",
       "24  C: ('Wikia dibentuk pada Agustus 1990.', 'Siap...  \n",
       "25  C: Selandia Baru memiliki 3 jenis lembaga peme...  \n",
       "26  C: Gita berperang di Bosnia dan Herzegovina.\\n...  \n",
       "27  C: Johnny menikah pada tahun 1972.\\nQ: Di mana...  \n",
       "28  C: ('Wikia dibangun pada Agustus 1990.', 'Meng...  \n",
       "29  C: Wikia dilaksanakan di Guinea-Bissau.\\nQ: Be...  \n",
       "30  C: Alice adalah tokoh asal Portugal.\\nQ: Siapa...  \n",
       "31  C: Hibria adalah drama produksi Iran.\\nQ: Apa ...  \n",
       "32  C: Lia merilis software tahun 2000.\\nQ: Kapan ...  \n",
       "33  C: Johnny merilis drama di Kosta Rika.\\nQ: Di ...  \n",
       "34  C: Hendrik merilis serial karena kebutuhan.\\nQ...  \n",
       "35  C: Bianca merilis truk sebanyak 7 kali.\\nQ: Be...  \n",
       "36  C: Jacob adalah sepupu Frans.\\nQ: Siapa kakak ...  \n",
       "37  C: Wikia adalah puisi yang dibuat oleh Angelic...  \n",
       "38  C: Samuel lahir pada tahun 1980.\\nQ: Kapan Sam...  \n",
       "39  C: Tan menikah di Cile.\\nQ: Di mana Tan dibeba...  \n",
       "40  C: Kevin meninggal karena kebutuhan.\\nQ: Menga...  \n",
       "41  C: Dewi merilis lukisan sebanyak 1 kali.\\nQ: B...  "
      ]
     },
     "execution_count": 64,
     "metadata": {},
     "output_type": "execute_result"
    }
   ],
   "source": [
    "df_summary"
   ]
  },
  {
   "cell_type": "code",
   "execution_count": 65,
   "metadata": {},
   "outputs": [],
   "source": [
    "df_summary.to_csv('checklist_result/' + output_name + '_' + seed + '.csv', index=False)"
   ]
  },
  {
   "cell_type": "code",
   "execution_count": null,
   "metadata": {},
   "outputs": [],
   "source": []
  }
 ],
 "metadata": {
  "interpreter": {
   "hash": "a5327df916e28a92ef14316b04e90d1c5fe041cc30137dce2d1fb4695c761ebe"
  },
  "kernelspec": {
   "display_name": "Python 3.8.11 64-bit ('qgen': conda)",
   "language": "python",
   "name": "python3"
  },
  "language_info": {
   "codemirror_mode": {
    "name": "ipython",
    "version": 3
   },
   "file_extension": ".py",
   "mimetype": "text/x-python",
   "name": "python",
   "nbconvert_exporter": "python",
   "pygments_lexer": "ipython3",
   "version": "3.8.11"
  },
  "orig_nbformat": 4
 },
 "nbformat": 4,
 "nbformat_minor": 2
}
